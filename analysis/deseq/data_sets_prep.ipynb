{
  "cells": [
    {
      "cell_type": "code",
      "source": [
        "import pandas as pd\n",
        "import re\n",
        "import numpy as np\n",
        "import seaborn as sns\n",
        "sns.set()\n",
        "import matplotlib.pyplot as plt\n",
        "%matplotlib inline\n",
        "import matplotlib as mpl\n",
        "mpl.rcParams['figure.dpi']= 160\n",
        "import matplotlib.pyplot as plt\n",
        "\n",
        "\n",
        "days_list={16, 18, 21, 21.5, 23, 23.5, 24, 25, 32, 33, 35, 35.5, 37, 37.5, 38, 39, 46, 47, 50, 50.5, 52, 52.5, 53, 54}"
      ],
      "outputs": [],
      "execution_count": 1,
      "metadata": {
        "execution": {
          "iopub.execute_input": "2021-11-24T01:09:12.222Z",
          "iopub.status.busy": "2021-11-24T01:09:12.217Z",
          "iopub.status.idle": "2021-11-24T01:09:13.153Z",
          "shell.execute_reply": "2021-11-24T01:09:13.172Z"
        }
      }
    },
    {
      "cell_type": "code",
      "source": [
        "counts=pd.read_csv('combined_data/counts.csv', index_col=0)\n",
        "counts.index.name=None\n",
        "counts.head()"
      ],
      "outputs": [
        {
          "output_type": "execute_result",
          "execution_count": 2,
          "data": {
            "text/plain": "          1     2      3      4      5      6      7      8      9     10  \\\nOTU_1  1830   199    489   1056   1474   3227   7637   4237   5597   6129   \nOTU_2  2929  9880  24422  17184  11193  15984  21915  13035  15798  14811   \nOTU_3   213   555    878   4879   5842   8939  11968  12345   7441   4962   \nOTU_4     9    32    205    264    203    371   1124    906   1159    988   \nOTU_5     2     7     71     84    895   1121   2338   2171   3073   3616   \n\n       ...    660    661    662    663    664    665    666    667    668  \\\nOTU_1  ...  10032  14865  16788  23613  20729  37601  38306  21944  12971   \nOTU_2  ...  13360  13929  22476  12834  13951   7751   8666   5790   8536   \nOTU_3  ...     11      0     21     36     26    120     21    502   1034   \nOTU_4  ...     28     20     49     22     19     25     23     24     20   \nOTU_5  ...    339   1234   3538   4023   4004   1284   6406   6281   3988   \n\n         669  \nOTU_1  24560  \nOTU_2  18432  \nOTU_3   5944  \nOTU_4     45  \nOTU_5  10769  \n\n[5 rows x 669 columns]",
            "text/html": "<div>\n<style scoped>\n    .dataframe tbody tr th:only-of-type {\n        vertical-align: middle;\n    }\n\n    .dataframe tbody tr th {\n        vertical-align: top;\n    }\n\n    .dataframe thead th {\n        text-align: right;\n    }\n</style>\n<table border=\"1\" class=\"dataframe\">\n  <thead>\n    <tr style=\"text-align: right;\">\n      <th></th>\n      <th>1</th>\n      <th>2</th>\n      <th>3</th>\n      <th>4</th>\n      <th>5</th>\n      <th>6</th>\n      <th>7</th>\n      <th>8</th>\n      <th>9</th>\n      <th>10</th>\n      <th>...</th>\n      <th>660</th>\n      <th>661</th>\n      <th>662</th>\n      <th>663</th>\n      <th>664</th>\n      <th>665</th>\n      <th>666</th>\n      <th>667</th>\n      <th>668</th>\n      <th>669</th>\n    </tr>\n  </thead>\n  <tbody>\n    <tr>\n      <th>OTU_1</th>\n      <td>1830</td>\n      <td>199</td>\n      <td>489</td>\n      <td>1056</td>\n      <td>1474</td>\n      <td>3227</td>\n      <td>7637</td>\n      <td>4237</td>\n      <td>5597</td>\n      <td>6129</td>\n      <td>...</td>\n      <td>10032</td>\n      <td>14865</td>\n      <td>16788</td>\n      <td>23613</td>\n      <td>20729</td>\n      <td>37601</td>\n      <td>38306</td>\n      <td>21944</td>\n      <td>12971</td>\n      <td>24560</td>\n    </tr>\n    <tr>\n      <th>OTU_2</th>\n      <td>2929</td>\n      <td>9880</td>\n      <td>24422</td>\n      <td>17184</td>\n      <td>11193</td>\n      <td>15984</td>\n      <td>21915</td>\n      <td>13035</td>\n      <td>15798</td>\n      <td>14811</td>\n      <td>...</td>\n      <td>13360</td>\n      <td>13929</td>\n      <td>22476</td>\n      <td>12834</td>\n      <td>13951</td>\n      <td>7751</td>\n      <td>8666</td>\n      <td>5790</td>\n      <td>8536</td>\n      <td>18432</td>\n    </tr>\n    <tr>\n      <th>OTU_3</th>\n      <td>213</td>\n      <td>555</td>\n      <td>878</td>\n      <td>4879</td>\n      <td>5842</td>\n      <td>8939</td>\n      <td>11968</td>\n      <td>12345</td>\n      <td>7441</td>\n      <td>4962</td>\n      <td>...</td>\n      <td>11</td>\n      <td>0</td>\n      <td>21</td>\n      <td>36</td>\n      <td>26</td>\n      <td>120</td>\n      <td>21</td>\n      <td>502</td>\n      <td>1034</td>\n      <td>5944</td>\n    </tr>\n    <tr>\n      <th>OTU_4</th>\n      <td>9</td>\n      <td>32</td>\n      <td>205</td>\n      <td>264</td>\n      <td>203</td>\n      <td>371</td>\n      <td>1124</td>\n      <td>906</td>\n      <td>1159</td>\n      <td>988</td>\n      <td>...</td>\n      <td>28</td>\n      <td>20</td>\n      <td>49</td>\n      <td>22</td>\n      <td>19</td>\n      <td>25</td>\n      <td>23</td>\n      <td>24</td>\n      <td>20</td>\n      <td>45</td>\n    </tr>\n    <tr>\n      <th>OTU_5</th>\n      <td>2</td>\n      <td>7</td>\n      <td>71</td>\n      <td>84</td>\n      <td>895</td>\n      <td>1121</td>\n      <td>2338</td>\n      <td>2171</td>\n      <td>3073</td>\n      <td>3616</td>\n      <td>...</td>\n      <td>339</td>\n      <td>1234</td>\n      <td>3538</td>\n      <td>4023</td>\n      <td>4004</td>\n      <td>1284</td>\n      <td>6406</td>\n      <td>6281</td>\n      <td>3988</td>\n      <td>10769</td>\n    </tr>\n  </tbody>\n</table>\n<p>5 rows × 669 columns</p>\n</div>"
          },
          "metadata": {}
        }
      ],
      "execution_count": 2,
      "metadata": {
        "execution": {
          "iopub.execute_input": "2021-11-24T01:09:13.167Z",
          "iopub.status.busy": "2021-11-24T01:09:13.161Z",
          "iopub.status.idle": "2021-11-24T01:09:13.242Z",
          "shell.execute_reply": "2021-11-24T01:09:13.276Z"
        },
        "scrolled": false
      }
    },
    {
      "cell_type": "code",
      "source": [
        "taxonomy=pd.read_csv('otu_taxonomy.csv', index_col=0)\n",
        "taxonomy=taxonomy.fillna('unknown')\n",
        "taxonomy.head()"
      ],
      "outputs": [
        {
          "output_type": "error",
          "ename": "FileNotFoundError",
          "evalue": "[Errno 2] No such file or directory: 'otu_taxonomy.csv'",
          "traceback": [
            "\u001b[0;31m---------------------------------------------------------------------------\u001b[0m",
            "\u001b[0;31mFileNotFoundError\u001b[0m                         Traceback (most recent call last)",
            "\u001b[0;32m<ipython-input-3-706921c72326>\u001b[0m in \u001b[0;36m<module>\u001b[0;34m\u001b[0m\n\u001b[0;32m----> 1\u001b[0;31m \u001b[0mtaxonomy\u001b[0m\u001b[0;34m=\u001b[0m\u001b[0mpd\u001b[0m\u001b[0;34m.\u001b[0m\u001b[0mread_csv\u001b[0m\u001b[0;34m(\u001b[0m\u001b[0;34m'otu_taxonomy.csv'\u001b[0m\u001b[0;34m,\u001b[0m \u001b[0mindex_col\u001b[0m\u001b[0;34m=\u001b[0m\u001b[0;36m0\u001b[0m\u001b[0;34m)\u001b[0m\u001b[0;34m\u001b[0m\u001b[0;34m\u001b[0m\u001b[0m\n\u001b[0m\u001b[1;32m      2\u001b[0m \u001b[0mtaxonomy\u001b[0m\u001b[0;34m=\u001b[0m\u001b[0mtaxonomy\u001b[0m\u001b[0;34m.\u001b[0m\u001b[0mfillna\u001b[0m\u001b[0;34m(\u001b[0m\u001b[0;34m'unknown'\u001b[0m\u001b[0;34m)\u001b[0m\u001b[0;34m\u001b[0m\u001b[0;34m\u001b[0m\u001b[0m\n\u001b[1;32m      3\u001b[0m \u001b[0mtaxonomy\u001b[0m\u001b[0;34m.\u001b[0m\u001b[0mhead\u001b[0m\u001b[0;34m(\u001b[0m\u001b[0;34m)\u001b[0m\u001b[0;34m\u001b[0m\u001b[0;34m\u001b[0m\u001b[0m\n",
            "\u001b[0;32m~/anaconda3/envs/py3/lib/python3.7/site-packages/pandas/io/parsers.py\u001b[0m in \u001b[0;36mread_csv\u001b[0;34m(filepath_or_buffer, sep, delimiter, header, names, index_col, usecols, squeeze, prefix, mangle_dupe_cols, dtype, engine, converters, true_values, false_values, skipinitialspace, skiprows, skipfooter, nrows, na_values, keep_default_na, na_filter, verbose, skip_blank_lines, parse_dates, infer_datetime_format, keep_date_col, date_parser, dayfirst, cache_dates, iterator, chunksize, compression, thousands, decimal, lineterminator, quotechar, quoting, doublequote, escapechar, comment, encoding, dialect, error_bad_lines, warn_bad_lines, delim_whitespace, low_memory, memory_map, float_precision, storage_options)\u001b[0m\n\u001b[1;32m    608\u001b[0m     \u001b[0mkwds\u001b[0m\u001b[0;34m.\u001b[0m\u001b[0mupdate\u001b[0m\u001b[0;34m(\u001b[0m\u001b[0mkwds_defaults\u001b[0m\u001b[0;34m)\u001b[0m\u001b[0;34m\u001b[0m\u001b[0;34m\u001b[0m\u001b[0m\n\u001b[1;32m    609\u001b[0m \u001b[0;34m\u001b[0m\u001b[0m\n\u001b[0;32m--> 610\u001b[0;31m     \u001b[0;32mreturn\u001b[0m \u001b[0m_read\u001b[0m\u001b[0;34m(\u001b[0m\u001b[0mfilepath_or_buffer\u001b[0m\u001b[0;34m,\u001b[0m \u001b[0mkwds\u001b[0m\u001b[0;34m)\u001b[0m\u001b[0;34m\u001b[0m\u001b[0;34m\u001b[0m\u001b[0m\n\u001b[0m\u001b[1;32m    611\u001b[0m \u001b[0;34m\u001b[0m\u001b[0m\n\u001b[1;32m    612\u001b[0m \u001b[0;34m\u001b[0m\u001b[0m\n",
            "\u001b[0;32m~/anaconda3/envs/py3/lib/python3.7/site-packages/pandas/io/parsers.py\u001b[0m in \u001b[0;36m_read\u001b[0;34m(filepath_or_buffer, kwds)\u001b[0m\n\u001b[1;32m    460\u001b[0m \u001b[0;34m\u001b[0m\u001b[0m\n\u001b[1;32m    461\u001b[0m     \u001b[0;31m# Create the parser.\u001b[0m\u001b[0;34m\u001b[0m\u001b[0;34m\u001b[0m\u001b[0;34m\u001b[0m\u001b[0m\n\u001b[0;32m--> 462\u001b[0;31m     \u001b[0mparser\u001b[0m \u001b[0;34m=\u001b[0m \u001b[0mTextFileReader\u001b[0m\u001b[0;34m(\u001b[0m\u001b[0mfilepath_or_buffer\u001b[0m\u001b[0;34m,\u001b[0m \u001b[0;34m**\u001b[0m\u001b[0mkwds\u001b[0m\u001b[0;34m)\u001b[0m\u001b[0;34m\u001b[0m\u001b[0;34m\u001b[0m\u001b[0m\n\u001b[0m\u001b[1;32m    463\u001b[0m \u001b[0;34m\u001b[0m\u001b[0m\n\u001b[1;32m    464\u001b[0m     \u001b[0;32mif\u001b[0m \u001b[0mchunksize\u001b[0m \u001b[0;32mor\u001b[0m \u001b[0miterator\u001b[0m\u001b[0;34m:\u001b[0m\u001b[0;34m\u001b[0m\u001b[0;34m\u001b[0m\u001b[0m\n",
            "\u001b[0;32m~/anaconda3/envs/py3/lib/python3.7/site-packages/pandas/io/parsers.py\u001b[0m in \u001b[0;36m__init__\u001b[0;34m(self, f, engine, **kwds)\u001b[0m\n\u001b[1;32m    817\u001b[0m             \u001b[0mself\u001b[0m\u001b[0;34m.\u001b[0m\u001b[0moptions\u001b[0m\u001b[0;34m[\u001b[0m\u001b[0;34m\"has_index_names\"\u001b[0m\u001b[0;34m]\u001b[0m \u001b[0;34m=\u001b[0m \u001b[0mkwds\u001b[0m\u001b[0;34m[\u001b[0m\u001b[0;34m\"has_index_names\"\u001b[0m\u001b[0;34m]\u001b[0m\u001b[0;34m\u001b[0m\u001b[0;34m\u001b[0m\u001b[0m\n\u001b[1;32m    818\u001b[0m \u001b[0;34m\u001b[0m\u001b[0m\n\u001b[0;32m--> 819\u001b[0;31m         \u001b[0mself\u001b[0m\u001b[0;34m.\u001b[0m\u001b[0m_engine\u001b[0m \u001b[0;34m=\u001b[0m \u001b[0mself\u001b[0m\u001b[0;34m.\u001b[0m\u001b[0m_make_engine\u001b[0m\u001b[0;34m(\u001b[0m\u001b[0mself\u001b[0m\u001b[0;34m.\u001b[0m\u001b[0mengine\u001b[0m\u001b[0;34m)\u001b[0m\u001b[0;34m\u001b[0m\u001b[0;34m\u001b[0m\u001b[0m\n\u001b[0m\u001b[1;32m    820\u001b[0m \u001b[0;34m\u001b[0m\u001b[0m\n\u001b[1;32m    821\u001b[0m     \u001b[0;32mdef\u001b[0m \u001b[0mclose\u001b[0m\u001b[0;34m(\u001b[0m\u001b[0mself\u001b[0m\u001b[0;34m)\u001b[0m\u001b[0;34m:\u001b[0m\u001b[0;34m\u001b[0m\u001b[0;34m\u001b[0m\u001b[0m\n",
            "\u001b[0;32m~/anaconda3/envs/py3/lib/python3.7/site-packages/pandas/io/parsers.py\u001b[0m in \u001b[0;36m_make_engine\u001b[0;34m(self, engine)\u001b[0m\n\u001b[1;32m   1048\u001b[0m             )\n\u001b[1;32m   1049\u001b[0m         \u001b[0;31m# error: Too many arguments for \"ParserBase\"\u001b[0m\u001b[0;34m\u001b[0m\u001b[0;34m\u001b[0m\u001b[0;34m\u001b[0m\u001b[0m\n\u001b[0;32m-> 1050\u001b[0;31m         \u001b[0;32mreturn\u001b[0m \u001b[0mmapping\u001b[0m\u001b[0;34m[\u001b[0m\u001b[0mengine\u001b[0m\u001b[0;34m]\u001b[0m\u001b[0;34m(\u001b[0m\u001b[0mself\u001b[0m\u001b[0;34m.\u001b[0m\u001b[0mf\u001b[0m\u001b[0;34m,\u001b[0m \u001b[0;34m**\u001b[0m\u001b[0mself\u001b[0m\u001b[0;34m.\u001b[0m\u001b[0moptions\u001b[0m\u001b[0;34m)\u001b[0m  \u001b[0;31m# type: ignore[call-arg]\u001b[0m\u001b[0;34m\u001b[0m\u001b[0;34m\u001b[0m\u001b[0m\n\u001b[0m\u001b[1;32m   1051\u001b[0m \u001b[0;34m\u001b[0m\u001b[0m\n\u001b[1;32m   1052\u001b[0m     \u001b[0;32mdef\u001b[0m \u001b[0m_failover_to_python\u001b[0m\u001b[0;34m(\u001b[0m\u001b[0mself\u001b[0m\u001b[0;34m)\u001b[0m\u001b[0;34m:\u001b[0m\u001b[0;34m\u001b[0m\u001b[0;34m\u001b[0m\u001b[0m\n",
            "\u001b[0;32m~/anaconda3/envs/py3/lib/python3.7/site-packages/pandas/io/parsers.py\u001b[0m in \u001b[0;36m__init__\u001b[0;34m(self, src, **kwds)\u001b[0m\n\u001b[1;32m   1865\u001b[0m \u001b[0;34m\u001b[0m\u001b[0m\n\u001b[1;32m   1866\u001b[0m         \u001b[0;31m# open handles\u001b[0m\u001b[0;34m\u001b[0m\u001b[0;34m\u001b[0m\u001b[0;34m\u001b[0m\u001b[0m\n\u001b[0;32m-> 1867\u001b[0;31m         \u001b[0mself\u001b[0m\u001b[0;34m.\u001b[0m\u001b[0m_open_handles\u001b[0m\u001b[0;34m(\u001b[0m\u001b[0msrc\u001b[0m\u001b[0;34m,\u001b[0m \u001b[0mkwds\u001b[0m\u001b[0;34m)\u001b[0m\u001b[0;34m\u001b[0m\u001b[0;34m\u001b[0m\u001b[0m\n\u001b[0m\u001b[1;32m   1868\u001b[0m         \u001b[0;32massert\u001b[0m \u001b[0mself\u001b[0m\u001b[0;34m.\u001b[0m\u001b[0mhandles\u001b[0m \u001b[0;32mis\u001b[0m \u001b[0;32mnot\u001b[0m \u001b[0;32mNone\u001b[0m\u001b[0;34m\u001b[0m\u001b[0;34m\u001b[0m\u001b[0m\n\u001b[1;32m   1869\u001b[0m         \u001b[0;32mfor\u001b[0m \u001b[0mkey\u001b[0m \u001b[0;32min\u001b[0m \u001b[0;34m(\u001b[0m\u001b[0;34m\"storage_options\"\u001b[0m\u001b[0;34m,\u001b[0m \u001b[0;34m\"encoding\"\u001b[0m\u001b[0;34m,\u001b[0m \u001b[0;34m\"memory_map\"\u001b[0m\u001b[0;34m,\u001b[0m \u001b[0;34m\"compression\"\u001b[0m\u001b[0;34m)\u001b[0m\u001b[0;34m:\u001b[0m\u001b[0;34m\u001b[0m\u001b[0;34m\u001b[0m\u001b[0m\n",
            "\u001b[0;32m~/anaconda3/envs/py3/lib/python3.7/site-packages/pandas/io/parsers.py\u001b[0m in \u001b[0;36m_open_handles\u001b[0;34m(self, src, kwds)\u001b[0m\n\u001b[1;32m   1366\u001b[0m             \u001b[0mcompression\u001b[0m\u001b[0;34m=\u001b[0m\u001b[0mkwds\u001b[0m\u001b[0;34m.\u001b[0m\u001b[0mget\u001b[0m\u001b[0;34m(\u001b[0m\u001b[0;34m\"compression\"\u001b[0m\u001b[0;34m,\u001b[0m \u001b[0;32mNone\u001b[0m\u001b[0;34m)\u001b[0m\u001b[0;34m,\u001b[0m\u001b[0;34m\u001b[0m\u001b[0;34m\u001b[0m\u001b[0m\n\u001b[1;32m   1367\u001b[0m             \u001b[0mmemory_map\u001b[0m\u001b[0;34m=\u001b[0m\u001b[0mkwds\u001b[0m\u001b[0;34m.\u001b[0m\u001b[0mget\u001b[0m\u001b[0;34m(\u001b[0m\u001b[0;34m\"memory_map\"\u001b[0m\u001b[0;34m,\u001b[0m \u001b[0;32mFalse\u001b[0m\u001b[0;34m)\u001b[0m\u001b[0;34m,\u001b[0m\u001b[0;34m\u001b[0m\u001b[0;34m\u001b[0m\u001b[0m\n\u001b[0;32m-> 1368\u001b[0;31m             \u001b[0mstorage_options\u001b[0m\u001b[0;34m=\u001b[0m\u001b[0mkwds\u001b[0m\u001b[0;34m.\u001b[0m\u001b[0mget\u001b[0m\u001b[0;34m(\u001b[0m\u001b[0;34m\"storage_options\"\u001b[0m\u001b[0;34m,\u001b[0m \u001b[0;32mNone\u001b[0m\u001b[0;34m)\u001b[0m\u001b[0;34m,\u001b[0m\u001b[0;34m\u001b[0m\u001b[0;34m\u001b[0m\u001b[0m\n\u001b[0m\u001b[1;32m   1369\u001b[0m         )\n\u001b[1;32m   1370\u001b[0m \u001b[0;34m\u001b[0m\u001b[0m\n",
            "\u001b[0;32m~/anaconda3/envs/py3/lib/python3.7/site-packages/pandas/io/common.py\u001b[0m in \u001b[0;36mget_handle\u001b[0;34m(path_or_buf, mode, encoding, compression, memory_map, is_text, errors, storage_options)\u001b[0m\n\u001b[1;32m    645\u001b[0m                 \u001b[0mencoding\u001b[0m\u001b[0;34m=\u001b[0m\u001b[0mioargs\u001b[0m\u001b[0;34m.\u001b[0m\u001b[0mencoding\u001b[0m\u001b[0;34m,\u001b[0m\u001b[0;34m\u001b[0m\u001b[0;34m\u001b[0m\u001b[0m\n\u001b[1;32m    646\u001b[0m                 \u001b[0merrors\u001b[0m\u001b[0;34m=\u001b[0m\u001b[0merrors\u001b[0m\u001b[0;34m,\u001b[0m\u001b[0;34m\u001b[0m\u001b[0;34m\u001b[0m\u001b[0m\n\u001b[0;32m--> 647\u001b[0;31m                 \u001b[0mnewline\u001b[0m\u001b[0;34m=\u001b[0m\u001b[0;34m\"\"\u001b[0m\u001b[0;34m,\u001b[0m\u001b[0;34m\u001b[0m\u001b[0;34m\u001b[0m\u001b[0m\n\u001b[0m\u001b[1;32m    648\u001b[0m             )\n\u001b[1;32m    649\u001b[0m         \u001b[0;32melse\u001b[0m\u001b[0;34m:\u001b[0m\u001b[0;34m\u001b[0m\u001b[0;34m\u001b[0m\u001b[0m\n",
            "\u001b[0;31mFileNotFoundError\u001b[0m: [Errno 2] No such file or directory: 'otu_taxonomy.csv'"
          ]
        }
      ],
      "execution_count": 3,
      "metadata": {
        "execution": {
          "iopub.execute_input": "2021-11-24T01:09:13.256Z",
          "iopub.status.busy": "2021-11-24T01:09:13.250Z",
          "iopub.status.idle": "2021-11-23T00:42:05.165Z",
          "shell.execute_reply": "2021-11-23T00:42:05.244Z"
        },
        "jupyter": {
          "outputs_hidden": false,
          "source_hidden": false
        },
        "nteract": {
          "transient": {
            "deleting": false
          }
        }
      }
    },
    {
      "cell_type": "code",
      "source": [
        "taxonomy_temp=taxonomy.copy()\n",
        "taxonomy_temp.insert(8, 'OTU', pd.Series(np.array(taxonomy.index), index=taxonomy.index))\n",
        "index=pd.MultiIndex.from_frame(taxonomy_temp)\n",
        "meta=pd.read_csv('combined_data/metadata_modified_window.csv', index_col=0)\n",
        "meta.index.name = 'sample'\n",
        "meta.reset_index(inplace=True)\n",
        "columns=pd.MultiIndex.from_frame(meta)\n",
        "c_names=['sample', 'isIncluded', 'subjectID', 'measurementID', 'perturbID', 'window', 'cohort']\n",
        "print(columns)\n",
        "print(c_names)"
      ],
      "outputs": [],
      "execution_count": null,
      "metadata": {
        "execution": {
          "iopub.execute_input": "2021-11-23T00:42:05.180Z",
          "iopub.status.busy": "2021-11-23T00:42:05.173Z",
          "iopub.status.idle": "2021-11-23T00:42:05.195Z",
          "shell.execute_reply": "2021-11-23T00:42:05.251Z"
        }
      }
    },
    {
      "cell_type": "code",
      "source": [
        "df=pd.DataFrame(data=counts.to_numpy(), index=index, columns=columns)\n",
        "df_main=df.loc[:,df.columns.get_level_values(3).isin(days_list)].groupby(level=['cohort', 'subjectID', 'perturbID', 'window'], axis=1, dropna=False).sum()\n",
        "df_main.head()"
      ],
      "outputs": [],
      "execution_count": null,
      "metadata": {
        "execution": {
          "iopub.execute_input": "2021-11-23T00:42:05.215Z",
          "iopub.status.busy": "2021-11-23T00:42:05.208Z",
          "iopub.status.idle": "2021-11-23T00:42:05.266Z",
          "shell.execute_reply": "2021-11-23T00:42:05.254Z"
        },
        "scrolled": true
      }
    },
    {
      "cell_type": "code",
      "source": [],
      "outputs": [],
      "execution_count": null,
      "metadata": {
        "collapsed": true,
        "jupyter": {
          "source_hidden": false,
          "outputs_hidden": false
        },
        "nteract": {
          "transient": {
            "deleting": false
          }
        },
        "execution": {
          "iopub.status.busy": "2021-08-19T22:15:36.699Z",
          "iopub.execute_input": "2021-08-19T22:15:36.704Z",
          "iopub.status.idle": "2021-08-19T22:15:36.717Z",
          "shell.execute_reply": "2021-08-19T22:15:36.723Z"
        }
      }
    },
    {
      "cell_type": "code",
      "source": [
        "df_main = df_main.loc[:,df_main.columns.get_level_values(0)=='healthy']\n",
        "df_main.head()"
      ],
      "outputs": [],
      "execution_count": null,
      "metadata": {
        "jupyter": {
          "outputs_hidden": false,
          "source_hidden": false
        },
        "nteract": {
          "transient": {
            "deleting": false
          }
        },
        "tags": [],
        "execution": {
          "iopub.status.busy": "2021-11-23T00:42:05.296Z",
          "iopub.execute_input": "2021-11-23T00:42:05.303Z",
          "iopub.status.idle": "2021-11-23T00:42:05.318Z",
          "shell.execute_reply": "2021-11-23T00:42:05.440Z"
        }
      }
    },
    {
      "cell_type": "code",
      "source": [
        "index_out=df_main.index.get_level_values(5).values + ' ' + df_main.index.get_level_values(6).values + ' ' + df_main.index.get_level_values(8).values \n",
        "counts_out=pd.DataFrame(data=df_main.to_numpy(), index=index_out)\n",
        "counts_out.head()"
      ],
      "outputs": [],
      "execution_count": null,
      "metadata": {
        "execution": {
          "iopub.execute_input": "2021-11-23T00:42:05.335Z",
          "iopub.status.busy": "2021-11-23T00:42:05.329Z",
          "iopub.status.idle": "2021-11-23T00:42:05.348Z",
          "shell.execute_reply": "2021-11-23T00:42:05.443Z"
        },
        "jupyter": {
          "outputs_hidden": false,
          "source_hidden": false
        },
        "nteract": {
          "transient": {
            "deleting": false
          }
        }
      }
    },
    {
      "cell_type": "code",
      "source": [
        "meta_out=df_main.columns.to_frame(index=None)\n",
        "meta_out"
      ],
      "outputs": [],
      "execution_count": null,
      "metadata": {
        "execution": {
          "iopub.execute_input": "2021-11-23T00:42:05.362Z",
          "iopub.status.busy": "2021-11-23T00:42:05.357Z",
          "iopub.status.idle": "2021-11-23T00:42:05.374Z",
          "shell.execute_reply": "2021-11-23T00:42:05.445Z"
        },
        "jupyter": {
          "outputs_hidden": false,
          "source_hidden": false
        },
        "nteract": {
          "transient": {
            "deleting": false
          }
        },
        "scrolled": true
      }
    },
    {
      "cell_type": "code",
      "source": [
        "counts_out.to_csv('out/healthy_otu_counts.csv')\n",
        "meta_out.to_csv('out/healthy_otu_meta.csv')"
      ],
      "outputs": [],
      "execution_count": null,
      "metadata": {
        "execution": {
          "iopub.execute_input": "2021-11-23T00:42:05.386Z",
          "iopub.status.busy": "2021-11-23T00:42:05.382Z",
          "iopub.status.idle": "2021-11-23T00:42:05.398Z",
          "shell.execute_reply": "2021-11-23T00:42:05.448Z"
        },
        "jupyter": {
          "outputs_hidden": false,
          "source_hidden": false
        },
        "nteract": {
          "transient": {
            "deleting": false
          }
        }
      }
    },
    {
      "cell_type": "code",
      "source": [
        "df=pd.DataFrame(data=counts.to_numpy(), index=index, columns=columns)\n",
        "df_main=df.loc[:,df.columns.get_level_values(3).isin(days_list)].groupby(level=['cohort', 'subjectID', 'perturbID', 'window'], axis=1, dropna=False).sum()\n",
        "df_main = df_main.loc[:,df_main.columns.get_level_values(0)=='uc']\n",
        "#df_main = df_main.loc[:,df_main.columns.get_level_values(2)!=10]\n",
        "#df_main = df_main.loc[:,df_main.columns.get_level_values(2)!=6]\n",
        "\n",
        "index_out=df_main.index.get_level_values(5).values + ' ' + df_main.index.get_level_values(6).values + ' ' + df_main.index.get_level_values(8).values \n",
        "counts_out=pd.DataFrame(data=df_main.to_numpy(), index=index_out)\n",
        "\n",
        "meta_out=df_main.columns.to_frame(index=None)\n",
        "\n",
        "counts_out.to_csv('out/uc_otu_counts.csv')\n",
        "meta_out.to_csv('out/uc_otu_meta.csv')\n",
        "meta_out"
      ],
      "outputs": [],
      "execution_count": null,
      "metadata": {
        "scrolled": true,
        "execution": {
          "iopub.status.busy": "2021-11-23T00:42:05.407Z",
          "iopub.execute_input": "2021-11-23T00:42:05.411Z",
          "iopub.status.idle": "2021-11-23T00:42:05.423Z",
          "shell.execute_reply": "2021-11-23T00:42:05.451Z"
        }
      }
    },
    {
      "cell_type": "code",
      "source": [
        "df=pd.DataFrame(data=counts.to_numpy(), index=index, columns=columns)\n",
        "\n",
        "df=df.groupby(level=['phylum',\t'class',\t'order', 'family'], dropna=False).sum()\n",
        "df.head()\n",
        "\n",
        "df_main=df.loc[:,df.columns.get_level_values(3).isin(days_list)].groupby(level=['cohort', 'subjectID', 'perturbID', 'window'], axis=1, dropna=False).sum()\n",
        "\n",
        "df_main = df_main.loc[:,df_main.columns.get_level_values(0)=='healthy']\n",
        "\n",
        "\n",
        "top10=df_main.mean(1).sort_values(ascending=False)[0:10].index\n",
        "\n",
        "df_main_rel=df_main/df_main.sum()\n",
        "ax1 = df_main_rel.loc[top10].transpose().plot.bar(stacked=True)\n",
        "ax1.legend(loc='center left', bbox_to_anchor=(1, 0.5))\n",
        "plt.show()\n",
        "\n",
        "index_out=df_main.index.get_level_values(0).values + ' ' + df_main.index.get_level_values(1).values + ' ' + df_main.index.get_level_values(2).values + ' ' + df_main.index.get_level_values(3).values\n",
        "counts_out=pd.DataFrame(data=df_main.to_numpy(), index=index_out)\n",
        "\n",
        "meta_out=df_main.columns.to_frame(index=None)\n",
        "\n",
        "counts_out.to_csv('out/healthy_of_counts.csv')\n",
        "meta_out.to_csv('out/healthy_of_meta.csv')\n",
        "meta_out\n",
        "\n",
        "###\n",
        "\n",
        "df=pd.DataFrame(data=counts.to_numpy(), index=index, columns=columns)\n",
        "\n",
        "df=df.groupby(level=['phylum',\t'class',\t'order', 'family'], dropna=False).sum()\n",
        "df.head()\n",
        "\n",
        "df_main=df.loc[:,df.columns.get_level_values(3).isin(days_list)].groupby(level=['cohort', 'subjectID', 'perturbID', 'window'], axis=1, dropna=False).sum()\n",
        "\n",
        "df_main = df_main.loc[:,df_main.columns.get_level_values(0)=='uc']\n",
        "#df_main = df_main.loc[:,df_main.columns.get_level_values(2)!=10]\n",
        "#df_main = df_main.loc[:,df_main.columns.get_level_values(2)!=6]\n",
        "\n",
        "df_main_rel=df_main/df_main.sum()\n",
        "ax2 = df_main_rel.loc[top10].transpose().plot.bar(stacked=True)\n",
        "ax2.legend(loc='center left', bbox_to_anchor=(1, 0.5))\n",
        "plt.show()\n",
        "\n",
        "\n",
        "index_out=df_main.index.get_level_values(0).values + ' ' + df_main.index.get_level_values(1).values + ' ' + df_main.index.get_level_values(2).values + ' ' + df_main.index.get_level_values(3).values\n",
        "counts_out=pd.DataFrame(data=df_main.to_numpy(), index=index_out)\n",
        "\n",
        "meta_out=df_main.columns.to_frame(index=None)\n",
        "\n",
        "counts_out.to_csv('out/uc_of_counts.csv')\n",
        "meta_out.to_csv('out/uc_of_meta.csv')\n",
        "meta_out\n",
        "counts_out"
      ],
      "outputs": [],
      "execution_count": null,
      "metadata": {
        "execution": {
          "iopub.execute_input": "2021-11-23T00:42:05.435Z",
          "iopub.status.busy": "2021-11-23T00:42:05.431Z",
          "iopub.status.idle": "2021-11-23T00:42:06.911Z",
          "shell.execute_reply": "2021-11-23T00:42:07.075Z"
        },
        "scrolled": true
      }
    },
    {
      "cell_type": "code",
      "source": [
        "df=pd.DataFrame(data=counts.to_numpy(), index=index, columns=columns)\n",
        "\n",
        "df=df.groupby(level=['phylum'], dropna=False).sum()\n",
        "df.head()\n",
        "\n",
        "df_main=df.loc[:,df.columns.get_level_values(3).isin(days_list)].groupby(level=['cohort', 'subjectID', 'perturbID', 'window'], axis=1, dropna=False).sum()\n",
        "\n",
        "df_main = df_main.loc[:,df_main.columns.get_level_values(0)=='healthy']\n",
        "\n",
        "\n",
        "index_out=df_main.index.get_level_values(0).values\n",
        "counts_out=pd.DataFrame(data=df_main.to_numpy(), index=index_out)\n",
        "\n",
        "meta_out=df_main.columns.to_frame(index=None)\n",
        "\n",
        "counts_out.to_csv('out/healthy_phylum_counts.csv')\n",
        "meta_out.to_csv('out/healthy_phylum_meta.csv')\n",
        "meta_out\n",
        "\n",
        "###\n",
        "\n",
        "df=pd.DataFrame(data=counts.to_numpy(), index=index, columns=columns)\n",
        "\n",
        "df=df.groupby(level=['phylum'], dropna=False).sum()\n",
        "df.head()\n",
        "\n",
        "df_main=df.loc[:,df.columns.get_level_values(3).isin(days_list)].groupby(level=['cohort', 'subjectID', 'perturbID', 'window'], axis=1, dropna=False).sum()\n",
        "\n",
        "df_main = df_main.loc[:,df_main.columns.get_level_values(0)=='uc']\n",
        "\n",
        "\n",
        "index_out=df_main.index.get_level_values(0).values\n",
        "counts_out=pd.DataFrame(data=df_main.to_numpy(), index=index_out)\n",
        "\n",
        "meta_out=df_main.columns.to_frame(index=None)\n",
        "\n",
        "counts_out.to_csv('out/uc_phylum_counts.csv')\n",
        "meta_out.to_csv('out/uc_phylum_meta.csv')\n",
        "meta_out\n",
        "counts_out"
      ],
      "outputs": [],
      "execution_count": null,
      "metadata": {
        "execution": {
          "iopub.execute_input": "2021-11-23T00:42:06.932Z",
          "iopub.status.busy": "2021-11-23T00:42:06.924Z",
          "iopub.status.idle": "2021-11-23T00:42:06.972Z",
          "shell.execute_reply": "2021-11-23T00:42:07.077Z"
        },
        "jupyter": {
          "outputs_hidden": false,
          "source_hidden": false
        },
        "nteract": {
          "transient": {
            "deleting": false
          }
        }
      }
    },
    {
      "cell_type": "code",
      "source": [
        "meta_out"
      ],
      "outputs": [],
      "execution_count": null,
      "metadata": {
        "execution": {
          "iopub.execute_input": "2021-11-23T00:42:06.990Z",
          "iopub.status.busy": "2021-11-23T00:42:06.982Z",
          "iopub.status.idle": "2021-11-23T00:42:07.003Z",
          "shell.execute_reply": "2021-11-23T00:42:07.080Z"
        },
        "jupyter": {
          "outputs_hidden": false,
          "source_hidden": false
        },
        "nteract": {
          "transient": {
            "deleting": false
          }
        }
      }
    },
    {
      "cell_type": "code",
      "source": [],
      "outputs": [],
      "execution_count": null,
      "metadata": {
        "collapsed": true,
        "jupyter": {
          "outputs_hidden": false,
          "source_hidden": false
        },
        "nteract": {
          "transient": {
            "deleting": false
          }
        }
      }
    },
    {
      "cell_type": "code",
      "source": [
        "days_list={16, 18, 21, 21.5}\n",
        "df=pd.DataFrame(data=counts.to_numpy(), index=index, columns=columns)\n",
        "\n",
        "df=df.groupby(level=['phylum',\t'class',\t'order', 'family'], dropna=False).sum()\n",
        "df.head()\n",
        "\n",
        "df_main=df.loc[:,df.columns.get_level_values(3).isin(days_list)].groupby(level=['cohort', 'subjectID', 'perturbID', 'window'], axis=1, dropna=False).sum()\n",
        "\n",
        "\n",
        "index_out=df_main.index.get_level_values(0).values + ' ' + df_main.index.get_level_values(1).values + ' ' + df_main.index.get_level_values(2).values + ' ' + df_main.index.get_level_values(3).values\n",
        "counts_out=pd.DataFrame(data=df_main.to_numpy(), index=index_out)\n",
        "\n",
        "meta_out=df_main.columns.to_frame(index=None)\n",
        "\n",
        "counts_out.to_csv('out/ss_of_counts.csv')\n",
        "meta_out.to_csv('out/ss_of_meta.csv')\n",
        "meta_out\n",
        "\n"
      ],
      "outputs": [],
      "execution_count": null,
      "metadata": {
        "collapsed": true,
        "jupyter": {
          "source_hidden": false,
          "outputs_hidden": false
        },
        "nteract": {
          "transient": {
            "deleting": false
          }
        },
        "execution": {
          "iopub.status.busy": "2021-11-23T00:42:07.011Z",
          "iopub.execute_input": "2021-11-23T00:42:07.015Z",
          "iopub.status.idle": "2021-11-23T00:42:07.026Z",
          "shell.execute_reply": "2021-11-23T00:42:07.083Z"
        }
      }
    },
    {
      "cell_type": "code",
      "source": [
        "counts_out"
      ],
      "outputs": [],
      "execution_count": null,
      "metadata": {
        "collapsed": true,
        "jupyter": {
          "source_hidden": false,
          "outputs_hidden": false
        },
        "nteract": {
          "transient": {
            "deleting": false
          }
        },
        "execution": {
          "iopub.status.busy": "2021-11-23T00:42:07.033Z",
          "iopub.execute_input": "2021-11-23T00:42:07.037Z",
          "iopub.status.idle": "2021-11-23T00:42:07.048Z",
          "shell.execute_reply": "2021-11-23T00:42:07.085Z"
        }
      }
    },
    {
      "cell_type": "code",
      "source": [
        "df=pd.DataFrame(data=counts.to_numpy(), index=index, columns=columns)\n",
        "\n",
        "df=df.groupby(level=['phylum'], dropna=False).sum()\n",
        "df.head()\n",
        "\n",
        "df_main=df.loc[:,df.columns.get_level_values(3).isin(days_list)].groupby(level=['cohort', 'subjectID', 'perturbID', 'window'], axis=1, dropna=False).sum()\n",
        "\n",
        "\n",
        "index_out=df_main.index.get_level_values(0).values\n",
        "counts_out=pd.DataFrame(data=df_main.to_numpy(), index=index_out)\n",
        "\n",
        "meta_out=df_main.columns.to_frame(index=None)\n",
        "\n",
        "counts_out.to_csv('out/ss_phylum_counts.csv')\n",
        "meta_out.to_csv('out/ss_phylum_meta.csv')\n",
        "meta_out\n",
        "counts_out"
      ],
      "outputs": [],
      "execution_count": null,
      "metadata": {
        "collapsed": true,
        "jupyter": {
          "source_hidden": false,
          "outputs_hidden": false
        },
        "nteract": {
          "transient": {
            "deleting": false
          }
        },
        "execution": {
          "iopub.status.busy": "2021-11-23T00:42:07.055Z",
          "iopub.execute_input": "2021-11-23T00:42:07.059Z",
          "iopub.status.idle": "2021-11-23T00:42:07.070Z",
          "shell.execute_reply": "2021-11-23T00:42:07.088Z"
        }
      }
    },
    {
      "cell_type": "code",
      "source": [],
      "outputs": [],
      "execution_count": null,
      "metadata": {
        "collapsed": true,
        "jupyter": {
          "source_hidden": false,
          "outputs_hidden": false
        },
        "nteract": {
          "transient": {
            "deleting": false
          }
        }
      }
    },
    {
      "cell_type": "code",
      "source": [],
      "outputs": [],
      "execution_count": null,
      "metadata": {
        "collapsed": true,
        "jupyter": {
          "source_hidden": false,
          "outputs_hidden": false
        },
        "nteract": {
          "transient": {
            "deleting": false
          }
        }
      }
    },
    {
      "cell_type": "code",
      "source": [],
      "outputs": [],
      "execution_count": null,
      "metadata": {
        "collapsed": true,
        "jupyter": {
          "source_hidden": false,
          "outputs_hidden": false
        },
        "nteract": {
          "transient": {
            "deleting": false
          }
        }
      }
    },
    {
      "cell_type": "code",
      "source": [],
      "outputs": [],
      "execution_count": null,
      "metadata": {
        "collapsed": true,
        "jupyter": {
          "source_hidden": false,
          "outputs_hidden": false
        },
        "nteract": {
          "transient": {
            "deleting": false
          }
        }
      }
    }
  ],
  "metadata": {
    "kernelspec": {
      "display_name": "Python 3",
      "language": "python",
      "name": "python3"
    },
    "language_info": {
      "name": "python",
      "version": "3.7.6",
      "mimetype": "text/x-python",
      "codemirror_mode": {
        "name": "ipython",
        "version": 3
      },
      "pygments_lexer": "ipython3",
      "nbconvert_exporter": "python",
      "file_extension": ".py"
    },
    "nteract": {
      "version": "0.28.0"
    }
  },
  "nbformat": 4,
  "nbformat_minor": 4
}