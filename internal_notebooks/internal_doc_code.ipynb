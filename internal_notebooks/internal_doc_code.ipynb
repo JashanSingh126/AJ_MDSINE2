{
 "cells": [
  {
   "cell_type": "markdown",
   "metadata": {},
   "source": [
    "# Internal documentation\n",
    "This document gives a tour of the code in the `MDSINE2` package and how it interacts with `MDSINE2_Paper` package. The first part of the tutorial is giving a high level tour of the `MDSINE2` package. The next part shows how to run selected analyses with the code. The last part of the tour shows where specific functions are implemented in the code that are used often"
   ]
  },
  {
   "cell_type": "markdown",
   "metadata": {},
   "source": [
    "### Table of contents\n",
    "* [High level tour](#highleveltour)\n",
    "    * [Datatypes](#datatypes)\n",
    "        - [`md2.Taxon` and `md2.OTU`](#taxonandotu)\n",
    "        - [`md2.TaxaSet`](#taxaset)\n",
    "        - [`md2.Study` and `md2.Subject`](#studyandsubject)\n",
    "        - [`md2.Perturbations` and `md2.BasePerturbation`](#perturbationsandbaseperturbatio)\n",
    "        - [Everything is connected to each other through the `Study` class](#everythingisconnected)\n",
    "    * [`Graph` object](#graphobject)\n",
    "    * [`DataNode` object](#datanodeobject)\n",
    "    * [`md2.Clustering` object](#clusteringobject)\n",
    "    * [`md2.Interactions` object](#interactionsobject)\n",
    "    * [`md2.BaseMCMC` and `md2.Tracer` object](#basemcmcandtracerobject)\n",
    "* [Common functionality](#commonfunctionality)\n",
    "    * [Reading in the gibson dataset](#readinginthegibsondataset)\n",
    "    * [Retrieve trace from disk](#retrievetracefromdisk)\n",
    "    * [Get statistics of a trace](#getstatisticsofatrace)\n",
    "    * [Defining the parameters of the model](#definingtheparametersofthemodel)\n",
    "    * [Bayes factors](#bayesfactors)\n",
    "    * [Condensing fixed cluster interactions in perturbations into cluster-cluster interactions](#condensingfixedcluster)\n",
    "    * [Forward simulating](#forwardsimulating)"
   ]
  },
  {
   "cell_type": "markdown",
   "metadata": {},
   "source": [
    "# High level tour <a class=\"anchor\" id=\"highleveltour\"></a>\n",
    "The purpose of this section is to take a deep dive into the core code of MDSINE2"
   ]
  },
  {
   "cell_type": "code",
   "execution_count": 1,
   "metadata": {},
   "outputs": [],
   "source": [
    "import mdsine2 as md2\n",
    "from mdsine2.names import STRNAMES\n",
    "import numpy as np"
   ]
  },
  {
   "cell_type": "markdown",
   "metadata": {},
   "source": [
    "## Datatypes <a class=\"anchor\" id=\"datatypes\"></a>\n",
    "Data is parsed into various python objects depending on the type of data:\n",
    "\n",
    "### `md2.Taxon` and `md2.OTU` <a class=\"anchor\" id=\"taxonandotu\"></a>\n",
    "The first datatypes are the `md2.Taxon` (location in code: `md2.pylab.base.Taxon`) and `md2.OTU` (location in code: `md2.pylab.base.OTU`) objects. These objects contain the OTU and Taxon specific data and can be referenced with internal parameters such as:\n",
    " - `taxonomy` (`dict`: `str` -> `str`): This dictionary maps the taxonomic level to the taxonomic classification of the OTU/taxon.\n",
    " - `sequence` (`str`): This is the sequence of the taxa/OTU\n",
    "\n",
    "An `OTU` is distinct from a `Taxon` object in the sense that an OTU is comprised of multiple `Taxon`s and contains all of the information for each one. Additionally, you can set the consensus taxonomy into the `taxonomy` parameter and the consensus sequence into the `sequence` parameter. This two objects are treated identically in the code.\n",
    "\n",
    "### `md2.TaxaSet` <a class=\"anchor\" id=\"taxaset\"></a>\n",
    "The next datatype is the `md2.TaxaSet` (location in code: `md2.pylab.base.TaxaSet`) object. This object works as an aggregator of the `md2.OTU` and `md2.Taxon` objects. The primary use of this object is reference all of the `OTU` and `Taxon` objects and to keep them in order. You can \"get\" the individual taxa by indexing it directly:"
   ]
  },
  {
   "cell_type": "code",
   "execution_count": 2,
   "metadata": {},
   "outputs": [
    {
     "name": "stdout",
     "output_type": "stream",
     "text": [
      "2021-07-02 19:24:50,618 [INFO] [base.py (1284)] - TaxaSet parsng new taxonomy table. Resetting\n",
      "2021-07-02 19:24:50,623 [INFO] [base.py (1294)] - No `name` found - assuming index is the name\n",
      "Taxon\n",
      "\tid: 2951491843744\n",
      "\tidx: 0\n",
      "\tname: ASV_1\n",
      "\ttaxonomy:\n",
      "\t\tkingdom: Bacteria\n",
      "\t\tphylum: Bacteroidetes\n",
      "\t\tclass: Bacteroidia\n",
      "\t\torder: Bacteroidales\n",
      "\t\tfamily: Bacteroidaceae\n",
      "\t\tgenus: Phocaeicola\n",
      "\t\tspecies: NA\n",
      "taxonomy\n",
      "<class 'dict'>\n",
      "dict_keys(['kingdom', 'phylum', 'class', 'order', 'family', 'genus', 'species', 'asv'])\n",
      "\n",
      "sequence\n",
      "<class 'str'>\n",
      "TACGGAGGATCCGAGCGTTATCCGGATTTATTGGGTTTAAAGGGAGCGTAGATGGATGTTTAAGTCAGTTGTGAAAGTTTGCGGCTCAACCGTAAAATTGCAGTTGATACTGGATATCTTGAGTGCAGTTGAGGCAGGCGGAATTCGTGGTGTAGCGGTGAAATGCTTAGATATCACGAAGAACTCCGATTGCGAAGGCAGCCTGCTAAGCTGCAACTGACATTGAGGCTCGAAAGTGTGGGTATCAAACAGG\n"
     ]
    }
   ],
   "source": [
    "# Get the TaxaSet object for the UC gibson dataset (these commands are the same for any dataset)\n",
    "study = md2.dataset.load_gibson(dset='uc') # description of the `Study` object is below\n",
    "taxa = study.taxa\n",
    "\n",
    "# Index a taxon directly\n",
    "taxon = taxa['ASV_1']\n",
    "print(taxon)\n",
    "\n",
    "# subfields\n",
    "print('taxonomy')\n",
    "print(type(taxon.taxonomy))\n",
    "print(taxon.taxonomy.keys())\n",
    "print('\\nsequence')\n",
    "print(type(taxon.sequence))\n",
    "print(taxon.sequence)"
   ]
  },
  {
   "cell_type": "markdown",
   "metadata": {},
   "source": [
    "We can index the same taxon by the Python ID (`id`) or the index (`idx`) that the taxon/OTU appears in order of the others in the same way that we index by the name:"
   ]
  },
  {
   "cell_type": "code",
   "execution_count": 3,
   "metadata": {},
   "outputs": [
    {
     "name": "stdout",
     "output_type": "stream",
     "text": [
      "Retrieving with index\n",
      "Taxon\n",
      "\tid: 2951491843744\n",
      "\tidx: 0\n",
      "\tname: ASV_1\n",
      "\ttaxonomy:\n",
      "\t\tkingdom: Bacteria\n",
      "\t\tphylum: Bacteroidetes\n",
      "\t\tclass: Bacteroidia\n",
      "\t\torder: Bacteroidales\n",
      "\t\tfamily: Bacteroidaceae\n",
      "\t\tgenus: Phocaeicola\n",
      "\t\tspecies: NA\n",
      "Retrieving with python id\n",
      "Taxon\n",
      "\tid: 2951491843744\n",
      "\tidx: 0\n",
      "\tname: ASV_1\n",
      "\ttaxonomy:\n",
      "\t\tkingdom: Bacteria\n",
      "\t\tphylum: Bacteroidetes\n",
      "\t\tclass: Bacteroidia\n",
      "\t\torder: Bacteroidales\n",
      "\t\tfamily: Bacteroidaceae\n",
      "\t\tgenus: Phocaeicola\n",
      "\t\tspecies: NA\n"
     ]
    }
   ],
   "source": [
    "taxon = taxa[0]\n",
    "print('Retrieving with index')\n",
    "print(taxon)\n",
    "\n",
    "ID = taxon.id\n",
    "print('Retrieving with python id')\n",
    "taxon = taxa[ID]\n",
    "print(taxon)"
   ]
  },
  {
   "cell_type": "markdown",
   "metadata": {},
   "source": [
    "Additionally with indexiing the taxa from the `TaxaSet` object, we can also iterate over the taxa in order:"
   ]
  },
  {
   "cell_type": "code",
   "execution_count": 4,
   "metadata": {},
   "outputs": [
    {
     "name": "stdout",
     "output_type": "stream",
     "text": [
      "Taxon\n",
      "\tid: 2951491843744\n",
      "\tidx: 0\n",
      "\tname: ASV_1\n",
      "\ttaxonomy:\n",
      "\t\tkingdom: Bacteria\n",
      "\t\tphylum: Bacteroidetes\n",
      "\t\tclass: Bacteroidia\n",
      "\t\torder: Bacteroidales\n",
      "\t\tfamily: Bacteroidaceae\n",
      "\t\tgenus: Phocaeicola\n",
      "\t\tspecies: NA\n",
      "Taxon\n",
      "\tid: 2951491844640\n",
      "\tidx: 1\n",
      "\tname: ASV_2\n",
      "\ttaxonomy:\n",
      "\t\tkingdom: Bacteria\n",
      "\t\tphylum: Bacteroidetes\n",
      "\t\tclass: Bacteroidia\n",
      "\t\torder: Bacteroidales\n",
      "\t\tfamily: Bacteroidaceae\n",
      "\t\tgenus: Bacteroides\n",
      "\t\tspecies: ovatus/fragilis\n",
      "Taxon\n",
      "\tid: 2951491844584\n",
      "\tidx: 2\n",
      "\tname: ASV_3\n",
      "\ttaxonomy:\n",
      "\t\tkingdom: Bacteria\n",
      "\t\tphylum: Verrucomicrobia\n",
      "\t\tclass: Verrucomicrobiae\n",
      "\t\torder: Verrucomicrobiales\n",
      "\t\tfamily: Akkermansiaceae\n",
      "\t\tgenus: Akkermansia\n",
      "\t\tspecies: muciniphila\n",
      "Taxon\n",
      "\tid: 2951491844528\n",
      "\tidx: 3\n",
      "\tname: ASV_4\n",
      "\ttaxonomy:\n",
      "\t\tkingdom: Bacteria\n",
      "\t\tphylum: Bacteroidetes\n",
      "\t\tclass: Bacteroidia\n",
      "\t\torder: Bacteroidales\n",
      "\t\tfamily: Bacteroidaceae\n",
      "\t\tgenus: Bacteroides\n",
      "\t\tspecies: NA\n"
     ]
    }
   ],
   "source": [
    "# Print the first 4 taxa\n",
    "for taxon in taxa:\n",
    "    if taxon.idx > 3:\n",
    "        break\n",
    "    print(taxon)"
   ]
  },
  {
   "cell_type": "markdown",
   "metadata": {},
   "source": [
    "Another useful tool for using `TaxaSet` is reverse indexing. This is where we take the name or the Python ID of the taxon and we want to get the index:"
   ]
  },
  {
   "cell_type": "code",
   "execution_count": 5,
   "metadata": {},
   "outputs": [
    {
     "name": "stdout",
     "output_type": "stream",
     "text": [
      "Taxon\n",
      "\tid: 2951489943592\n",
      "\tidx: 110\n",
      "\tname: ASV_111\n",
      "\ttaxonomy:\n",
      "\t\tkingdom: Bacteria\n",
      "\t\tphylum: Firmicutes\n",
      "\t\tclass: Clostridia\n",
      "\t\torder: Clostridiales\n",
      "\t\tfamily: Lachnospiraceae\n",
      "\t\tgenus: Blautia\n",
      "\t\tspecies: NA\n",
      "110\n",
      "110\n"
     ]
    }
   ],
   "source": [
    "# Get a random taxon\n",
    "taxon = taxa['ASV_111']\n",
    "print(taxon)\n",
    "name = taxon.name\n",
    "ID = taxon.id\n",
    "\n",
    "print(taxa.names.index[name])\n",
    "print(taxa.ids.index[ID])"
   ]
  },
  {
   "cell_type": "markdown",
   "metadata": {},
   "source": [
    "We use the `TaxaSet` object to read from a taxonomic table (`md2.TaxaSet.parse`) and to write it's internal state to a table (`md2.TaxaSet.write_taxonomy_to_csv`). The order of the Taxa is __strictly dependent on their order in this object__ - all other classes (`md2.Clustering`, `md2.Study`, etc.) depend on this ordering."
   ]
  },
  {
   "cell_type": "markdown",
   "metadata": {},
   "source": [
    "### `md2.Study` and `md2.Subject` <a class=\"anchor\" id=\"studyandsubject\"></a>\n",
    "\n",
    "The next objects are the `md2.Study` (location in code: `mdsine2.pylab.base.Study`) and `md2.Subject` (location in code: `mdsine2.pylab.base.Subject`) objects. These objects read in the reads and qPCR measurements for each subject, and reference the `md2.TaxaSet` object and `md2.Perturbations` object (referenced below), and how we generate matrices.\n",
    "\n",
    "A `md2.Subject` object contains all of the information regarding a single subject in a dataset, such as:\n",
    " * `times` (`np.ndarray`): This stores the timepoints contained for this subject in order. These times map to the qPCR and reads for those time points.\n",
    " * `reads` (`dict`: `float` -> `np.ndarray`): This maps the timepoint to an array of counts for each taxa. The order of the array corresponds to the order of the taxa in the `md2.TaxaSet` object.\n",
    " * `qpcr` (`dict`: `float` -> `md2.qPCRdata`): Maps the timepoint to the qPCR measurement. The `md2.qPCRdata` object (location in code: `mdsine2.pylab.base.qPCRData`) stores the information for the triplicate qPCR measurements. \n",
    " * `perturbations` (`md2.Perturbations`): References all of the perturbations in the study"
   ]
  },
  {
   "cell_type": "code",
   "execution_count": 6,
   "metadata": {},
   "outputs": [
    {
     "name": "stdout",
     "output_type": "stream",
     "text": [
      "subject name: 9\n",
      "\n",
      "Time 0.0\n",
      "reads [150 343  21 ...   0   0   0]\n",
      "1473 1473\n",
      "qPCR: [ 7158224.75044306 21449824.45947887  7026214.74028283]\n",
      "\n",
      "Time 0.5\n",
      "reads [927 411  21 ...   0   0   0]\n",
      "1473 1473\n",
      "qPCR: [3.65801801e+09 4.40176703e+09 6.46110522e+09]\n",
      "\n",
      "Time 1.0\n",
      "reads [36037  2819    32 ...     0     0     0]\n",
      "1473 1473\n",
      "qPCR: [1.02195918e+10 1.72985110e+10 1.51350301e+10]\n",
      "\n",
      "Time 1.5\n",
      "reads [28263  5178   119 ...     0     0     0]\n",
      "1473 1473\n",
      "qPCR: [3.06884858e+10 7.59445116e+10 6.77454856e+10]\n"
     ]
    }
   ],
   "source": [
    "# Get the 4th subject (just an example)\n",
    "subject = study[4]\n",
    "\n",
    "print('subject name:', subject.name)\n",
    "for i, t in enumerate(subject.times):\n",
    "    if i > 3:\n",
    "        break\n",
    "    print('\\nTime {}'.format(t))\n",
    "    print('reads', subject.reads[t]) # These are the reads\n",
    "    print(len(subject.reads[t]), len(subject.taxa)) # These are equal\n",
    "    print('qPCR:', subject.qpcr[t].data) # These are the triplicate qPCR measurements"
   ]
  },
  {
   "cell_type": "markdown",
   "metadata": {},
   "source": [
    "Given that we have all of this information for the subject, we can create matrices of the counts, relative abundances, and absolute abundances (multiplying the relative abundance by the qPCR mean). This is done with the `matrix` and `df` function. The `matrix` function makes the abundance table for each taxa in order for each time in order. It returns 3 types of abundances: \n",
    "1. `'raw'`: These are the raw counts for each taxa\n",
    "2. `'rel'`: These are the relative abundances for each taxa\n",
    "3. `'abs'`: These are the absolute abundances for each taxa\n",
    "\n",
    "The `df` function just wraps the `matrix` function and adds the taxa names as the index and the times as the columns for a `pandas.DataFrame`:"
   ]
  },
  {
   "cell_type": "code",
   "execution_count": 7,
   "metadata": {},
   "outputs": [
    {
     "name": "stdout",
     "output_type": "stream",
     "text": [
      "absolute abundance\n",
      "[[3.10227753e+05 1.35872110e+08 9.55686446e+09 ... 5.56451703e+10\n",
      "  4.31226057e+10 2.92904389e+10]\n",
      " [7.09387463e+05 6.02410327e+07 7.47587227e+08 ... 1.25140774e+10\n",
      "  2.37771086e+10 1.84579855e+10]\n",
      " [4.34318855e+04 3.07800897e+06 8.48626863e+06 ... 1.27296188e+09\n",
      "  3.43757415e+09 7.08885867e+09]\n",
      " ...\n",
      " [0.00000000e+00 0.00000000e+00 0.00000000e+00 ... 0.00000000e+00\n",
      "  0.00000000e+00 0.00000000e+00]\n",
      " [0.00000000e+00 0.00000000e+00 0.00000000e+00 ... 0.00000000e+00\n",
      "  0.00000000e+00 0.00000000e+00]\n",
      " [0.00000000e+00 0.00000000e+00 0.00000000e+00 ... 0.00000000e+00\n",
      "  0.00000000e+00 0.00000000e+00]]\n"
     ]
    },
    {
     "data": {
      "text/html": [
       "<div>\n",
       "<style scoped>\n",
       "    .dataframe tbody tr th:only-of-type {\n",
       "        vertical-align: middle;\n",
       "    }\n",
       "\n",
       "    .dataframe tbody tr th {\n",
       "        vertical-align: top;\n",
       "    }\n",
       "\n",
       "    .dataframe thead th {\n",
       "        text-align: right;\n",
       "    }\n",
       "</style>\n",
       "<table border=\"1\" class=\"dataframe\">\n",
       "  <thead>\n",
       "    <tr style=\"text-align: right;\">\n",
       "      <th></th>\n",
       "      <th>0.0</th>\n",
       "      <th>0.5</th>\n",
       "      <th>1.0</th>\n",
       "      <th>1.5</th>\n",
       "      <th>2.0</th>\n",
       "      <th>2.5</th>\n",
       "      <th>3.0</th>\n",
       "      <th>3.5</th>\n",
       "      <th>4.0</th>\n",
       "      <th>4.5</th>\n",
       "      <th>...</th>\n",
       "      <th>58.5</th>\n",
       "      <th>59.0</th>\n",
       "      <th>59.5</th>\n",
       "      <th>60.0</th>\n",
       "      <th>60.5</th>\n",
       "      <th>61.0</th>\n",
       "      <th>62.0</th>\n",
       "      <th>63.0</th>\n",
       "      <th>64.0</th>\n",
       "      <th>64.5</th>\n",
       "    </tr>\n",
       "  </thead>\n",
       "  <tbody>\n",
       "    <tr>\n",
       "      <th>ASV_1</th>\n",
       "      <td>310227.753446</td>\n",
       "      <td>1.358721e+08</td>\n",
       "      <td>9.556864e+09</td>\n",
       "      <td>2.927902e+10</td>\n",
       "      <td>4.020405e+10</td>\n",
       "      <td>3.708254e+10</td>\n",
       "      <td>5.754406e+08</td>\n",
       "      <td>1.046794e+10</td>\n",
       "      <td>6.230351e+10</td>\n",
       "      <td>4.522686e+09</td>\n",
       "      <td>...</td>\n",
       "      <td>4.316884e+10</td>\n",
       "      <td>1.310502e+11</td>\n",
       "      <td>1.355388e+10</td>\n",
       "      <td>1.337335e+10</td>\n",
       "      <td>2.661841e+10</td>\n",
       "      <td>1.418362e+10</td>\n",
       "      <td>3.905077e+10</td>\n",
       "      <td>5.564517e+10</td>\n",
       "      <td>4.312261e+10</td>\n",
       "      <td>2.929044e+10</td>\n",
       "    </tr>\n",
       "    <tr>\n",
       "      <th>ASV_2</th>\n",
       "      <td>709387.462879</td>\n",
       "      <td>6.024103e+07</td>\n",
       "      <td>7.475872e+08</td>\n",
       "      <td>5.364143e+09</td>\n",
       "      <td>1.637791e+10</td>\n",
       "      <td>2.128136e+10</td>\n",
       "      <td>3.272162e+08</td>\n",
       "      <td>7.426126e+09</td>\n",
       "      <td>4.796694e+10</td>\n",
       "      <td>4.036937e+09</td>\n",
       "      <td>...</td>\n",
       "      <td>4.873706e+10</td>\n",
       "      <td>1.025128e+11</td>\n",
       "      <td>1.522994e+10</td>\n",
       "      <td>6.159113e+09</td>\n",
       "      <td>1.503570e+10</td>\n",
       "      <td>2.482822e+09</td>\n",
       "      <td>7.512273e+09</td>\n",
       "      <td>1.251408e+10</td>\n",
       "      <td>2.377711e+10</td>\n",
       "      <td>1.845799e+10</td>\n",
       "    </tr>\n",
       "    <tr>\n",
       "      <th>ASV_3</th>\n",
       "      <td>43431.885482</td>\n",
       "      <td>3.078009e+06</td>\n",
       "      <td>8.486269e+06</td>\n",
       "      <td>1.232779e+08</td>\n",
       "      <td>7.966482e+09</td>\n",
       "      <td>3.227539e+10</td>\n",
       "      <td>3.426462e+08</td>\n",
       "      <td>1.393619e+10</td>\n",
       "      <td>4.409241e+10</td>\n",
       "      <td>8.937856e+09</td>\n",
       "      <td>...</td>\n",
       "      <td>4.733425e+07</td>\n",
       "      <td>0.000000e+00</td>\n",
       "      <td>1.695446e+07</td>\n",
       "      <td>1.189346e+07</td>\n",
       "      <td>7.704687e+06</td>\n",
       "      <td>4.526567e+07</td>\n",
       "      <td>2.140830e+07</td>\n",
       "      <td>1.272962e+09</td>\n",
       "      <td>3.437574e+09</td>\n",
       "      <td>7.088859e+09</td>\n",
       "    </tr>\n",
       "    <tr>\n",
       "      <th>ASV_4</th>\n",
       "      <td>31022.775345</td>\n",
       "      <td>1.172575e+06</td>\n",
       "      <td>1.591175e+06</td>\n",
       "      <td>0.000000e+00</td>\n",
       "      <td>6.819158e+06</td>\n",
       "      <td>0.000000e+00</td>\n",
       "      <td>0.000000e+00</td>\n",
       "      <td>3.589581e+06</td>\n",
       "      <td>1.659325e+07</td>\n",
       "      <td>0.000000e+00</td>\n",
       "      <td>...</td>\n",
       "      <td>1.204872e+08</td>\n",
       "      <td>1.763205e+08</td>\n",
       "      <td>3.956040e+07</td>\n",
       "      <td>1.245982e+07</td>\n",
       "      <td>2.439818e+07</td>\n",
       "      <td>9.430347e+06</td>\n",
       "      <td>2.344718e+07</td>\n",
       "      <td>6.085874e+07</td>\n",
       "      <td>6.649080e+07</td>\n",
       "      <td>5.366734e+07</td>\n",
       "    </tr>\n",
       "    <tr>\n",
       "      <th>ASV_5</th>\n",
       "      <td>33090.960368</td>\n",
       "      <td>1.612290e+06</td>\n",
       "      <td>0.000000e+00</td>\n",
       "      <td>2.486277e+07</td>\n",
       "      <td>0.000000e+00</td>\n",
       "      <td>0.000000e+00</td>\n",
       "      <td>0.000000e+00</td>\n",
       "      <td>0.000000e+00</td>\n",
       "      <td>0.000000e+00</td>\n",
       "      <td>0.000000e+00</td>\n",
       "      <td>...</td>\n",
       "      <td>0.000000e+00</td>\n",
       "      <td>0.000000e+00</td>\n",
       "      <td>0.000000e+00</td>\n",
       "      <td>8.495329e+06</td>\n",
       "      <td>2.568229e+07</td>\n",
       "      <td>0.000000e+00</td>\n",
       "      <td>0.000000e+00</td>\n",
       "      <td>0.000000e+00</td>\n",
       "      <td>0.000000e+00</td>\n",
       "      <td>0.000000e+00</td>\n",
       "    </tr>\n",
       "  </tbody>\n",
       "</table>\n",
       "<p>5 rows × 77 columns</p>\n",
       "</div>"
      ],
      "text/plain": [
       "                0.0           0.5           1.0           1.5           2.0   \\\n",
       "ASV_1  310227.753446  1.358721e+08  9.556864e+09  2.927902e+10  4.020405e+10   \n",
       "ASV_2  709387.462879  6.024103e+07  7.475872e+08  5.364143e+09  1.637791e+10   \n",
       "ASV_3   43431.885482  3.078009e+06  8.486269e+06  1.232779e+08  7.966482e+09   \n",
       "ASV_4   31022.775345  1.172575e+06  1.591175e+06  0.000000e+00  6.819158e+06   \n",
       "ASV_5   33090.960368  1.612290e+06  0.000000e+00  2.486277e+07  0.000000e+00   \n",
       "\n",
       "               2.5           3.0           3.5           4.0           4.5   \\\n",
       "ASV_1  3.708254e+10  5.754406e+08  1.046794e+10  6.230351e+10  4.522686e+09   \n",
       "ASV_2  2.128136e+10  3.272162e+08  7.426126e+09  4.796694e+10  4.036937e+09   \n",
       "ASV_3  3.227539e+10  3.426462e+08  1.393619e+10  4.409241e+10  8.937856e+09   \n",
       "ASV_4  0.000000e+00  0.000000e+00  3.589581e+06  1.659325e+07  0.000000e+00   \n",
       "ASV_5  0.000000e+00  0.000000e+00  0.000000e+00  0.000000e+00  0.000000e+00   \n",
       "\n",
       "       ...          58.5          59.0          59.5          60.0  \\\n",
       "ASV_1  ...  4.316884e+10  1.310502e+11  1.355388e+10  1.337335e+10   \n",
       "ASV_2  ...  4.873706e+10  1.025128e+11  1.522994e+10  6.159113e+09   \n",
       "ASV_3  ...  4.733425e+07  0.000000e+00  1.695446e+07  1.189346e+07   \n",
       "ASV_4  ...  1.204872e+08  1.763205e+08  3.956040e+07  1.245982e+07   \n",
       "ASV_5  ...  0.000000e+00  0.000000e+00  0.000000e+00  8.495329e+06   \n",
       "\n",
       "               60.5          61.0          62.0          63.0          64.0  \\\n",
       "ASV_1  2.661841e+10  1.418362e+10  3.905077e+10  5.564517e+10  4.312261e+10   \n",
       "ASV_2  1.503570e+10  2.482822e+09  7.512273e+09  1.251408e+10  2.377711e+10   \n",
       "ASV_3  7.704687e+06  4.526567e+07  2.140830e+07  1.272962e+09  3.437574e+09   \n",
       "ASV_4  2.439818e+07  9.430347e+06  2.344718e+07  6.085874e+07  6.649080e+07   \n",
       "ASV_5  2.568229e+07  0.000000e+00  0.000000e+00  0.000000e+00  0.000000e+00   \n",
       "\n",
       "               64.5  \n",
       "ASV_1  2.929044e+10  \n",
       "ASV_2  1.845799e+10  \n",
       "ASV_3  7.088859e+09  \n",
       "ASV_4  5.366734e+07  \n",
       "ASV_5  0.000000e+00  \n",
       "\n",
       "[5 rows x 77 columns]"
      ]
     },
     "execution_count": 7,
     "metadata": {},
     "output_type": "execute_result"
    }
   ],
   "source": [
    "print('absolute abundance')\n",
    "print(subject.matrix()['abs'])\n",
    "df = subject.df()['abs']\n",
    "df.head()"
   ]
  },
  {
   "cell_type": "markdown",
   "metadata": {},
   "source": [
    "We can also produce these matrices clustered at a specific taxonomic level. We can only do this if taxonomic information is available for the taxa. Note that you can make the `index_formatter` whatever you want as long as the taxonomic level is above or equal to the taxonomic level `taxlevel` you are aggregating to:"
   ]
  },
  {
   "cell_type": "code",
   "execution_count": 8,
   "metadata": {},
   "outputs": [
    {
     "data": {
      "text/html": [
       "<div>\n",
       "<style scoped>\n",
       "    .dataframe tbody tr th:only-of-type {\n",
       "        vertical-align: middle;\n",
       "    }\n",
       "\n",
       "    .dataframe tbody tr th {\n",
       "        vertical-align: top;\n",
       "    }\n",
       "\n",
       "    .dataframe thead th {\n",
       "        text-align: right;\n",
       "    }\n",
       "</style>\n",
       "<table border=\"1\" class=\"dataframe\">\n",
       "  <thead>\n",
       "    <tr style=\"text-align: right;\">\n",
       "      <th></th>\n",
       "      <th>0.0</th>\n",
       "      <th>0.5</th>\n",
       "      <th>1.0</th>\n",
       "      <th>1.5</th>\n",
       "      <th>2.0</th>\n",
       "      <th>2.5</th>\n",
       "      <th>3.0</th>\n",
       "      <th>3.5</th>\n",
       "      <th>4.0</th>\n",
       "      <th>4.5</th>\n",
       "      <th>...</th>\n",
       "      <th>58.5</th>\n",
       "      <th>59.0</th>\n",
       "      <th>59.5</th>\n",
       "      <th>60.0</th>\n",
       "      <th>60.5</th>\n",
       "      <th>61.0</th>\n",
       "      <th>62.0</th>\n",
       "      <th>63.0</th>\n",
       "      <th>64.0</th>\n",
       "      <th>64.5</th>\n",
       "    </tr>\n",
       "  </thead>\n",
       "  <tbody>\n",
       "    <tr>\n",
       "      <th>Bacteroidaceae Bacteroidia</th>\n",
       "      <td>3.034027e+06</td>\n",
       "      <td>3.500136e+08</td>\n",
       "      <td>1.268299e+10</td>\n",
       "      <td>4.454062e+10</td>\n",
       "      <td>7.430666e+10</td>\n",
       "      <td>7.934913e+10</td>\n",
       "      <td>1.222880e+09</td>\n",
       "      <td>2.561669e+10</td>\n",
       "      <td>1.569016e+11</td>\n",
       "      <td>1.331800e+10</td>\n",
       "      <td>...</td>\n",
       "      <td>1.125996e+11</td>\n",
       "      <td>2.775373e+11</td>\n",
       "      <td>3.534197e+10</td>\n",
       "      <td>2.194740e+10</td>\n",
       "      <td>4.846120e+10</td>\n",
       "      <td>1.749254e+10</td>\n",
       "      <td>4.865698e+10</td>\n",
       "      <td>7.254361e+10</td>\n",
       "      <td>7.899771e+10</td>\n",
       "      <td>5.742047e+10</td>\n",
       "    </tr>\n",
       "    <tr>\n",
       "      <th>Akkermansiaceae Verrucomicrobiae</th>\n",
       "      <td>7.652285e+04</td>\n",
       "      <td>4.690299e+06</td>\n",
       "      <td>8.486269e+06</td>\n",
       "      <td>1.522845e+08</td>\n",
       "      <td>8.292097e+09</td>\n",
       "      <td>3.354910e+10</td>\n",
       "      <td>3.560853e+08</td>\n",
       "      <td>1.446458e+10</td>\n",
       "      <td>4.582641e+10</td>\n",
       "      <td>9.285970e+09</td>\n",
       "      <td>...</td>\n",
       "      <td>4.733425e+07</td>\n",
       "      <td>0.000000e+00</td>\n",
       "      <td>1.695446e+07</td>\n",
       "      <td>2.038879e+07</td>\n",
       "      <td>3.338698e+07</td>\n",
       "      <td>4.526567e+07</td>\n",
       "      <td>2.140830e+07</td>\n",
       "      <td>1.272962e+09</td>\n",
       "      <td>3.437574e+09</td>\n",
       "      <td>7.088859e+09</td>\n",
       "    </tr>\n",
       "    <tr>\n",
       "      <th>Sutterellaceae Betaproteobacteria</th>\n",
       "      <td>3.102278e+04</td>\n",
       "      <td>8.794311e+05</td>\n",
       "      <td>9.679650e+07</td>\n",
       "      <td>1.714495e+09</td>\n",
       "      <td>5.126302e+09</td>\n",
       "      <td>6.476278e+09</td>\n",
       "      <td>7.344197e+07</td>\n",
       "      <td>7.861183e+08</td>\n",
       "      <td>6.508702e+09</td>\n",
       "      <td>7.456093e+08</td>\n",
       "      <td>...</td>\n",
       "      <td>1.811611e+09</td>\n",
       "      <td>1.887511e+10</td>\n",
       "      <td>3.816367e+09</td>\n",
       "      <td>2.541802e+09</td>\n",
       "      <td>5.849142e+09</td>\n",
       "      <td>6.518256e+08</td>\n",
       "      <td>6.680408e+09</td>\n",
       "      <td>1.622392e+10</td>\n",
       "      <td>1.359404e+10</td>\n",
       "      <td>1.303878e+10</td>\n",
       "    </tr>\n",
       "    <tr>\n",
       "      <th>Enterobacteriaceae Gammaproteobacteria</th>\n",
       "      <td>3.102278e+05</td>\n",
       "      <td>5.276587e+06</td>\n",
       "      <td>1.644215e+07</td>\n",
       "      <td>8.909159e+07</td>\n",
       "      <td>0.000000e+00</td>\n",
       "      <td>1.177811e+07</td>\n",
       "      <td>5.226301e+05</td>\n",
       "      <td>3.302415e+07</td>\n",
       "      <td>2.406021e+08</td>\n",
       "      <td>4.552805e+06</td>\n",
       "      <td>...</td>\n",
       "      <td>0.000000e+00</td>\n",
       "      <td>0.000000e+00</td>\n",
       "      <td>0.000000e+00</td>\n",
       "      <td>0.000000e+00</td>\n",
       "      <td>0.000000e+00</td>\n",
       "      <td>0.000000e+00</td>\n",
       "      <td>0.000000e+00</td>\n",
       "      <td>7.607342e+06</td>\n",
       "      <td>0.000000e+00</td>\n",
       "      <td>0.000000e+00</td>\n",
       "    </tr>\n",
       "    <tr>\n",
       "      <th>Porphyromonadaceae Bacteroidia</th>\n",
       "      <td>2.212958e+05</td>\n",
       "      <td>2.608979e+07</td>\n",
       "      <td>2.116263e+08</td>\n",
       "      <td>2.056358e+09</td>\n",
       "      <td>4.677943e+09</td>\n",
       "      <td>4.285549e+09</td>\n",
       "      <td>6.607537e+07</td>\n",
       "      <td>4.989518e+08</td>\n",
       "      <td>8.010392e+09</td>\n",
       "      <td>9.988153e+08</td>\n",
       "      <td>...</td>\n",
       "      <td>1.092130e+10</td>\n",
       "      <td>3.230192e+10</td>\n",
       "      <td>2.681226e+09</td>\n",
       "      <td>2.888412e+09</td>\n",
       "      <td>4.670325e+09</td>\n",
       "      <td>1.971697e+09</td>\n",
       "      <td>7.286976e+09</td>\n",
       "      <td>7.982637e+09</td>\n",
       "      <td>6.559317e+09</td>\n",
       "      <td>4.238527e+09</td>\n",
       "    </tr>\n",
       "  </tbody>\n",
       "</table>\n",
       "<p>5 rows × 77 columns</p>\n",
       "</div>"
      ],
      "text/plain": [
       "                                                0.0           0.5   \\\n",
       "Bacteroidaceae Bacteroidia              3.034027e+06  3.500136e+08   \n",
       "Akkermansiaceae Verrucomicrobiae        7.652285e+04  4.690299e+06   \n",
       "Sutterellaceae Betaproteobacteria       3.102278e+04  8.794311e+05   \n",
       "Enterobacteriaceae Gammaproteobacteria  3.102278e+05  5.276587e+06   \n",
       "Porphyromonadaceae Bacteroidia          2.212958e+05  2.608979e+07   \n",
       "\n",
       "                                                1.0           1.5   \\\n",
       "Bacteroidaceae Bacteroidia              1.268299e+10  4.454062e+10   \n",
       "Akkermansiaceae Verrucomicrobiae        8.486269e+06  1.522845e+08   \n",
       "Sutterellaceae Betaproteobacteria       9.679650e+07  1.714495e+09   \n",
       "Enterobacteriaceae Gammaproteobacteria  1.644215e+07  8.909159e+07   \n",
       "Porphyromonadaceae Bacteroidia          2.116263e+08  2.056358e+09   \n",
       "\n",
       "                                                2.0           2.5   \\\n",
       "Bacteroidaceae Bacteroidia              7.430666e+10  7.934913e+10   \n",
       "Akkermansiaceae Verrucomicrobiae        8.292097e+09  3.354910e+10   \n",
       "Sutterellaceae Betaproteobacteria       5.126302e+09  6.476278e+09   \n",
       "Enterobacteriaceae Gammaproteobacteria  0.000000e+00  1.177811e+07   \n",
       "Porphyromonadaceae Bacteroidia          4.677943e+09  4.285549e+09   \n",
       "\n",
       "                                                3.0           3.5   \\\n",
       "Bacteroidaceae Bacteroidia              1.222880e+09  2.561669e+10   \n",
       "Akkermansiaceae Verrucomicrobiae        3.560853e+08  1.446458e+10   \n",
       "Sutterellaceae Betaproteobacteria       7.344197e+07  7.861183e+08   \n",
       "Enterobacteriaceae Gammaproteobacteria  5.226301e+05  3.302415e+07   \n",
       "Porphyromonadaceae Bacteroidia          6.607537e+07  4.989518e+08   \n",
       "\n",
       "                                                4.0           4.5   ...  \\\n",
       "Bacteroidaceae Bacteroidia              1.569016e+11  1.331800e+10  ...   \n",
       "Akkermansiaceae Verrucomicrobiae        4.582641e+10  9.285970e+09  ...   \n",
       "Sutterellaceae Betaproteobacteria       6.508702e+09  7.456093e+08  ...   \n",
       "Enterobacteriaceae Gammaproteobacteria  2.406021e+08  4.552805e+06  ...   \n",
       "Porphyromonadaceae Bacteroidia          8.010392e+09  9.988153e+08  ...   \n",
       "\n",
       "                                                58.5          59.0  \\\n",
       "Bacteroidaceae Bacteroidia              1.125996e+11  2.775373e+11   \n",
       "Akkermansiaceae Verrucomicrobiae        4.733425e+07  0.000000e+00   \n",
       "Sutterellaceae Betaproteobacteria       1.811611e+09  1.887511e+10   \n",
       "Enterobacteriaceae Gammaproteobacteria  0.000000e+00  0.000000e+00   \n",
       "Porphyromonadaceae Bacteroidia          1.092130e+10  3.230192e+10   \n",
       "\n",
       "                                                59.5          60.0  \\\n",
       "Bacteroidaceae Bacteroidia              3.534197e+10  2.194740e+10   \n",
       "Akkermansiaceae Verrucomicrobiae        1.695446e+07  2.038879e+07   \n",
       "Sutterellaceae Betaproteobacteria       3.816367e+09  2.541802e+09   \n",
       "Enterobacteriaceae Gammaproteobacteria  0.000000e+00  0.000000e+00   \n",
       "Porphyromonadaceae Bacteroidia          2.681226e+09  2.888412e+09   \n",
       "\n",
       "                                                60.5          61.0  \\\n",
       "Bacteroidaceae Bacteroidia              4.846120e+10  1.749254e+10   \n",
       "Akkermansiaceae Verrucomicrobiae        3.338698e+07  4.526567e+07   \n",
       "Sutterellaceae Betaproteobacteria       5.849142e+09  6.518256e+08   \n",
       "Enterobacteriaceae Gammaproteobacteria  0.000000e+00  0.000000e+00   \n",
       "Porphyromonadaceae Bacteroidia          4.670325e+09  1.971697e+09   \n",
       "\n",
       "                                                62.0          63.0  \\\n",
       "Bacteroidaceae Bacteroidia              4.865698e+10  7.254361e+10   \n",
       "Akkermansiaceae Verrucomicrobiae        2.140830e+07  1.272962e+09   \n",
       "Sutterellaceae Betaproteobacteria       6.680408e+09  1.622392e+10   \n",
       "Enterobacteriaceae Gammaproteobacteria  0.000000e+00  7.607342e+06   \n",
       "Porphyromonadaceae Bacteroidia          7.286976e+09  7.982637e+09   \n",
       "\n",
       "                                                64.0          64.5  \n",
       "Bacteroidaceae Bacteroidia              7.899771e+10  5.742047e+10  \n",
       "Akkermansiaceae Verrucomicrobiae        3.437574e+09  7.088859e+09  \n",
       "Sutterellaceae Betaproteobacteria       1.359404e+10  1.303878e+10  \n",
       "Enterobacteriaceae Gammaproteobacteria  0.000000e+00  0.000000e+00  \n",
       "Porphyromonadaceae Bacteroidia          6.559317e+09  4.238527e+09  \n",
       "\n",
       "[5 rows x 77 columns]"
      ]
     },
     "execution_count": 8,
     "metadata": {},
     "output_type": "execute_result"
    }
   ],
   "source": [
    "df, _ = subject.cluster_by_taxlevel(dtype='abs', taxlevel='family', index_formatter='%(order)s %(family)s')\n",
    "df.head()"
   ]
  },
  {
   "cell_type": "markdown",
   "metadata": {},
   "source": [
    "The `md2.Study` object is an object that references multiple `Subject` objects and contains all of the information used in a study. Most of the major commands are done through the `Study` object so that all of the various data structures stay consistent with each other. You can index a subject both with its index and its name:"
   ]
  },
  {
   "cell_type": "code",
   "execution_count": 9,
   "metadata": {},
   "outputs": [
    {
     "name": "stdout",
     "output_type": "stream",
     "text": [
      "7\n",
      "7\n"
     ]
    }
   ],
   "source": [
    "subj = study[2]\n",
    "print(subj.name)\n",
    "subj = study[subj.name]\n",
    "print(subj.name)"
   ]
  },
  {
   "cell_type": "markdown",
   "metadata": {},
   "source": [
    "It is with the `Study` object that we do the majority of the parsing of the tables (`md2.Study.parse`). We can also remove certain data from the study manually:\n",
    "* Remove timepoints with `study.pop_times`\n",
    "* Remove subjects with `study.pop_subjects`\n",
    "* Remove taxa with `stuy.pop_taxa`"
   ]
  },
  {
   "cell_type": "code",
   "execution_count": 10,
   "metadata": {},
   "outputs": [
    {
     "name": "stdout",
     "output_type": "stream",
     "text": [
      "2021-07-02 19:24:54,358 [INFO] [base.py (1284)] - TaxaSet parsng new taxonomy table. Resetting\n",
      "2021-07-02 19:24:54,363 [INFO] [base.py (1294)] - No `name` found - assuming index is the name\n",
      "removing subject 10\n",
      "number of subjects: 5\n",
      "number of subjects: 4\n",
      "Removing the timepoint 1 from all subjects\n",
      "[ 0.   0.5  1.   1.5  2.   2.5  3.   3.5  4.   4.5  5.   6.   7.   8.\n",
      "  9.  10.  11.  14.  16.  18.  21.  21.5 22.  22.5 23.  23.5 24.  25.\n",
      " 28.  28.5 29.  29.5 30.  30.5 31.  31.5 32.  33.  35.  35.5 36.  36.5\n",
      " 37.  37.5 38.  39.  42.  42.5 43.  43.5 44.  44.5 45.  45.5 46.  47.\n",
      " 50.  50.5 51.  51.5 52.  52.5 53.  54.  57.  57.5 58.  58.5 59.  59.5\n",
      " 60.  60.5 61.  62.  63.  64.  64.5]\n",
      "[ 0.   0.5  1.5  2.   2.5  3.   3.5  4.   4.5  5.   6.   7.   8.   9.\n",
      " 10.  11.  14.  16.  18.  21.  21.5 22.  22.5 23.  23.5 24.  25.  28.\n",
      " 28.5 29.  29.5 30.  30.5 31.  31.5 32.  33.  35.  35.5 36.  36.5 37.\n",
      " 37.5 38.  39.  42.  42.5 43.  43.5 44.  44.5 45.  45.5 46.  47.  50.\n",
      " 50.5 51.  51.5 52.  52.5 53.  54.  57.  57.5 58.  58.5 59.  59.5 60.\n",
      " 60.5 61.  62.  63.  64.  64.5]\n"
     ]
    }
   ],
   "source": [
    "study = md2.dataset.load_gibson(dset='uc')\n",
    "print('removing subject 10')\n",
    "print('number of subjects:', len(study))\n",
    "study.pop_subject('10')\n",
    "print('number of subjects:', len(study))\n",
    "\n",
    "subject = study['6']\n",
    "\n",
    "print('Removing the timepoint 1 from all subjects')\n",
    "print(subject.times)\n",
    "study.pop_times(1)\n",
    "print(subject.times)\n",
    "\n"
   ]
  },
  {
   "cell_type": "markdown",
   "metadata": {},
   "source": [
    "We can also create numpy matrices and `DataFrame`s of the data at the study level using `study.matrix` and `study.df`. This works the same the `matrix` and `df` functions for the `Subject` object but this will aggregate the different subjects together in a way that you describe. See documentation for details.\n",
    "\n",
    "Another key feature of the `Study` object is the `study.normalize_qpcr` and `study.denormalize_qpcr` functions. These are used to rescale the data either higher or lower. This is done for numerical reasons during inference. We learn the parameters in normalized space, and then we denormalize then with the function `mdsine2.run.denormalize_parameters`."
   ]
  },
  {
   "cell_type": "markdown",
   "metadata": {
    "pycharm": {
     "name": "#%% md\n"
    }
   },
   "source": [
    "### `md2.Perturbations` and `md2.BasePerturbation` <a class=\"anchor\" id=\"perturbationsandbaseperturbatio\"></a>\n",
    "The last core data structure used to wrap the raw data are the `md2.Perturbations` (location in code: `mdsine2.pylab.base.Perturbations`) object and the `md2.BasePerturbation` (location in code: `mdsine2.pylab.base.BasePerturbation`) object. These hold the information for what subject has what perturbation.\n",
    "\n",
    "The `BasePerturbation` class is analogous to the `Subject` class in the sense that it stores in the information needed for a single perturbation. Internal parameters include:\n",
    " * `name` (`str`): This is the name of the perturbation\n",
    " * `starts` (`dict`: `str` -> `float`): This maps the name of the subject that has this perturbation to the start time of the perturbation\n",
    " * `ends` (`dict`: `str` -> `float`): This maps the name of the subject that has this perturbation to the end time of the perturbation\n",
    " \n",
    "The `Perturbations` class is analogous to the `Study` class in the sense that it agglomerates many perturbations. You can index the perturbations by their name, Python ID, or their index.\n",
    " "
   ]
  },
  {
   "cell_type": "markdown",
   "metadata": {},
   "source": [
    "### Everything is connected to each other through the `Study` class <a class=\"anchor\" id=\"everythingisconnected\"></a>\n",
    "\n",
    "The `Study` object connects all of the aggregator classes together:\n",
    " * `study.perturbations` -> `Perturbations`\n",
    " * `study.taxa` -> `TaxaSet`\n",
    " \n",
    "Each subject also has the `.perturbations` and `.taxa` pointer but as a `@property` so that it points to the same pointer that the study object is:\n",
    "```python\n",
    "\n",
    "class Subject(Saveable):\n",
    "    \n",
    "    ...\n",
    "    \n",
    "    @property\n",
    "    def perturbations(self) -> Perturbations:\n",
    "        return self.parent.perturbations\n",
    "\n",
    "    @property\n",
    "    def taxa(self) -> TaxaSet:\n",
    "        return self.parent.taxa\n",
    "    \n",
    "    ...\n",
    "\n",
    "```\n",
    "\n",
    "When we make changes to the data as a whole, 99% of the time this is done with the `Study` object so that everything can stay consistent. For example, when we remove taxa from the inference, the `Study` object removes the reads at the respective indices in each subject, tells the `TaxaSet` object to remove that from the set, and tells it to reorder the indices of the taxa so that they are sequential again."
   ]
  },
  {
   "cell_type": "markdown",
   "metadata": {},
   "source": [
    "## `Graph` object <a class=\"anchor\" id=\"graphobject\"></a>\n",
    "\n",
    "The `md2.Graph` (location in code: `mdsine2.pylab.graph.Graph`) is a compute graph that references the variables and objects used during inference. When we build the graph during inference, we are initializing the inference objects within this graph.\n",
    "\n",
    "This object can be accessed within each object using the `.G` pointer or within the `BaseMCMC` object (described below) with the pointer `.graph`. To access objects, use the `__getitem__` function in python:\n",
    "```python\n",
    "    growth = mcmc.graph[STRNAMES.GROWTH_VALUE]\n",
    "    clustering = growth.G[STRNAMES.CLUSTERING]\n",
    "```"
   ]
  },
  {
   "cell_type": "markdown",
   "metadata": {},
   "source": [
    "## `DataNode` object  <a class=\"anchor\" id=\"datanodeobject\"></a>\n",
    "The `md2.design_matrices` module describes the objects that are used to make the regression matrices during inference. The `mdsine2.DataNode` (location in code: `mdsine2.pylab.graph.DataNode`) is a base class that is used to set the `.data` pointer in the `Graph` object:\n",
    "```python\n",
    "data = mcmc.graph.data\n",
    "data = growth.G.data\n",
    "```\n",
    "This object references the objects that build the regression matrices using the current values of the latent trajectory. Each variable has its own design matrix that builds these matrices and can all be found in the `mdsine2.design_matrices` folder. These objects are initialized in `mdsine2.run.initialize_graph` and are constantly updated during inference when values are updated or the latent state changes.\n",
    "\n",
    "To access these files, use their name of the respective variable they build for:\n",
    "```python\n",
    "growth_design_matrix = mcmc.graph.data.design_matrices[STRNAMES.GROWTH_VALUE]\n",
    "```\n",
    "This accesses the `mdsine2.design_matrices.GrowthDesignMatrix` object. This is analugous for the other design matrices.\n",
    "\n",
    "In the case for the interactions and perturbations, the design matrices are composed of 3 different components that have the following relationship:\n",
    "\n",
    "\\\\[ \\text{DesignMatrix} = \\text{BaseDesignMatrix} \\times \\text{MixingDesignMatrix} \\\\]\n",
    "\n",
    "* `*BaseDesignMatrix`: This objects builds the perturbation or interaction matrices as if it were only building for the taxon-taxon relationships. These matrices do not take into account the indicators.\n",
    "* `*MixingDesignMatrix`: This object aggregates the taxon-taxon relationships into cluster-cluster relationships and selects which ones to return based on the indicators\n",
    "* `*DesignMatrix`: This object wraps both of the above objects and is what the variables interact with\n",
    "\n",
    "These objects are composed like this for performance reasons. The vast majority of the computation is used to build the `*BaseDesignMatrix` as this is an extrememly large matrix. When designed like this, the only time we need to update this matrix is when we update the values of the latent state. The mixing matrix in comparison is much simpler and is very fast to construct. This matrix changes when the indicators change and when the cluster assignment changes - so the only thing we need to update is this matrix and then we multiply them together to get the regression matrix. The multiplication is reasonably fast because they are both composed as `scipy.sparse` matrices. If we were to combine these two classes into one, we would need to update the values each time we change the cluster assignment and when we change the indicator variables, which would be computationally infeasible. It makes the construction of these matrices more complicated but the result is inference that is ~80X faster.\n",
    "\n",
    "That being said, ~35% of the computation when updating the cluster assignments is used for the \\\\(\\text{BaseDesignMatrix} \\times \\text{MixingDesignMatrix} \\\\) multiplication, so it still uses a considerable amount of computation."
   ]
  },
  {
   "cell_type": "markdown",
   "metadata": {},
   "source": [
    "## `md2.Clustering` object <a class=\"anchor\" id=\"clusteringobject\"></a>\n",
    "The `md2.Clustering` (location in code: `mdsine2.pylab.cluster.Clustering`) is the object that clusters the `Taxon` objects together into dynamical clusters. In the graph, this object is referenced as `STRNAMES.CLUSTERING_OBJ`. This object is distinct from the `mdsine2.posterior.ClusterAssignments` class (which has the name `STRNAMES.CLUSTERING`) because the `ClusterAssignments` class implements the posterior sampling for the cluster assignments. A good way to think about it is that the `ClusterAssignments` class computes what the cluster assignments should be and the `Clustering` class actually changes the clusters. Each cluster is an internal object that stores the ID of the cluster and the members associated with that cluster.\n",
    "\n",
    "For computational efficiency, the `Clustering` object clusters the __indices__ of the Taxons. These indices correspond to the indices in `TaxaSet`. The notation for specifying clusters is the same that's used in `sklearn` and `scipy`:\n"
   ]
  },
  {
   "cell_type": "code",
   "execution_count": 11,
   "metadata": {
    "pycharm": {
     "name": "#%%\n"
    }
   },
   "outputs": [
    {
     "name": "stdout",
     "output_type": "stream",
     "text": [
      "node_1, n_clusters: 4\n",
      "Cluster 100100\n",
      "\tmembers: ['Taxon_1', 'Taxon_4']\n",
      "\tsize: 2\n",
      "Cluster 100101\n",
      "\tmembers: ['Taxon_2', 'Taxon_3']\n",
      "\tsize: 2\n",
      "Cluster 100102\n",
      "\tmembers: ['Taxon_7', 'Taxon_8']\n",
      "\tsize: 2\n",
      "Cluster 100103\n",
      "\tmembers: ['Taxon_9', 'Taxon_10', 'Taxon_5', 'Taxon_6']\n",
      "\tsize: 4\n"
     ]
    }
   ],
   "source": [
    "# Generate a random TaxaSet of size 10\n",
    "taxa = md2.TaxaSet()\n",
    "taxa.make_random(10)\n",
    "\n",
    "# Set the cluster assignments\n",
    "cassign = np.asarray([0,1,1,0,3,3,2,2,3,3])\n",
    "clustering = md2.Clustering(clusters=cassign, items=taxa)\n",
    "print(clustering)"
   ]
  },
  {
   "cell_type": "markdown",
   "metadata": {
    "pycharm": {
     "name": "#%% md\n"
    }
   },
   "source": [
    "### Moving taxa around\n",
    "You can change the cluster assignments of the items using two different functions:\n",
    "* `clustering.move_item`: Move an taxon to another cluster\n",
    "* `clustering.make_new_cluster_with`: Make a new cluster with the specified taxon. Note that if you try to move a taxon to a cluster that doesn't exist, this will automatically call `make_new_cluster_with`:"
   ]
  },
  {
   "cell_type": "code",
   "execution_count": 12,
   "metadata": {
    "pycharm": {
     "name": "#%%\n"
    }
   },
   "outputs": [
    {
     "name": "stdout",
     "output_type": "stream",
     "text": [
      "Make a new cluster with Taxon_4\n",
      "node_1, n_clusters: 5\n",
      "Cluster 100100\n",
      "\tmembers: ['Taxon_1']\n",
      "\tsize: 1\n",
      "Cluster 100101\n",
      "\tmembers: ['Taxon_2', 'Taxon_3']\n",
      "\tsize: 2\n",
      "Cluster 100102\n",
      "\tmembers: ['Taxon_7', 'Taxon_8']\n",
      "\tsize: 2\n",
      "Cluster 100103\n",
      "\tmembers: ['Taxon_9', 'Taxon_10', 'Taxon_5', 'Taxon_6']\n",
      "\tsize: 4\n",
      "Cluster 100104\n",
      "\tmembers: ['Taxon_4']\n",
      "\tsize: 1\n",
      "\n",
      "Move Taxon_1 into cluster 100103\n",
      "node_1, n_clusters: 4\n",
      "Cluster 100101\n",
      "\tmembers: ['Taxon_2', 'Taxon_3']\n",
      "\tsize: 2\n",
      "Cluster 100102\n",
      "\tmembers: ['Taxon_7', 'Taxon_8']\n",
      "\tsize: 2\n",
      "Cluster 100103\n",
      "\tmembers: ['Taxon_1', 'Taxon_5', 'Taxon_6', 'Taxon_9', 'Taxon_10']\n",
      "\tsize: 5\n",
      "Cluster 100104\n",
      "\tmembers: ['Taxon_4']\n",
      "\tsize: 1\n"
     ]
    }
   ],
   "source": [
    "print('Make a new cluster with Taxon_4')\n",
    "clustering.make_new_cluster_with(idx=3)\n",
    "print(clustering)\n",
    "\n",
    "print('\\nMove Taxon_1 into cluster 100103')\n",
    "clustering.move_item(idx=0, cid=100103)\n",
    "print(clustering)"
   ]
  },
  {
   "cell_type": "markdown",
   "metadata": {
    "pycharm": {
     "name": "#%% md\n"
    }
   },
   "source": [
    "Notice how when we moved `Taxon_1` into cluster `100103`, the old cluster automatically deleted itself because it had a size of 0.\n",
    "\n",
    "### Iterating through clusters\n",
    "\n",
    "Another utility of this class is to iterate through the clusters. When iterating, it will always do it in __order of the clusters__:"
   ]
  },
  {
   "cell_type": "code",
   "execution_count": 13,
   "metadata": {
    "pycharm": {
     "name": "#%%\n"
    }
   },
   "outputs": [
    {
     "name": "stdout",
     "output_type": "stream",
     "text": [
      "100101\n",
      "\t {1, 2}\n",
      "100102\n",
      "\t {6, 7}\n",
      "100103\n",
      "\t {0, 4, 5, 8, 9}\n",
      "100104\n",
      "\t {3}\n"
     ]
    }
   ],
   "source": [
    "for cluster in clustering:\n",
    "    print(cluster.id)\n",
    "    print('\\t', cluster.members)"
   ]
  },
  {
   "cell_type": "markdown",
   "metadata": {
    "pycharm": {
     "name": "#%% md\n"
    }
   },
   "source": [
    "Notice how this is the same order as above. You can also write the current configuration to the cluster assignment notation as specified above:"
   ]
  },
  {
   "cell_type": "code",
   "execution_count": 14,
   "metadata": {
    "pycharm": {
     "name": "#%%\n"
    }
   },
   "outputs": [
    {
     "data": {
      "text/plain": [
       "array([2, 0, 0, 3, 2, 2, 1, 1, 2, 2])"
      ]
     },
     "execution_count": 14,
     "metadata": {},
     "output_type": "execute_result"
    }
   ],
   "source": [
    "clustering.toarray()"
   ]
  },
  {
   "cell_type": "markdown",
   "metadata": {
    "pycharm": {
     "name": "#%% md\n"
    }
   },
   "source": [
    "### Tracing\n",
    "\n",
    "Tracing the assignments of the clusters is done using two different variables:\n",
    "* `n_clusters` (`md2.Variable`): Records the number of clusters for each gibb step\n",
    "* `coclusters` (`md2.Variable`): Records the cocluster matrix at each gibb step\n",
    "\n",
    "These are both updated when we record the trace for the gibb step using `md2.Clustering.add_trace`. You can generate a coclustering matrix by using the function `generate_colcusters`:"
   ]
  },
  {
   "cell_type": "code",
   "execution_count": 15,
   "metadata": {
    "pycharm": {
     "name": "#%%\n"
    }
   },
   "outputs": [
    {
     "data": {
      "text/plain": [
       "<AxesSubplot:title={'center':'Microbe Co-cluster Probabilities'}>"
      ]
     },
     "execution_count": 15,
     "metadata": {},
     "output_type": "execute_result"
    },
    {
     "data": {
      "image/png": "[encoded data removed]",
      "text/plain": [
       "<Figure size 720x720 with 2 Axes>"
      ]
     },
     "metadata": {
      "needs_background": "light"
     },
     "output_type": "display_data"
    }
   ],
   "source": [
    "cocluster = clustering.generate_coclusters()\n",
    "md2.visualization.render_cocluster_probabilities(cocluster, taxa=taxa)"
   ]
  },
  {
   "cell_type": "markdown",
   "metadata": {
    "pycharm": {
     "name": "#%% md\n"
    }
   },
   "source": [
    "### Cluster properties\n",
    "\n",
    "The last part of the clustering object are `md2.ClusterProperty` (location in code: `mdsine2.pylab.cluster.Clustering`) objects. These are objects that \n",
    "depend on the cluster assignments and need to get updated if the current cluster assignments are changed. Examples of these are the interactions and the perturbations. The way this is done is by an object inheriting the `md2.ClusterProperty` class and specifying these two parameters:\n",
    "* `signal_when_clusters_change`: If this is True, the `Clustering` object will call the `ClusterProperty.clusters_changed` function in each one of the cluster properties if the number of clusters change. This function has two parameters: `cids_added` `(List[int])` and `cids_removed` `(List[int])`, where they list the cluster IDs that were added and removed, respectively. For examples of this implementation, see `mdsine2.pylab.contrib.Interactions.clusters_changed`.\n",
    "* `signal_when_item_assignment_changes`: If this is True, the `Clustering` object will call the `ClusterProperty.assignments_cahnged` function in each one of the cluster properties if the assignment of a taxon in the cluster changes __but the number of clusters do not change__. __This function is not used__ in MDSINE2 because the Interactions and perturbations have nothing to do with the specific assignment of each taxon, they only care about the clusters."
   ]
  },
  {
   "cell_type": "markdown",
   "metadata": {},
   "source": [
    "## `md2.Interactions` object  <a class=\"anchor\" id=\"interactionsobject\"></a>\n",
    "\n",
    "An example of a cluster property is the `md2.Interactions` (location in code: `mdsine2.pylab.contrib.Interactions`) object. This object implements the cluster-cluster interactions and has the name `STRNAMES.INTERACTIONS_OBJ`. This has an analogous relationship to the objects in `mdsine2.posterior` and `md2.Clustering` has with `md2.posterior.ClusterAssignments`. `md2.Interactions` is the object that actually changes the interactions while the objects in `mdsine2.posterior` tell it how to change them.\n",
    "\n",
    "The `Interactions` object can be thought of as an two-level dictionary with some added functionality. The first level of the dictionary indexes the target cluster and the second level indexes the source cluster. __This is the notation that is used in control theory__. Each interaction is an object that has the following properties:\n",
    "* `source_cid` (`int`) This is the ID of the source cluster\n",
    "* `target_cid` (`int`): This is the ID of the target cluster\n",
    "* `value` (`float`): This is the value of the interaction\n",
    "* `indicator` (`bool`): This is the indicator of the interaction\n",
    "* `id` (`int`): This is the python ID of the interaction object.\n",
    "\n",
    "When iterating through the interactions, this is done in cluster order:"
   ]
  },
  {
   "cell_type": "code",
   "execution_count": 16,
   "metadata": {
    "pycharm": {
     "name": "#%%\n"
    }
   },
   "outputs": [
    {
     "name": "stdout",
     "output_type": "stream",
     "text": [
      "target_cid source_cid\n",
      "100101 100102\n",
      "100101 100103\n",
      "100101 100104\n",
      "100102 100101\n",
      "100102 100103\n",
      "100102 100104\n",
      "100103 100101\n",
      "100103 100102\n",
      "100103 100104\n",
      "100104 100101\n",
      "100104 100102\n",
      "100104 100103\n"
     ]
    }
   ],
   "source": [
    "interactions = md2.Interactions(clustering=clustering, use_indicators=True)\n",
    "print('target_cid source_cid')\n",
    "for interaction in interactions:\n",
    "    print(interaction.target_cid, interaction.source_cid)"
   ]
  },
  {
   "cell_type": "markdown",
   "metadata": {
    "pycharm": {
     "name": "#%% md\n"
    }
   },
   "source": [
    "If the order of the clusters change, then this object will automatically reflect that (it looks at `Clustering.order`).\n",
    "\n",
    "The order of the interactions go as follows:\n",
    "```python\n",
    "for target_cid in clustering.order:\n",
    "    for source_cid in clustering.order:\n",
    "        if target_cid == source_cid:\n",
    "            continue\n",
    "        ...\n",
    "```\n",
    "This order is preserved throughout all of inference. This is the order that is used in the regression matrices.\n",
    "\n",
    "Other that iterating through interactions and specifying the order, the `Interactions` object records the trace of the interactions (negative indicators are set to `NaN`) and reads in/outputs matrices at either the cluster or taxon level.\n",
    "\n",
    "For description of functions and other types of iteration, see the documentation at `mdsine2.pylab.contrib.Interactions`."
   ]
  },
  {
   "cell_type": "markdown",
   "metadata": {},
   "source": [
    "## `md2.BaseMCMC` and `md2.Tracer` object  <a class=\"anchor\" id=\"basemcmcandtracerobject\"></a>\n",
    "\n",
    "The last major objects are the `md2.BaseMCMC` object (location in code: `mdsine2.pylab.inference.BaseMCMC`) and the `md2.Tracer` object (location in code: `mdsine2.pylab.inference.Tracer`). These objects loop through the gibb steps and record the posteriors into disk, respectively.\n",
    "\n",
    "### Updating the posterior\n",
    "The posterior distributions of all the parameters learned in MDSINE2 are implemented in the (rather large) `mdsine2.posterior` module. These are objects are added to `BaseMCMC` and must have the following attributes:\n",
    "* `add_trace`and `set_trace`: These are functions for recording the values for each Gibb step in the posterior, more details are below in \"Recording a trace\"\n",
    "* `update`: This is the function that is called by `BaseMCMC` where the parameter actually implements and samples the posterior distribution. \n",
    "If the object does not have these functions, `BaseMCMC` will automatically crash.\n",
    "\n",
    "### Specifying the inference order\n",
    "The first thing to do when specifying the `BaseMCMC` object is to specify the inference order. This is a list (in order) of names of the objects where we sample the posterior using the `update` function. More details are below.\n",
    "\n",
    "In MDSINE2, the overall order is specified in `mdsine2.config.MDSINE2ModelConfig.INFERENCE_ORDER` (`list`). The parameter is set in the inference order if it is flagged to be learned, which is done in `mdsine2.config.MDSINE2ModelConfig.LEARN` (`dict`). \n",
    "\n",
    "### Initialization\n",
    "Initialization functions, which we implement in the `mdsine2.posterior` objects with the fucntion `initialize` __are not required__ to run `BaseMCMC`. This was not made mandatory by `BaseMCMC` for flexibility reasons.\n",
    "\n",
    "In MDSINE2, initialization is done in the function `mdsine2.run.initialize_graph` in the order specified in `mdsine2.config.MDSINE2ModelConfig.INITIALIZATION_ORDER` (`list`). In this function, the `initialization` function of the object is called with the arguments specified in `mdsine2.config.MDSINE2ModelConfig.INITIALIZATION_KWARGS` (`dict`) for each object respectively. \n",
    "\n",
    "### Tracing and setting up the traces in disk\n",
    "\n",
    "If the inference is long enough, you will not have enough space on RAM to store all of the traces. That is where we use the `Tracer` object. This object is managed by the `BaseMCMC` object and is responsible for writing the posterior samples to disk to clear up space in RAM. Each variable being learned has its own trace in disk where it is stored. The `Tracer` object is rarely used directly by the user directly.\n",
    "\n",
    "If the user wants to write the traces to disk, which is done with the function `mdsine2.BaseMCMC.set_tracer`, `BaseMCMC` sets up a couple of different things. The first thing it does is it creates the `Tracer` object and tells it to set up disk memory for each variable. The next thing it does it set up a \"local trace\" (this can be accessed on a variable using `.trace`). This is a small buffer on RAM for a variable to record its trace. Once the buffer is full, the entire buffer is then written to disk. This is done because writing to disk is very slow, so we want to do it as infrequently as possible. In MDSINE2, the local buffer has a default size of 100, which means that we only write to disk every 100 Gibb steps. This number can be larger/smaller depending how much RAM your computer has. This number is specified with the `checkpoint` parameter in `mdsine2.config.MDSINE2ModelConfig`. Note that `checkpoint` must be a multiple of `burnin` (initial number of gibb steps to throw away) and `n_samples` (total number of gibb steps).\n",
    "\n",
    "All of this writing to disk is done automatically and requires little to no user interference. The function that `BaseMCMC` calls to set up the trace locally and in disk is called `set_trace`. This function is implemented for basic types but needs to be overwritten if an object is comprised of sub-objects (see `mdsine2.posterior.GLVParameters.set_trace` and `mdsine2.posterior.TrajectorySet.set_trace` for examples) or if is an object that is dependent on another (see `mdsine2.posterior.ClusterAssignments` for examples).\n",
    "\n",
    "To access these values in disk, see below the section [Retrieve trace from disk](#retrievetracefromdisk).\n",
    "\n",
    "### Recording a trace\n",
    "\n",
    "Once the posterior is sampled, it is recorded to the local/disk trace using the function `add_trace` on the posterior objects. This function is called automatically by `BaseMCMC` after it calls the function `update`. \n",
    "\n",
    "### Looping through gibb steps\n",
    "\n",
    "The actual loop where all the magic happens in `md2.BaseMCMC.run`. If a run crashes or is stopped by any reason, call the function `md2.BaseMCMC.continue_inference` before you call `md2.BaseMCMC.run`, which will set up the `Tracer` object and `BaseMCMC` object to resume where it had left off.\n"
   ]
  },
  {
   "cell_type": "markdown",
   "metadata": {},
   "source": [
    "# Common functionality <a class=\"anchor\" id=\"commonfunctionality\"></a>\n",
    "If there is a command that is not listed here that you don't know where it is in the code, a way that you can find it is by looking in the `mdsine2.__init__` file. By seeing the module that the function/class is imported from, you can see the location in the code.\n",
    "\n",
    "The `import` statements in the `__init__` file allow the user to access functions/classes directly from the imported package instead of having to go throughout all of the submodules. For example, instead of loading a `Study` object as\n",
    "```python\n",
    "study = md2.pylab.base.Study(...)\n",
    "```\n",
    "we can import it directly from the `mdsine2` package:\n",
    "```python\n",
    "study = md2.Study(...)\n",
    "```\n",
    "We can do this because it is imported in the `__init__` file. \n",
    "\n",
    "We can see the location in the code where the `Study` object is implemented by looking in the `__init__` file:\n",
    "```python\n",
    "from .pylab.base import ..., Study, ...\n",
    "```\n",
    "Note that there are many objects/functions that are imported on the same line.\n",
    "\n",
    "To find the documentation of the different classes and functions, you can look at the html files `docs` folder of the autogenerated docs. The location of the functions/classes in the docs are the same as their location in the code, so if you don't know the location, then you need to look at the `__init__` file."
   ]
  },
  {
   "cell_type": "code",
   "execution_count": 17,
   "metadata": {
    "pycharm": {
     "name": "#%%\n"
    }
   },
   "outputs": [],
   "source": [
    "import mdsine2 as md2\n",
    "from mdsine2.names import STRNAMES"
   ]
  },
  {
   "cell_type": "markdown",
   "metadata": {
    "pycharm": {
     "name": "#%% md\n"
    }
   },
   "source": [
    "### Reading in the Gibson dataset <a class=\"anchor\" id=\"readinginthegibsondataset\"></a>\n",
    "    \n",
    "This will automatically try to download this dataset from github. If there is no internet connection, then you can provide a path with the parameter `load_local` that will look in that path for all the files.\n",
    "\n",
    "* Location in MDSINE2: `MDSINE2.dataset.load_gibson`\n",
    "\n",
    "*  Command: `study = md2.dataset.load_gibson(...)`\n",
    "\n",
    "* Example:\n",
    "\n",
    "   ```python\n",
    "   # Load healthy\n",
    "   healthy = md2.dataset.load_gibson(dset='healthy')\n",
    "   # Load uc\n",
    "   uc = md2.dataset.load_gibson(dset='uc')\n",
    "   ```\n"
   ]
  },
  {
   "cell_type": "markdown",
   "metadata": {},
   "source": [
    "### Retrieve trace from disk <a class=\"anchor\" id=\"retrievetracefromdisk\"></a>\n",
    "    \n",
    "Get the Gibb samples of a variable from disk. This has 3 difference options:\n",
    "1. `section='posterior'` : This only gets the Gibb samples post-burnin\n",
    "2. `section='burnin'` : This only gets the Gibb samples used for burnin\n",
    "3. `section='entire'` : Gets all of the Gibb samples (`burnin` + `posterior`)\n",
    "\n",
    "* Location in MDSINE2: `MDSINE2.pylab.inference.Tracer.get_trace`\n",
    "\n",
    "* Example:\n",
    "    Load using `Tracer` object\n",
    "\n",
    "    ```python\n",
    "    mcmc = md2.BaseMCMC.load(path/to/mcmc.pkl)\n",
    "\n",
    "    # Get the growth parameters from disk of the posterior\n",
    "    trace = mcmc.tracer.get_trace(name=STRNAMES.GROWTH_VALUE, section='posterior')\n",
    "    ```\n",
    "\n",
    "    Load directly from the object\n",
    "\n",
    "    ```python\n",
    "    mcmc = md2.BaseMCMC.load(path/to/mcmc.pkl)\n",
    "    growth = mcmc.graph[STRNAMES.GROWTH_VALUE]\n",
    "\n",
    "    # Get the growth parameters from disk from the posterior\n",
    "    trace = growth.get_trace_from_disk(section='posterior')\n",
    "    ```\n",
    "\n",
    "    Note that these two are the exact same - the function `get_trace_from_disk` internally calls `tracer.get_trace`\n",
    "    and passes in its own name. You can call this function for any variable you are tracing during inference\n",
    "            "
   ]
  },
  {
   "cell_type": "markdown",
   "metadata": {},
   "source": [
    "### Get statistics of a trace <a class=\"anchor\" id=\"getstatisticsofatrace\"></a>\n",
    "    \n",
    "Calculate some statistics of a trace. \n",
    "\n",
    "* Automatically calculates and returns a dictionary of:\n",
    "    * `'mean'`\n",
    "    * `'median'`\n",
    "    * `'25th percentile'`\n",
    "    * `'75th percentile'`\n",
    "\n",
    "* Location in MDSINE2: `MDSINE2.pylab.variables.summary`\n",
    "\n",
    "* Command: `md2.summary`\n",
    "\n",
    "* Example:\n",
    "\n",
    "    Using objects directly\n",
    "    ```python\n",
    "    mcmc = md2.BaseMCMC.load(path/to/mcmc.pkl)\n",
    "    processvar = mcmc.graph[STRNAMES.PROCESSVAR]\n",
    "    summ = md2.summary(processvar, section='posterior')\n",
    "    # Get the mean\n",
    "    mean = summ['mean']\n",
    "    ```\n",
    "\n",
    "    From raw numpy files\n",
    "    ```python\n",
    "    mcmc = md2.BaseMCMC.load(path/to/mcmc.pkl)\n",
    "    processvar = mcmc.graph[STRNAMES.PROCESSVAR]\n",
    "    trace = processvar.get_trace_from_posterior(section='posterior')\n",
    "    summ = md2.summary(traces)\n",
    "    # Get the mean\n",
    "    mean = summ['mean']\n",
    "    ```\n",
    "\n",
    "    Note that these two calls are exactly the same - if you pass in a variable with a trace, it will automatically get the trace from disk by calling the function `get_trace_from_disk`. You can specify the section to retrieve using the `section` parameter.\n",
    "\n",
    "* Handling NaNs\n",
    "    By default, `md2.summary` ignores NaNs when calculating the statistics by using the functions `numpy.nanmean`, etc. If you want to set the NaNs to 0s, set the flag `set_nans_to_0=True`\n",
    "\n",
    "    - Example:\n",
    "        ```python\n",
    "        mcmc = md2.BaseMCMC.load(path/to/mcmc.pkl)\n",
    "        interactions = mcmc.graph[STRNAMES.INTERACTIONS_OBJ]\n",
    "        ```\n",
    "\n",
    "        Ignores the NaNs:\n",
    "\n",
    "        ```python\n",
    "        trace = md2.summary(interactions)\n",
    "        ```\n",
    "\n",
    "        Sets the NaNs to zero:\n",
    "\n",
    "        ```python\n",
    "        trace = md2.summary(interactins, set_nan_to_0=True)\n",
    "        ```"
   ]
  },
  {
   "cell_type": "markdown",
   "metadata": {},
   "source": [
    "### Defining the parameters of the model <a class=\"anchor\" id=\"definingtheparametersofthemodel\"></a>\n",
    "\n",
    "* Location in MDSINE2: `MDSINE2.config`\n",
    "\n",
    "* Command:\n",
    "    - Logging: `logging = md2.LoggingConfig(...)`\n",
    "        - This is used to define the logging level and the format to log with.\n",
    "        - This automatically writes all of the logging to a file that you can view later\n",
    "    - MDSINE2 parameters: `params = md2.MDSINE2ModelConfig(...)`\n",
    "        - Defines the parameters to run the MDSINE2 model\n",
    "    - Negative Binomial dispersion parameters: `params = md2.MDSINE2ModelConfig(...)`\n",
    "        - Defines the parameters to learn the Negative binomial dispersion parameters"
   ]
  },
  {
   "cell_type": "markdown",
   "metadata": {},
   "source": [
    "### Bayes factors <a class=\"anchor\" id=\"bayesfactors\"></a>\n",
    "\n",
    "Generate the bayes factors after the chains have run\n",
    "\n",
    "- Interactions\n",
    "\n",
    "    * Location in MDSINE2: `MDSINE2.util.generate_interation_bayes_factors_posthoc`\n",
    "\n",
    "    * Command: `bf = md2.generate_interation_bayes_factors_posthoc(...)`\n",
    "\n",
    "    * Example:\n",
    "\n",
    "    ```python\n",
    "    mcmc = md2.BaseMCMC.load(path/to/mcmc.pkl)\n",
    "    bf = md2.generate_interation_bayes_factors_posthoc(mcmc=mcmc, section='posterior')\n",
    "    ```\n",
    "\n",
    "- Perturbations\n",
    "\n",
    "    * Location in MDSINE2: `MDSINE2.util.generate_perturbation_bayes_factors_posthoc`\n",
    "\n",
    "    * Command: `bf = md2.generate_perturbation_bayes_factors_posthoc(...)`\n",
    "\n",
    "    * Example:\n",
    "\n",
    "    ```python\n",
    "    mcmc = md2.BaseMCMC.load(path/to/mcmc.pkl)\n",
    "    perturbation = mcmc.graph.perturbations[name_of_perturbation]\n",
    "    bf = md2.generate_perturbation_bayes_factors_posthoc(\n",
    "        mcmc=mcmc, perturbation=perturbation, section='posterior')\n",
    "    ```"
   ]
  },
  {
   "cell_type": "markdown",
   "metadata": {},
   "source": [
    "### Condensing fixed cluster interactions in perturbations into cluster-cluster interactions <a class=\"anchor\" id=\"condensingfixedcluster\"></a>\n",
    "\n",
    "- Interactions\n",
    "\n",
    "    * Location in MDSINE2: `MDSINE2.util.condense_fixed_clustering_interaction_matrix`\n",
    "\n",
    "    * Command: `M = md2.condense_fixed_clustering_interaction_matrix(...)`\n",
    "\n",
    "    * Example:\n",
    "\n",
    "    Generate cluster-cluster interactions for each gibb step\n",
    "\n",
    "    ```python\n",
    "    mcmc = md2.BaseMCMC.load(path/to/fixed/clustering/mcmc.pkl)\n",
    "    clustering = mcmc.graph[STRNAMES.CLUSTERING_OBJ]\n",
    "    M = mcmc.graph[STRNAMES.INTERACTIONS_OBJ].get_trace_from_disk(\n",
    "        section='posterior') # (n_gibbs, n_taxa, n_taxa)\n",
    "    M_condense = md2.condense_fixed_clustering_interaction_matrix(\n",
    "        M, clustering=clustering) # (n_gibbs, n_clusters, n_clusters)\n",
    "    ```\n",
    "\n",
    "    Generate expected cluster-cluster interactions\n",
    "\n",
    "    ```python\n",
    "    mcmc = md2.BaseMCMC.load(path/to/fixed/clustering/mcmc.pkl)\n",
    "    clustering = mcmc.graph[STRNAMES.CLUSTERING_OBJ]\n",
    "    M = md2.summary(mcmc.graph[STRNAMES.INTERACTIONS_OBJ],\n",
    "                    set_nan_to_0=True, section='posterior')['mean'] # (n_taxa, n_taxa)\n",
    "    M_condense = md2.condense_fixed_clustering_interaction_matrix(\n",
    "        M, clustering=clustering) # (n_clusters, n_clusters)\n",
    "    ```\n",
    "\n",
    "    Generate bayes factors of the cluster-cluster interactions\n",
    "\n",
    "    ```python\n",
    "    mcmc = md2.BaseMCMC.load(path/to/fixed/clustering/mcmc.pkl)\n",
    "    clustering = mcmc.graph[STRNAMES.CLUSTERING_OBJ]\n",
    "    bf = md2.generate_interation_bayes_factors_posthoc(\n",
    "        mcmc=mcmc, section='posterior') # (n_taxa, n_taxa)\n",
    "    bf_condensed = md2.condense_fixed_clustering_interaction_matrix(\n",
    "        bf, clustering=clustering) # (n_clusters, n_clusters)\n",
    "    ```\n",
    "\n",
    "    Note that the function can be fed any `n.ndarray` as long as the last 2 dimensions have the shape `(n_taxa, n_taxa)`\n",
    "\n",
    "\n",
    "- Perturbations\n",
    "\n",
    "    * Location in MDSINE2: `MDSINE2.util.condense_fixed_clustering_perturbation`\n",
    "\n",
    "    * Command: `bf = md2.condense_fixed_clustering_perturbation(...)`   \n",
    "    \n",
    "    * Example:\n",
    "    \n",
    "    Generate cluster perturbations for each gibb step\n",
    "\n",
    "    ```python\n",
    "    mcmc = md2.BaseMCMC.load(path/to/fixed/clustering/mcmc.pkl)\n",
    "    perturbation = mcmc.graph.perturbations[name_of_perturbation]\n",
    "    M = perturbation.get_trace_from_disk(section='posterior') # (n_gibbs, n_taxa)\n",
    "    M_condense = md2.condense_fixed_clustering_perturbation(\n",
    "        M, clustering=clustering) # (n_gibbs, n_clusters)\n",
    "    ```\n",
    "    \n",
    "    Generate expected cluster perturbation values\n",
    "\n",
    "    ```python\n",
    "    mcmc = md2.BaseMCMC.load(path/to/fixed/clustering/mcmc.pkl)\n",
    "    perturbation = mcmc.graph.perturbations[name_of_perturbation]\n",
    "    M = md2.summary(perturbation,set_nan_to_0=True, section='posterior')['mean'] # (n_taxa, )\n",
    "    M_condense = md2.condense_fixed_clustering_perturbation(\n",
    "        M, clustering=clustering) # (n_clusters, )\n",
    "    ```\n",
    "\n",
    "    Generate bayes factors of the perturbation\n",
    "\n",
    "    ```python\n",
    "    mcmc = md2.BaseMCMC.load(path/to/fixed/clustering/mcmc.pkl)\n",
    "    clustering = mcmc.graph[STRNAMES.CLUSTERING_OBJ]\n",
    "    bf = md2.generate_perturbation_bayes_factors_posthoc(\n",
    "        mcmc=mcmc, perturbation=perturbation, section='posterior') # (n_taxa, )\n",
    "    bf_condensed = md2.condense_fixed_clustering_perturbation(\n",
    "        bf, clustering=clustering) # (n_clusters, )\n",
    "    ```\n",
    "\n",
    "    Note that the function can be fed any `n.ndarray` as long as the last dimension has the shape `(n_taxa, )`"
   ]
  },
  {
   "cell_type": "markdown",
   "metadata": {},
   "source": [
    "### Forward simulating <a class=\"anchor\" id=\"forwardsimulating\"></a>\n",
    "\n",
    "Forward simulate a dynamical system\n",
    "\n",
    "* Location in MDSINE2: \n",
    "    - Definition of the model: `MDSINE2.model.gLVDynamicsSingleClustering`\n",
    "    - Forward simulation: `MDSINE2.pylab.dynamics.integrate`\n",
    "* Command:\n",
    "    - Definition of the model: `md2.gLVDynamicsSingleClustering`\n",
    "    - Forward simulation: `md2.integrate`\n",
    "    \n",
    "* Examples:\n",
    "    \n",
    "    Forward simulate the dynamical system in each Gibb step:\n",
    "    ```python\n",
    "    mcmc = md2.BaseMCMC.load(path/to/mcmc.pkl)\n",
    "    \n",
    "    # Get the initial conditions from  a subject\n",
    "    subj = md2.Subject.load(path/to/subject.pkl)\n",
    "    initial_conditions = subj.matrix()['abs'][:, 0]\n",
    "    \n",
    "    pred_matrix = md2.gLVDynamicsSingleClustering.forward_sim_from_chain(\n",
    "        mcmc=mcmc, subjname=subj.name, initial_conditions=initial_conditions,\n",
    "        times=subj.times, simulation_dt=0.01, section='posterior')\n",
    "    ```\n",
    "    \n",
    "    Initial conditions can come from anywhere, it just needs to be a numpy array with `n_taxa` elements. We do need to pass in a subject name `subjname` so the chain knows which perturbations to use. This function acts as a wrapper for the `gLVDynamicsSingleClustering` and `md2.integrate` and is high level. We can forward simulate a single Gibb step as well with more fine tuning:\n",
    "    \n",
    "    Forward simulate for a single gibb step:\n",
    "    ```python\n",
    "    \n",
    "    # Initialize and run the dynamics object\n",
    "    dyn = md2.gLVDynamicsSingleClustering(\n",
    "        # np.ndarray(n_taxa), growth parameters\n",
    "        growth=...,\n",
    "        # np.ndarray(n_taxa, n_taxa), Interaction matrix (with self-interactions on diagonal)\n",
    "        interactions=..., \n",
    "        # iterable(np.ndarray(n_taxa)), perturbation effects for each perturbation\n",
    "        perturbations=...,\n",
    "        # iterable(np.ndarray(float)), start time for each perturbation\n",
    "        perturbation_starts=...,\n",
    "        # iterable(np.ndarray(float)), end time for each perturbation\n",
    "        perturbation_ends=...)\n",
    "    \n",
    "    ret = md2.integrate(\n",
    "        dyn, \n",
    "        # np.ndarray(n_taxa, 1) initial abundances\n",
    "        initial_conditions=..., \n",
    "        dt=...,\n",
    "        n_days=...,\n",
    "        # If you want to return only certain timepoints\n",
    "        subsample=True, times=...)\n",
    "    ```\n",
    "    \n",
    "    You can find examples of forward simulation in `MDSINE2_Paper/forward_sim.py`\n"
   ]
  },
  {
   "cell_type": "markdown",
   "metadata": {},
   "source": [
    "### Make a name for a taxon <a class=\"anchor\" id=\"makingnamefortaxon\"></a>\n",
    "\n",
    "You can specify a format in which to write the label of taxa using the function `md2.taxaname_formatter`. With this, you specify what taxonomic information you want where and it will automatically generate the label. This is how the visualization heatmaps generate the labels on the Axes:\n",
    "\n",
    "* Location in MDSINE2: `mdsine2.pylab.base.taxaname_formatter`\n",
    "* Command: `mdsine2.taxaname_formatter`\n",
    "* See documentation for examples and details"
   ]
  },
  {
   "cell_type": "markdown",
   "metadata": {},
   "source": [
    "### Generating cluster assignments <a class=\"anchor\" id=\"clusterassignments\"></a>\n",
    "\n",
    "To get the clustering order and to generate the cluster assignments after inference, use the function `md2.generate_cluster_assignments_posthoc`. Note, if you just load a `BaseMCMC` object and get the cluster object, the only time where it is in the right configuration is when we are running with fixed clustering. If we are not running with fixed clustering, the current assignments __are wrong__. You need to call this function to generate the right posterior cluster assignments.\n",
    "* Location in MDSINE2: `mdsine2.util.generate_cluster_assignments_posthoc`\n",
    "* Command: `mdsine2.generate_cluster_assignments_posthoc`\n",
    "\n"
   ]
  },
  {
   "cell_type": "code",
   "execution_count": null,
   "metadata": {
    "pycharm": {
     "name": "#%%\n"
    }
   },
   "outputs": [],
   "source": []
  }
 ],
 "metadata": {
  "kernelspec": {
   "display_name": "Python 3",
   "language": "python",
   "name": "python3"
  },
  "language_info": {
   "codemirror_mode": {
    "name": "ipython",
    "version": 3
   },
   "file_extension": ".py",
   "mimetype": "text/x-python",
   "name": "python",
   "nbconvert_exporter": "python",
   "pygments_lexer": "ipython3",
   "version": "3.7.3"
  }
 },
 "nbformat": 4,
 "nbformat_minor": 4
}