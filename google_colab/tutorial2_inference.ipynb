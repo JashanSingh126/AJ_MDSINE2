{
  "cells": [
    {
      "cell_type": "markdown",
      "source": [
        "[![Open In Colab](https://colab.research.google.com/assets/colab-badge.svg)](https://colab.research.google.com/github/gerberlab/MDSINE2_Paper/blob/master/google_colab/tutorial2_inference.ipynb)\n",
        "# Running inference with the MDSINE2 model and exploring the posterior\n",
        "\n",
        "This tutorial goes from parsing data to visualizing the posterior of an MDSINE2 run\n",
        "\n",
        "For input MDSINE takes in\n",
        "* taxa counts\n",
        "* qPCR table\n",
        "* perturbations table\n",
        "* taxonomy table\n",
        "* metadata file\n",
        "\n",
        "Our data is preprocessed into pickle files as objects. For this tutorial we unpack our data into it's composite tables to walk you through constructing your own `Study` objects. We only keep the top 15 taxa for this tutorial though so that it runs in a reasonable amount of tome. We then run inference on those objects with a subset of the full taxa.\n"
      ],
      "metadata": {
        "id": "IhxOur7UgD72"
      }
    },
    {
      "cell_type": "code",
      "source": [
        "!git clone https://github.com/gerberlab/MDSINE2_Paper\n",
        "!git clone https://github.com/gerberlab/MDSINE2\n",
        "!pip install MDSINE2/."
      ],
      "outputs": [
        {
          "output_type": "stream",
          "name": "stdout",
          "text": [
            "fatal: destination path 'MDSINE2_Paper' already exists and is not an empty directory.\n",
            "fatal: destination path 'MDSINE2' already exists and is not an empty directory.\n",
            "Processing ./MDSINE2\n",
            "\u001b[33m  DEPRECATION: A future pip version will change local packages to be built in-place without first copying to a temporary directory. We recommend you use --use-feature=in-tree-build to test your packages with this new behavior before it becomes the default.\n",
            "   pip 21.3 will remove support for this functionality. You can find discussion regarding this at https://github.com/pypa/pip/issues/7555.\u001b[0m\n",
            "Requirement already satisfied: numpy>=1.19.4 in /usr/local/lib/python3.7/dist-packages (from mdsine2==0.4.5) (1.19.5)\n",
            "Requirement already satisfied: pandas>=1.1.4 in /usr/local/lib/python3.7/dist-packages (from mdsine2==0.4.5) (1.1.5)\n",
            "Requirement already satisfied: scipy in /usr/local/lib/python3.7/dist-packages (from mdsine2==0.4.5) (1.4.1)\n",
            "Requirement already satisfied: matplotlib>=3.3.1 in /usr/local/lib/python3.7/dist-packages (from mdsine2==0.4.5) (3.5.1)\n",
            "Requirement already satisfied: sklearn in /usr/local/lib/python3.7/dist-packages (from mdsine2==0.4.5) (0.0)\n",
            "Requirement already satisfied: seaborn>=0.11.0 in /usr/local/lib/python3.7/dist-packages (from mdsine2==0.4.5) (0.11.2)\n",
            "Requirement already satisfied: h5py==2.9.0 in /usr/local/lib/python3.7/dist-packages (from mdsine2==0.4.5) (2.9.0)\n",
            "Requirement already satisfied: psutil==5.7.3 in /usr/local/lib/python3.7/dist-packages (from mdsine2==0.4.5) (5.7.3)\n",
            "Requirement already satisfied: networkx==2.3 in /usr/local/lib/python3.7/dist-packages (from mdsine2==0.4.5) (2.3)\n",
            "Requirement already satisfied: numba==0.52 in /usr/local/lib/python3.7/dist-packages (from mdsine2==0.4.5) (0.52.0)\n",
            "Requirement already satisfied: biopython==1.78 in /usr/local/lib/python3.7/dist-packages (from mdsine2==0.4.5) (1.78)\n",
            "Requirement already satisfied: treeswift==1.1.14 in /usr/local/lib/python3.7/dist-packages (from mdsine2==0.4.5) (1.1.14)\n",
            "Requirement already satisfied: py2cytoscape==0.7.1 in /usr/local/lib/python3.7/dist-packages (from mdsine2==0.4.5) (0.7.1)\n",
            "Requirement already satisfied: tqdm in /usr/local/lib/python3.7/dist-packages (from mdsine2==0.4.5) (4.62.3)\n",
            "Requirement already satisfied: PyQt5 in /usr/local/lib/python3.7/dist-packages (from mdsine2==0.4.5) (5.15.6)\n",
            "Requirement already satisfied: ete3 in /usr/local/lib/python3.7/dist-packages (from mdsine2==0.4.5) (3.1.2)\n",
            "Requirement already satisfied: six in /usr/local/lib/python3.7/dist-packages (from h5py==2.9.0->mdsine2==0.4.5) (1.15.0)\n",
            "Requirement already satisfied: decorator>=4.3.0 in /usr/local/lib/python3.7/dist-packages (from networkx==2.3->mdsine2==0.4.5) (4.4.2)\n",
            "Requirement already satisfied: llvmlite<0.36,>=0.35.0 in /usr/local/lib/python3.7/dist-packages (from numba==0.52->mdsine2==0.4.5) (0.35.0)\n",
            "Requirement already satisfied: setuptools in /usr/local/lib/python3.7/dist-packages (from numba==0.52->mdsine2==0.4.5) (57.4.0)\n",
            "Requirement already satisfied: python-igraph in /usr/local/lib/python3.7/dist-packages (from py2cytoscape==0.7.1->mdsine2==0.4.5) (0.9.8)\n",
            "Requirement already satisfied: pydot in /usr/local/lib/python3.7/dist-packages (from py2cytoscape==0.7.1->mdsine2==0.4.5) (1.3.0)\n",
            "Requirement already satisfied: pydotplus in /usr/local/lib/python3.7/dist-packages (from py2cytoscape==0.7.1->mdsine2==0.4.5) (2.0.2)\n",
            "Requirement already satisfied: pyparsing in /usr/local/lib/python3.7/dist-packages (from py2cytoscape==0.7.1->mdsine2==0.4.5) (3.0.6)\n",
            "Requirement already satisfied: requests in /usr/local/lib/python3.7/dist-packages (from py2cytoscape==0.7.1->mdsine2==0.4.5) (2.23.0)\n",
            "Requirement already satisfied: pillow>=6.2.0 in /usr/local/lib/python3.7/dist-packages (from matplotlib>=3.3.1->mdsine2==0.4.5) (7.1.2)\n",
            "Requirement already satisfied: kiwisolver>=1.0.1 in /usr/local/lib/python3.7/dist-packages (from matplotlib>=3.3.1->mdsine2==0.4.5) (1.3.2)\n",
            "Requirement already satisfied: fonttools>=4.22.0 in /usr/local/lib/python3.7/dist-packages (from matplotlib>=3.3.1->mdsine2==0.4.5) (4.28.4)\n",
            "Requirement already satisfied: cycler>=0.10 in /usr/local/lib/python3.7/dist-packages (from matplotlib>=3.3.1->mdsine2==0.4.5) (0.11.0)\n",
            "Requirement already satisfied: python-dateutil>=2.7 in /usr/local/lib/python3.7/dist-packages (from matplotlib>=3.3.1->mdsine2==0.4.5) (2.8.2)\n",
            "Requirement already satisfied: packaging>=20.0 in /usr/local/lib/python3.7/dist-packages (from matplotlib>=3.3.1->mdsine2==0.4.5) (21.3)\n",
            "Requirement already satisfied: pytz>=2017.2 in /usr/local/lib/python3.7/dist-packages (from pandas>=1.1.4->mdsine2==0.4.5) (2018.9)\n",
            "Requirement already satisfied: PyQt5-Qt5>=5.15.2 in /usr/local/lib/python3.7/dist-packages (from PyQt5->mdsine2==0.4.5) (5.15.2)\n",
            "Requirement already satisfied: PyQt5-sip<13,>=12.8 in /usr/local/lib/python3.7/dist-packages (from PyQt5->mdsine2==0.4.5) (12.9.0)\n",
            "Requirement already satisfied: igraph==0.9.8 in /usr/local/lib/python3.7/dist-packages (from python-igraph->py2cytoscape==0.7.1->mdsine2==0.4.5) (0.9.8)\n",
            "Requirement already satisfied: texttable>=1.6.2 in /usr/local/lib/python3.7/dist-packages (from igraph==0.9.8->python-igraph->py2cytoscape==0.7.1->mdsine2==0.4.5) (1.6.4)\n",
            "Requirement already satisfied: idna<3,>=2.5 in /usr/local/lib/python3.7/dist-packages (from requests->py2cytoscape==0.7.1->mdsine2==0.4.5) (2.10)\n",
            "Requirement already satisfied: certifi>=2017.4.17 in /usr/local/lib/python3.7/dist-packages (from requests->py2cytoscape==0.7.1->mdsine2==0.4.5) (2021.10.8)\n",
            "Requirement already satisfied: chardet<4,>=3.0.2 in /usr/local/lib/python3.7/dist-packages (from requests->py2cytoscape==0.7.1->mdsine2==0.4.5) (3.0.4)\n",
            "Requirement already satisfied: urllib3!=1.25.0,!=1.25.1,<1.26,>=1.21.1 in /usr/local/lib/python3.7/dist-packages (from requests->py2cytoscape==0.7.1->mdsine2==0.4.5) (1.24.3)\n",
            "Requirement already satisfied: scikit-learn in /usr/local/lib/python3.7/dist-packages (from sklearn->mdsine2==0.4.5) (1.0.1)\n",
            "Requirement already satisfied: joblib>=0.11 in /usr/local/lib/python3.7/dist-packages (from scikit-learn->sklearn->mdsine2==0.4.5) (1.1.0)\n",
            "Requirement already satisfied: threadpoolctl>=2.0.0 in /usr/local/lib/python3.7/dist-packages (from scikit-learn->sklearn->mdsine2==0.4.5) (3.0.0)\n",
            "Building wheels for collected packages: mdsine2\n",
            "  Building wheel for mdsine2 (setup.py) ... \u001b[?25l\u001b[?25hdone\n",
            "  Created wheel for mdsine2: filename=mdsine2-0.4.5-cp37-cp37m-linux_x86_64.whl size=331226 sha256=9c367d53f0941fcca7a9cda8ba2e124b35bed35dc4c5dc03f62ced9d3ad1755d\n",
            "  Stored in directory: /tmp/pip-ephem-wheel-cache-jnngctal/wheels/b7/19/91/a6396303d26cbb96faa55fdede89eb0dbe3c598d2306ddb8b8\n",
            "Successfully built mdsine2\n",
            "Installing collected packages: mdsine2\n",
            "  Attempting uninstall: mdsine2\n",
            "    Found existing installation: mdsine2 0.4.5\n",
            "    Uninstalling mdsine2-0.4.5:\n",
            "      Successfully uninstalled mdsine2-0.4.5\n",
            "Successfully installed mdsine2-0.4.5\n"
          ]
        }
      ],
      "execution_count": 1,
      "metadata": {
        "id": "SvCVOxaIgI-W",
        "outputId": "d14154c0-b07d-4315-e7f7-cc6c92240859",
        "colab": {
          "base_uri": "https://localhost:8080/"
        }
      }
    },
    {
      "cell_type": "code",
      "source": [
        "%matplotlib inline\n",
        "\n",
        "import mdsine2 as md2\n",
        "from mdsine2.names import STRNAMES\n",
        "import matplotlib.pyplot as plt\n",
        "import numpy as np\n",
        "import os\n",
        "import pandas as pd\n",
        "from pathlib import Path"
      ],
      "outputs": [],
      "execution_count": 2,
      "metadata": {
        "id": "YVE1UJZJgD73"
      }
    },
    {
      "cell_type": "code",
      "source": [
        "# set directories\n",
        "output_dir = Path(\"MDSINE2_Paper/analysis/output/gibson-mini\")\n",
        "dataset_dir = output_dir / \"datasets\""
      ],
      "outputs": [],
      "execution_count": 3,
      "metadata": {
        "id": "W2y38MhMgD74"
      }
    },
    {
      "cell_type": "code",
      "source": [
        "# Make example datasets from preprocessed data with 15 taxa\n",
        "def make_toy(dset):\n",
        "    to_delete = []\n",
        "    for taxon in dset.taxa:\n",
        "        if taxon.idx >= 15:   # you can adjust this number, top 15 taxa runs reasonably fast\n",
        "            to_delete.append(taxon.name)\n",
        "    dset.pop_taxa(to_delete)\n",
        "    \n",
        "    toy_dataset_path = dataset_dir / \"{}-toy\".format(dset.name)\n",
        "    toy_dataset_path.mkdir(parents=True, exist_ok=True)\n",
        "    \n",
        "    dset.write_metadata_to_csv(path=toy_dataset_path / 'metadata.tsv')\n",
        "    dset.write_qpcr_to_csv(path=toy_dataset_path / 'qpcr.tsv')\n",
        "    if dset.perturbations is not None:\n",
        "        dset.write_perturbations_to_csv(path=toy_dataset_path / 'perturbations.tsv')\n",
        "    dset.write_reads_to_csv(path=toy_dataset_path / 'reads.tsv')\n",
        "    dset.taxa.write_taxonomy_to_csv(path=toy_dataset_path / 'taxonomy.tsv')"
      ],
      "outputs": [],
      "execution_count": 4,
      "metadata": {
        "id": "9fazfUK7gD74"
      }
    },
    {
      "cell_type": "code",
      "source": [
        "healthy = md2.Study.load('MDSINE2_Paper/analysis/output/gibson/preprocessed/gibson_healthy_agg_taxa_filtered.pkl')\n",
        "uc = md2.Study.load('MDSINE2_Paper/analysis/output/gibson/preprocessed/gibson_uc_agg_taxa_filtered.pkl')\n",
        "replicates = md2.Study.load('MDSINE2_Paper/analysis/output/gibson/preprocessed/gibson_replicates_agg_taxa_filtered.pkl')\n",
        "\n",
        "make_toy(dset=healthy)\n",
        "make_toy(dset=uc)\n",
        "make_toy(dset=replicates)"
      ],
      "outputs": [],
      "execution_count": 5,
      "metadata": {
        "id": "Nm6558-cgD75"
      }
    },
    {
      "cell_type": "markdown",
      "source": [
        "## Inputs for MDSINE2 model (looking at the Healthy cohort) "
      ],
      "metadata": {
        "id": "G6bYZZFr-ote"
      }
    },
    {
      "cell_type": "markdown",
      "source": [
        "### Metadata table\n",
        "The following table is a metadata table. It tells the `Study` object what subject and timepoint each sample belongs to"
      ],
      "metadata": {
        "id": "bx8UMn9ygD75"
      }
    },
    {
      "cell_type": "code",
      "source": [
        "# Load metadata table\n",
        "metadata = pd.read_csv(dataset_dir / 'healthy-toy' / 'metadata.tsv', sep='\\t')\n",
        "metadata.head()"
      ],
      "outputs": [
        {
          "output_type": "execute_result",
          "execution_count": 5,
          "data": {
            "text/html": "<div>\n<style scoped>\n    .dataframe tbody tr th:only-of-type {\n        vertical-align: middle;\n    }\n\n    .dataframe tbody tr th {\n        vertical-align: top;\n    }\n\n    .dataframe thead th {\n        text-align: right;\n    }\n</style>\n<table border=\"1\" class=\"dataframe\">\n  <thead>\n    <tr style=\"text-align: right;\">\n      <th></th>\n      <th>sampleID</th>\n      <th>subject</th>\n      <th>time</th>\n    </tr>\n  </thead>\n  <tbody>\n    <tr>\n      <th>0</th>\n      <td>2-D10</td>\n      <td>2</td>\n      <td>10.0</td>\n    </tr>\n    <tr>\n      <th>1</th>\n      <td>2-D11</td>\n      <td>2</td>\n      <td>11.0</td>\n    </tr>\n    <tr>\n      <th>2</th>\n      <td>2-D14</td>\n      <td>2</td>\n      <td>14.0</td>\n    </tr>\n    <tr>\n      <th>3</th>\n      <td>2-D16</td>\n      <td>2</td>\n      <td>16.0</td>\n    </tr>\n    <tr>\n      <th>4</th>\n      <td>2-D18</td>\n      <td>2</td>\n      <td>18.0</td>\n    </tr>\n  </tbody>\n</table>\n</div>",
            "text/plain": "  sampleID  subject  time\n0    2-D10        2  10.0\n1    2-D11        2  11.0\n2    2-D14        2  14.0\n3    2-D16        2  16.0\n4    2-D18        2  18.0"
          },
          "metadata": {}
        }
      ],
      "execution_count": null,
      "metadata": {
        "id": "FjzE9e6egD76",
        "outputId": "627bdbad-d6c3-409c-b90d-18c97d914749",
        "colab": {
          "base_uri": "https://localhost:8080/",
          "height": 206
        }
      }
    },
    {
      "cell_type": "markdown",
      "source": [
        "### qPCR table\n",
        "The following table is a qPCR table. This has the replicate measurements of the qPCR for every sample."
      ],
      "metadata": {
        "id": "0O5G9eY4gD77"
      }
    },
    {
      "cell_type": "code",
      "source": [
        "# qPCR table\n",
        "qpcr = pd.read_csv(dataset_dir / 'healthy-toy' / 'qpcr.tsv', sep='\\t')\n",
        "qpcr.head()"
      ],
      "outputs": [
        {
          "output_type": "execute_result",
          "execution_count": 6,
          "data": {
            "text/html": "<div>\n<style scoped>\n    .dataframe tbody tr th:only-of-type {\n        vertical-align: middle;\n    }\n\n    .dataframe tbody tr th {\n        vertical-align: top;\n    }\n\n    .dataframe thead th {\n        text-align: right;\n    }\n</style>\n<table border=\"1\" class=\"dataframe\">\n  <thead>\n    <tr style=\"text-align: right;\">\n      <th></th>\n      <th>sampleID</th>\n      <th>measurement1</th>\n      <th>measurement2</th>\n      <th>measurement3</th>\n    </tr>\n  </thead>\n  <tbody>\n    <tr>\n      <th>0</th>\n      <td>2-D10</td>\n      <td>4.129004e+10</td>\n      <td>6.423568e+10</td>\n      <td>8.384557e+10</td>\n    </tr>\n    <tr>\n      <th>1</th>\n      <td>2-D11</td>\n      <td>2.981363e+10</td>\n      <td>6.587538e+10</td>\n      <td>5.077812e+10</td>\n    </tr>\n    <tr>\n      <th>2</th>\n      <td>2-D14</td>\n      <td>1.647771e+10</td>\n      <td>7.104907e+10</td>\n      <td>2.498869e+10</td>\n    </tr>\n    <tr>\n      <th>3</th>\n      <td>2-D16</td>\n      <td>3.666487e+10</td>\n      <td>6.237899e+10</td>\n      <td>3.875999e+10</td>\n    </tr>\n    <tr>\n      <th>4</th>\n      <td>2-D18</td>\n      <td>4.523257e+10</td>\n      <td>2.320504e+10</td>\n      <td>2.330249e+10</td>\n    </tr>\n  </tbody>\n</table>\n</div>",
            "text/plain": "  sampleID  measurement1  measurement2  measurement3\n0    2-D10  4.129004e+10  6.423568e+10  8.384557e+10\n1    2-D11  2.981363e+10  6.587538e+10  5.077812e+10\n2    2-D14  1.647771e+10  7.104907e+10  2.498869e+10\n3    2-D16  3.666487e+10  6.237899e+10  3.875999e+10\n4    2-D18  4.523257e+10  2.320504e+10  2.330249e+10"
          },
          "metadata": {}
        }
      ],
      "execution_count": null,
      "metadata": {
        "id": "fcfLnfrVgD8A",
        "outputId": "1c704c78-fc82-42ee-ffc3-fc0277fc68c6",
        "colab": {
          "base_uri": "https://localhost:8080/",
          "height": 206
        }
      }
    },
    {
      "cell_type": "markdown",
      "source": [
        "### Perturbation table\n",
        "The following table is a perturbation table. This tells the `Study` object which subject has a perturbation and when. There can be multiple perturbations for each subject. Note that this is only necessary if you have perturbations in your dataset."
      ],
      "metadata": {
        "id": "6fSOXRLhgD8A"
      }
    },
    {
      "cell_type": "code",
      "source": [
        "perturbations = pd.read_csv(dataset_dir / 'healthy-toy' / 'perturbations.tsv', sep='\\t')\n",
        "display(perturbations)"
      ],
      "outputs": [
        {
          "output_type": "display_data",
          "data": {
            "text/html": "<div>\n<style scoped>\n    .dataframe tbody tr th:only-of-type {\n        vertical-align: middle;\n    }\n\n    .dataframe tbody tr th {\n        vertical-align: top;\n    }\n\n    .dataframe thead th {\n        text-align: right;\n    }\n</style>\n<table border=\"1\" class=\"dataframe\">\n  <thead>\n    <tr style=\"text-align: right;\">\n      <th></th>\n      <th>name</th>\n      <th>start</th>\n      <th>end</th>\n      <th>subject</th>\n    </tr>\n  </thead>\n  <tbody>\n    <tr>\n      <th>0</th>\n      <td>High Fat Diet</td>\n      <td>21.5</td>\n      <td>28.5</td>\n      <td>2</td>\n    </tr>\n    <tr>\n      <th>1</th>\n      <td>High Fat Diet</td>\n      <td>21.5</td>\n      <td>28.5</td>\n      <td>3</td>\n    </tr>\n    <tr>\n      <th>2</th>\n      <td>High Fat Diet</td>\n      <td>21.5</td>\n      <td>28.5</td>\n      <td>4</td>\n    </tr>\n    <tr>\n      <th>3</th>\n      <td>High Fat Diet</td>\n      <td>21.5</td>\n      <td>28.5</td>\n      <td>5</td>\n    </tr>\n    <tr>\n      <th>4</th>\n      <td>Vancomycin</td>\n      <td>35.5</td>\n      <td>42.5</td>\n      <td>2</td>\n    </tr>\n    <tr>\n      <th>5</th>\n      <td>Vancomycin</td>\n      <td>35.5</td>\n      <td>42.5</td>\n      <td>3</td>\n    </tr>\n    <tr>\n      <th>6</th>\n      <td>Vancomycin</td>\n      <td>35.5</td>\n      <td>42.5</td>\n      <td>4</td>\n    </tr>\n    <tr>\n      <th>7</th>\n      <td>Vancomycin</td>\n      <td>35.5</td>\n      <td>42.5</td>\n      <td>5</td>\n    </tr>\n    <tr>\n      <th>8</th>\n      <td>Gentamicin</td>\n      <td>50.5</td>\n      <td>57.5</td>\n      <td>2</td>\n    </tr>\n    <tr>\n      <th>9</th>\n      <td>Gentamicin</td>\n      <td>50.5</td>\n      <td>57.5</td>\n      <td>3</td>\n    </tr>\n    <tr>\n      <th>10</th>\n      <td>Gentamicin</td>\n      <td>50.5</td>\n      <td>57.5</td>\n      <td>4</td>\n    </tr>\n    <tr>\n      <th>11</th>\n      <td>Gentamicin</td>\n      <td>50.5</td>\n      <td>57.5</td>\n      <td>5</td>\n    </tr>\n  </tbody>\n</table>\n</div>",
            "text/plain": "             name  start   end  subject\n0   High Fat Diet   21.5  28.5        2\n1   High Fat Diet   21.5  28.5        3\n2   High Fat Diet   21.5  28.5        4\n3   High Fat Diet   21.5  28.5        5\n4      Vancomycin   35.5  42.5        2\n5      Vancomycin   35.5  42.5        3\n6      Vancomycin   35.5  42.5        4\n7      Vancomycin   35.5  42.5        5\n8      Gentamicin   50.5  57.5        2\n9      Gentamicin   50.5  57.5        3\n10     Gentamicin   50.5  57.5        4\n11     Gentamicin   50.5  57.5        5"
          },
          "metadata": {}
        }
      ],
      "execution_count": null,
      "metadata": {
        "id": "gdHqMKZIgD8B",
        "outputId": "07e217dd-2aa1-4b90-8d50-cce7946f6ac7",
        "colab": {
          "base_uri": "https://localhost:8080/",
          "height": 426
        }
      }
    },
    {
      "cell_type": "markdown",
      "source": [
        "### Reads table\n",
        "The following table is a reads table. This shows the number of counts each taxa has for each sample ID."
      ],
      "metadata": {
        "id": "vxfvRlTegD8C"
      }
    },
    {
      "cell_type": "code",
      "source": [
        "reads = pd.read_csv(dataset_dir / 'healthy-toy' / 'reads.tsv', sep='\\t')\n",
        "reads.head()"
      ],
      "outputs": [
        {
          "output_type": "execute_result",
          "execution_count": 8,
          "data": {
            "text/html": "<div>\n<style scoped>\n    .dataframe tbody tr th:only-of-type {\n        vertical-align: middle;\n    }\n\n    .dataframe tbody tr th {\n        vertical-align: top;\n    }\n\n    .dataframe thead th {\n        text-align: right;\n    }\n</style>\n<table border=\"1\" class=\"dataframe\">\n  <thead>\n    <tr style=\"text-align: right;\">\n      <th></th>\n      <th>name</th>\n      <th>2-D10</th>\n      <th>2-D11</th>\n      <th>2-D14</th>\n      <th>2-D16</th>\n      <th>2-D18</th>\n      <th>2-D1AM</th>\n      <th>2-D1PM</th>\n      <th>2-D21AM</th>\n      <th>2-D21PM</th>\n      <th>2-D22AM</th>\n      <th>2-D22PM</th>\n      <th>2-D23AM</th>\n      <th>2-D23PM</th>\n      <th>2-D24</th>\n      <th>2-D25</th>\n      <th>2-D28AM</th>\n      <th>2-D28PM</th>\n      <th>2-D29AM</th>\n      <th>2-D29PM</th>\n      <th>2-D2AM</th>\n      <th>2-D2PM</th>\n      <th>2-D30AM</th>\n      <th>2-D30PM</th>\n      <th>2-D31AM</th>\n      <th>2-D31PM</th>\n      <th>2-D32</th>\n      <th>2-D33</th>\n      <th>2-D35AM</th>\n      <th>2-D35PM</th>\n      <th>2-D36AM</th>\n      <th>2-D36PM</th>\n      <th>2-D37AM</th>\n      <th>2-D37PM</th>\n      <th>2-D38</th>\n      <th>2-D39</th>\n      <th>2-D3AM</th>\n      <th>2-D3PM</th>\n      <th>2-D42AM</th>\n      <th>2-D42PM</th>\n      <th>...</th>\n      <th>5-D3AM</th>\n      <th>5-D3PM</th>\n      <th>5-D42AM</th>\n      <th>5-D42PM</th>\n      <th>5-D43AM</th>\n      <th>5-D43PM</th>\n      <th>5-D44AM</th>\n      <th>5-D44PM</th>\n      <th>5-D45AM</th>\n      <th>5-D45PM</th>\n      <th>5-D46</th>\n      <th>5-D47</th>\n      <th>5-D4AM</th>\n      <th>5-D4PM</th>\n      <th>5-D5</th>\n      <th>5-D50AM</th>\n      <th>5-D50PM</th>\n      <th>5-D51AM</th>\n      <th>5-D51PM</th>\n      <th>5-D52AM</th>\n      <th>5-D52PM</th>\n      <th>5-D53</th>\n      <th>5-D54</th>\n      <th>5-D57AM</th>\n      <th>5-D57PM</th>\n      <th>5-D58AM</th>\n      <th>5-D58PM</th>\n      <th>5-D59AM</th>\n      <th>5-D59PM</th>\n      <th>5-D6</th>\n      <th>5-D60AM</th>\n      <th>5-D60PM</th>\n      <th>5-D61</th>\n      <th>5-D62</th>\n      <th>5-D63</th>\n      <th>5-D64AM</th>\n      <th>5-D64PM</th>\n      <th>5-D7</th>\n      <th>5-D8</th>\n      <th>5-D9</th>\n    </tr>\n  </thead>\n  <tbody>\n    <tr>\n      <th>0</th>\n      <td>OTU_1</td>\n      <td>1227</td>\n      <td>1793</td>\n      <td>8023</td>\n      <td>9503</td>\n      <td>3243</td>\n      <td>1830</td>\n      <td>199</td>\n      <td>3539</td>\n      <td>5270</td>\n      <td>3866</td>\n      <td>3899</td>\n      <td>1984</td>\n      <td>807</td>\n      <td>2299</td>\n      <td>1349</td>\n      <td>1074</td>\n      <td>855</td>\n      <td>3479</td>\n      <td>3910</td>\n      <td>489</td>\n      <td>1056</td>\n      <td>5113</td>\n      <td>5624</td>\n      <td>7096</td>\n      <td>5788</td>\n      <td>10237</td>\n      <td>2784</td>\n      <td>2711</td>\n      <td>2421</td>\n      <td>1554</td>\n      <td>1216</td>\n      <td>259</td>\n      <td>154</td>\n      <td>114</td>\n      <td>100</td>\n      <td>1474</td>\n      <td>3227</td>\n      <td>1963</td>\n      <td>2950</td>\n      <td>...</td>\n      <td>1198</td>\n      <td>3491</td>\n      <td>395</td>\n      <td>38</td>\n      <td>60</td>\n      <td>35</td>\n      <td>96</td>\n      <td>136</td>\n      <td>38</td>\n      <td>27</td>\n      <td>137</td>\n      <td>162</td>\n      <td>3943</td>\n      <td>5485</td>\n      <td>5746</td>\n      <td>49</td>\n      <td>103</td>\n      <td>39</td>\n      <td>80</td>\n      <td>222</td>\n      <td>205</td>\n      <td>115</td>\n      <td>29</td>\n      <td>73</td>\n      <td>135</td>\n      <td>140</td>\n      <td>223</td>\n      <td>83</td>\n      <td>192</td>\n      <td>6401</td>\n      <td>218</td>\n      <td>409</td>\n      <td>2072</td>\n      <td>1160</td>\n      <td>723</td>\n      <td>1043</td>\n      <td>1732</td>\n      <td>4698</td>\n      <td>3310</td>\n      <td>4495</td>\n    </tr>\n    <tr>\n      <th>1</th>\n      <td>OTU_2</td>\n      <td>17362</td>\n      <td>6887</td>\n      <td>17165</td>\n      <td>29854</td>\n      <td>36759</td>\n      <td>2929</td>\n      <td>9880</td>\n      <td>15863</td>\n      <td>20619</td>\n      <td>2725</td>\n      <td>1792</td>\n      <td>466</td>\n      <td>51</td>\n      <td>86</td>\n      <td>38</td>\n      <td>25</td>\n      <td>34</td>\n      <td>1317</td>\n      <td>2217</td>\n      <td>24422</td>\n      <td>17184</td>\n      <td>5490</td>\n      <td>5924</td>\n      <td>6906</td>\n      <td>7466</td>\n      <td>9783</td>\n      <td>7856</td>\n      <td>10490</td>\n      <td>9939</td>\n      <td>18164</td>\n      <td>17769</td>\n      <td>16694</td>\n      <td>8553</td>\n      <td>8842</td>\n      <td>5806</td>\n      <td>11193</td>\n      <td>15984</td>\n      <td>8567</td>\n      <td>6995</td>\n      <td>...</td>\n      <td>14848</td>\n      <td>19560</td>\n      <td>4414</td>\n      <td>4235</td>\n      <td>2542</td>\n      <td>2997</td>\n      <td>3094</td>\n      <td>4063</td>\n      <td>2390</td>\n      <td>3151</td>\n      <td>4671</td>\n      <td>10280</td>\n      <td>17736</td>\n      <td>21286</td>\n      <td>15239</td>\n      <td>8966</td>\n      <td>11075</td>\n      <td>9328</td>\n      <td>9982</td>\n      <td>11443</td>\n      <td>10228</td>\n      <td>1803</td>\n      <td>3863</td>\n      <td>3611</td>\n      <td>3487</td>\n      <td>2979</td>\n      <td>3613</td>\n      <td>4359</td>\n      <td>5351</td>\n      <td>16153</td>\n      <td>3483</td>\n      <td>5742</td>\n      <td>10560</td>\n      <td>6931</td>\n      <td>7609</td>\n      <td>9301</td>\n      <td>10964</td>\n      <td>14754</td>\n      <td>6195</td>\n      <td>7539</td>\n    </tr>\n    <tr>\n      <th>2</th>\n      <td>OTU_3</td>\n      <td>8162</td>\n      <td>4911</td>\n      <td>9743</td>\n      <td>5776</td>\n      <td>11136</td>\n      <td>213</td>\n      <td>555</td>\n      <td>8566</td>\n      <td>12664</td>\n      <td>21003</td>\n      <td>19170</td>\n      <td>19830</td>\n      <td>16629</td>\n      <td>14891</td>\n      <td>31789</td>\n      <td>15839</td>\n      <td>13884</td>\n      <td>10019</td>\n      <td>15779</td>\n      <td>878</td>\n      <td>4879</td>\n      <td>7562</td>\n      <td>9470</td>\n      <td>11915</td>\n      <td>16469</td>\n      <td>13191</td>\n      <td>9874</td>\n      <td>8836</td>\n      <td>6895</td>\n      <td>5094</td>\n      <td>14544</td>\n      <td>2291</td>\n      <td>1194</td>\n      <td>458</td>\n      <td>116</td>\n      <td>5842</td>\n      <td>8939</td>\n      <td>126</td>\n      <td>23</td>\n      <td>...</td>\n      <td>10501</td>\n      <td>5094</td>\n      <td>1038</td>\n      <td>31</td>\n      <td>19</td>\n      <td>18</td>\n      <td>34</td>\n      <td>73</td>\n      <td>8584</td>\n      <td>2989</td>\n      <td>3627</td>\n      <td>8577</td>\n      <td>7146</td>\n      <td>6964</td>\n      <td>9184</td>\n      <td>2135</td>\n      <td>1258</td>\n      <td>1001</td>\n      <td>1042</td>\n      <td>384</td>\n      <td>473</td>\n      <td>59</td>\n      <td>25</td>\n      <td>29</td>\n      <td>9</td>\n      <td>1</td>\n      <td>8</td>\n      <td>10</td>\n      <td>8</td>\n      <td>5602</td>\n      <td>7</td>\n      <td>51</td>\n      <td>2039</td>\n      <td>2944</td>\n      <td>9708</td>\n      <td>1664</td>\n      <td>2578</td>\n      <td>8830</td>\n      <td>3163</td>\n      <td>6160</td>\n    </tr>\n    <tr>\n      <th>3</th>\n      <td>OTU_4</td>\n      <td>3793</td>\n      <td>2713</td>\n      <td>2683</td>\n      <td>3423</td>\n      <td>5351</td>\n      <td>9</td>\n      <td>32</td>\n      <td>3815</td>\n      <td>6512</td>\n      <td>1091</td>\n      <td>617</td>\n      <td>215</td>\n      <td>318</td>\n      <td>273</td>\n      <td>551</td>\n      <td>366</td>\n      <td>209</td>\n      <td>2626</td>\n      <td>3040</td>\n      <td>205</td>\n      <td>264</td>\n      <td>4519</td>\n      <td>5056</td>\n      <td>4976</td>\n      <td>4818</td>\n      <td>1757</td>\n      <td>4139</td>\n      <td>5070</td>\n      <td>5575</td>\n      <td>7195</td>\n      <td>7188</td>\n      <td>18681</td>\n      <td>20984</td>\n      <td>13723</td>\n      <td>7217</td>\n      <td>203</td>\n      <td>371</td>\n      <td>3507</td>\n      <td>3929</td>\n      <td>...</td>\n      <td>522</td>\n      <td>939</td>\n      <td>2162</td>\n      <td>3243</td>\n      <td>3182</td>\n      <td>6006</td>\n      <td>6912</td>\n      <td>9189</td>\n      <td>8061</td>\n      <td>11804</td>\n      <td>18394</td>\n      <td>26639</td>\n      <td>1059</td>\n      <td>1343</td>\n      <td>1669</td>\n      <td>13609</td>\n      <td>16459</td>\n      <td>11413</td>\n      <td>10262</td>\n      <td>11874</td>\n      <td>11321</td>\n      <td>11560</td>\n      <td>9360</td>\n      <td>5699</td>\n      <td>3794</td>\n      <td>9114</td>\n      <td>8111</td>\n      <td>11557</td>\n      <td>11729</td>\n      <td>1477</td>\n      <td>8539</td>\n      <td>12437</td>\n      <td>15397</td>\n      <td>6717</td>\n      <td>4179</td>\n      <td>3597</td>\n      <td>5020</td>\n      <td>1395</td>\n      <td>895</td>\n      <td>2242</td>\n    </tr>\n    <tr>\n      <th>4</th>\n      <td>OTU_5</td>\n      <td>5852</td>\n      <td>3034</td>\n      <td>6870</td>\n      <td>6102</td>\n      <td>9957</td>\n      <td>2</td>\n      <td>7</td>\n      <td>4626</td>\n      <td>6412</td>\n      <td>691</td>\n      <td>503</td>\n      <td>197</td>\n      <td>388</td>\n      <td>172</td>\n      <td>289</td>\n      <td>162</td>\n      <td>186</td>\n      <td>2677</td>\n      <td>1548</td>\n      <td>71</td>\n      <td>84</td>\n      <td>1740</td>\n      <td>1395</td>\n      <td>2559</td>\n      <td>1266</td>\n      <td>2868</td>\n      <td>3018</td>\n      <td>2967</td>\n      <td>3276</td>\n      <td>9350</td>\n      <td>9143</td>\n      <td>707</td>\n      <td>313</td>\n      <td>77</td>\n      <td>350</td>\n      <td>895</td>\n      <td>1121</td>\n      <td>214</td>\n      <td>284</td>\n      <td>...</td>\n      <td>5</td>\n      <td>0</td>\n      <td>164</td>\n      <td>134</td>\n      <td>40</td>\n      <td>6</td>\n      <td>16</td>\n      <td>76</td>\n      <td>37</td>\n      <td>28</td>\n      <td>120</td>\n      <td>407</td>\n      <td>7</td>\n      <td>7</td>\n      <td>17</td>\n      <td>368</td>\n      <td>520</td>\n      <td>422</td>\n      <td>533</td>\n      <td>1282</td>\n      <td>2093</td>\n      <td>4278</td>\n      <td>2660</td>\n      <td>3503</td>\n      <td>3842</td>\n      <td>1051</td>\n      <td>1447</td>\n      <td>2867</td>\n      <td>3844</td>\n      <td>4320</td>\n      <td>1855</td>\n      <td>3481</td>\n      <td>5015</td>\n      <td>3096</td>\n      <td>2779</td>\n      <td>3302</td>\n      <td>1941</td>\n      <td>4893</td>\n      <td>2275</td>\n      <td>1903</td>\n    </tr>\n  </tbody>\n</table>\n<p>5 rows × 298 columns</p>\n</div>",
            "text/plain": "    name  2-D10  2-D11  2-D14  2-D16  ...  5-D64AM  5-D64PM   5-D7  5-D8  5-D9\n0  OTU_1   1227   1793   8023   9503  ...     1043     1732   4698  3310  4495\n1  OTU_2  17362   6887  17165  29854  ...     9301    10964  14754  6195  7539\n2  OTU_3   8162   4911   9743   5776  ...     1664     2578   8830  3163  6160\n3  OTU_4   3793   2713   2683   3423  ...     3597     5020   1395   895  2242\n4  OTU_5   5852   3034   6870   6102  ...     3302     1941   4893  2275  1903\n\n[5 rows x 298 columns]"
          },
          "metadata": {}
        }
      ],
      "execution_count": null,
      "metadata": {
        "id": "XR2K3BH4gD8C",
        "outputId": "88b225b3-dc75-4e16-f4a8-509f3dc05d08",
        "colab": {
          "base_uri": "https://localhost:8080/",
          "height": 256
        }
      }
    },
    {
      "cell_type": "markdown",
      "source": [
        "### Taxonomy table\n",
        "The following table is a taxonomy table. For each taxa name, it shows the sequence and taxonomy"
      ],
      "metadata": {
        "id": "Fb9H6HSwgD8C"
      }
    },
    {
      "cell_type": "code",
      "source": [
        "taxonomy = pd.read_csv(dataset_dir / 'healthy-toy' / 'taxonomy.tsv', sep='\\t')\n",
        "display(taxonomy)"
      ],
      "outputs": [
        {
          "output_type": "display_data",
          "data": {
            "text/html": "<div>\n<style scoped>\n    .dataframe tbody tr th:only-of-type {\n        vertical-align: middle;\n    }\n\n    .dataframe tbody tr th {\n        vertical-align: top;\n    }\n\n    .dataframe thead th {\n        text-align: right;\n    }\n</style>\n<table border=\"1\" class=\"dataframe\">\n  <thead>\n    <tr style=\"text-align: right;\">\n      <th></th>\n      <th>name</th>\n      <th>sequence</th>\n      <th>kingdom</th>\n      <th>phylum</th>\n      <th>class</th>\n      <th>order</th>\n      <th>family</th>\n      <th>genus</th>\n      <th>species</th>\n    </tr>\n  </thead>\n  <tbody>\n    <tr>\n      <th>0</th>\n      <td>OTU_1</td>\n      <td>TACGGAGGATCCGAGCGTTATCCGGATTTATTGGGTTTAAAGGGAG...</td>\n      <td>Bacteria</td>\n      <td>Bacteroidetes</td>\n      <td>Bacteroidia</td>\n      <td>Bacteroidales</td>\n      <td>Bacteroidaceae</td>\n      <td>Phocaeicola</td>\n      <td>NaN</td>\n    </tr>\n    <tr>\n      <th>1</th>\n      <td>OTU_2</td>\n      <td>TACGGAGGATCCGAGCGTTATCCGGATTTATTGGGTTTAAAGGGAG...</td>\n      <td>Bacteria</td>\n      <td>Bacteroidetes</td>\n      <td>Bacteroidia</td>\n      <td>Bacteroidales</td>\n      <td>Bacteroidaceae</td>\n      <td>Bacteroides</td>\n      <td>fragilis/ovatus</td>\n    </tr>\n    <tr>\n      <th>2</th>\n      <td>OTU_3</td>\n      <td>TACAGAGGTCTCAAGCGTTGTTCGGAATCACTGGGCGTAAAGCGTG...</td>\n      <td>Bacteria</td>\n      <td>Verrucomicrobia</td>\n      <td>Verrucomicrobiae</td>\n      <td>Verrucomicrobiales</td>\n      <td>Akkermansiaceae</td>\n      <td>Akkermansia</td>\n      <td>muciniphila</td>\n    </tr>\n    <tr>\n      <th>3</th>\n      <td>OTU_4</td>\n      <td>TACGGAGGATCCGAGCGTTATCCGGATTTATTGGGTTTAAAGGGAG...</td>\n      <td>Bacteria</td>\n      <td>Bacteroidetes</td>\n      <td>Bacteroidia</td>\n      <td>Bacteroidales</td>\n      <td>Bacteroidaceae</td>\n      <td>Bacteroides</td>\n      <td>NaN</td>\n    </tr>\n    <tr>\n      <th>4</th>\n      <td>OTU_5</td>\n      <td>TACGTAGGGTGCAAGCGTTAATCGGAATTACTGGGCGTAAAGGGTG...</td>\n      <td>Bacteria</td>\n      <td>Proteobacteria</td>\n      <td>Betaproteobacteria</td>\n      <td>Burkholderiales</td>\n      <td>Sutterellaceae</td>\n      <td>Parasutterella</td>\n      <td>excrementihominis</td>\n    </tr>\n    <tr>\n      <th>5</th>\n      <td>OTU_6</td>\n      <td>TACGGAGGATCCGAGCGTTATCCGGATTTATTGGGTTTAAAGGGAG...</td>\n      <td>Bacteria</td>\n      <td>Bacteroidetes</td>\n      <td>Bacteroidia</td>\n      <td>Bacteroidales</td>\n      <td>Bacteroidaceae</td>\n      <td>Bacteroides</td>\n      <td>dorei/fragilis</td>\n    </tr>\n    <tr>\n      <th>6</th>\n      <td>OTU_7</td>\n      <td>TACGGAGGATCCGAGCGTTATCCGGATTTATTGGGTTTAAAGGGAG...</td>\n      <td>Bacteria</td>\n      <td>Bacteroidetes</td>\n      <td>Bacteroidia</td>\n      <td>Bacteroidales</td>\n      <td>Bacteroidaceae</td>\n      <td>Bacteroides</td>\n      <td>caccae</td>\n    </tr>\n    <tr>\n      <th>7</th>\n      <td>OTU_8</td>\n      <td>TACGGAGGATCCGAGCGTTATCCGGATTTATTGGGTTTAAAGGGAG...</td>\n      <td>Bacteria</td>\n      <td>Bacteroidetes</td>\n      <td>Bacteroidia</td>\n      <td>Bacteroidales</td>\n      <td>Bacteroidaceae</td>\n      <td>Bacteroides</td>\n      <td>salyersiae</td>\n    </tr>\n    <tr>\n      <th>8</th>\n      <td>OTU_9</td>\n      <td>TACGGAGGATCCGAGCGTTATCCGGATTTATTGGGTTTAAAGGGAG...</td>\n      <td>Bacteria</td>\n      <td>Bacteroidetes</td>\n      <td>Bacteroidia</td>\n      <td>Bacteroidales</td>\n      <td>Bacteroidaceae</td>\n      <td>Bacteroides</td>\n      <td>NaN</td>\n    </tr>\n    <tr>\n      <th>9</th>\n      <td>OTU_10</td>\n      <td>TACGGAGGATCCGAGCGTTATCCGGATTTATTGGGTTTAAAGGGAG...</td>\n      <td>Bacteria</td>\n      <td>Bacteroidetes</td>\n      <td>Bacteroidia</td>\n      <td>Bacteroidales</td>\n      <td>Bacteroidaceae</td>\n      <td>Bacteroides</td>\n      <td>uniformis</td>\n    </tr>\n    <tr>\n      <th>10</th>\n      <td>OTU_11</td>\n      <td>TACGGAGGGTGCAAGCGTTAATCGGAATTACTGGGCGTAAAGCGCA...</td>\n      <td>Bacteria</td>\n      <td>Proteobacteria</td>\n      <td>Gammaproteobacteria</td>\n      <td>Enterobacterales</td>\n      <td>Enterobacteriaceae</td>\n      <td>Escherichia/Shigella</td>\n      <td>NaN</td>\n    </tr>\n    <tr>\n      <th>11</th>\n      <td>OTU_12</td>\n      <td>TACGGAGGATCCGAGCGTTATCCGGATTTATTGGGTTTAAAGGGTG...</td>\n      <td>Bacteria</td>\n      <td>Bacteroidetes</td>\n      <td>Bacteroidia</td>\n      <td>Bacteroidales</td>\n      <td>Porphyromonadaceae</td>\n      <td>Parabacteroides</td>\n      <td>distasonis</td>\n    </tr>\n    <tr>\n      <th>12</th>\n      <td>OTU_13</td>\n      <td>TACGGAGGATGCGAGCGTTATCCGGATTTATTGGGTTTAAAGGGTG...</td>\n      <td>Bacteria</td>\n      <td>Bacteroidetes</td>\n      <td>Bacteroidia</td>\n      <td>Bacteroidales</td>\n      <td>Porphyromonadaceae</td>\n      <td>Parabacteroides</td>\n      <td>goldsteinii</td>\n    </tr>\n    <tr>\n      <th>13</th>\n      <td>OTU_14</td>\n      <td>TACGTAGGTGGCGAGCGTTGTCCGGAATTATTGGGCGTAAAGNGCA...</td>\n      <td>Bacteria</td>\n      <td>Firmicutes</td>\n      <td>Negativicutes</td>\n      <td>Acidaminococcales</td>\n      <td>Acidaminococcaceae</td>\n      <td>Phascolarctobacterium</td>\n      <td>faecium</td>\n    </tr>\n    <tr>\n      <th>14</th>\n      <td>OTU_15</td>\n      <td>TACGGAGGATCCGAGCGTTATCCGGATTTATTGGGTTTAAAGGGAG...</td>\n      <td>Bacteria</td>\n      <td>Bacteroidetes</td>\n      <td>Bacteroidia</td>\n      <td>Bacteroidales</td>\n      <td>Bacteroidaceae</td>\n      <td>Bacteroides</td>\n      <td>nordii</td>\n    </tr>\n  </tbody>\n</table>\n</div>",
            "text/plain": "      name  ...            species\n0    OTU_1  ...                NaN\n1    OTU_2  ...    fragilis/ovatus\n2    OTU_3  ...        muciniphila\n3    OTU_4  ...                NaN\n4    OTU_5  ...  excrementihominis\n5    OTU_6  ...     dorei/fragilis\n6    OTU_7  ...             caccae\n7    OTU_8  ...         salyersiae\n8    OTU_9  ...                NaN\n9   OTU_10  ...          uniformis\n10  OTU_11  ...                NaN\n11  OTU_12  ...         distasonis\n12  OTU_13  ...        goldsteinii\n13  OTU_14  ...            faecium\n14  OTU_15  ...             nordii\n\n[15 rows x 9 columns]"
          },
          "metadata": {}
        }
      ],
      "execution_count": null,
      "metadata": {
        "id": "RplzgFFAgD8D",
        "outputId": "b6ed9c47-bf25-4a18-de40-1fa57ec26037",
        "colab": {
          "base_uri": "https://localhost:8080/",
          "height": 520
        }
      }
    },
    {
      "cell_type": "markdown",
      "source": [
        "With these 5 tables, you can run our model. You can parse them directly into a `Study` object with the `mdsine2.dataset.parse` command:"
      ],
      "metadata": {
        "id": "QeaSdaiZgD8D"
      }
    },
    {
      "cell_type": "code",
      "source": [
        "h_toy = md2.dataset.parse(name='healthy-toy-dataset', \n",
        "                         taxonomy=dataset_dir / 'healthy-toy' / 'taxonomy.tsv', \n",
        "                         reads=dataset_dir / 'healthy-toy' / 'reads.tsv', \n",
        "                         qpcr=dataset_dir / 'healthy-toy' / 'qpcr.tsv', \n",
        "                         perturbations=dataset_dir / 'healthy-toy' / 'perturbations.tsv', \n",
        "                         metadata=dataset_dir / 'healthy-toy' / 'metadata.tsv')\n",
        "uc_toy = md2.dataset.parse(name='uc-toy-dataset', \n",
        "                         taxonomy=dataset_dir / 'uc-toy' / 'taxonomy.tsv', \n",
        "                         reads=dataset_dir / 'uc-toy' / 'reads.tsv', \n",
        "                         qpcr=dataset_dir / 'uc-toy' / 'qpcr.tsv', \n",
        "                         perturbations=dataset_dir / 'uc-toy' / 'perturbations.tsv', \n",
        "                         metadata=dataset_dir / 'uc-toy' / 'metadata.tsv')\n",
        "rep_toy = md2.dataset.parse(name='replicates-toy-dataset', \n",
        "                         taxonomy=dataset_dir / 'replicates-toy' / 'taxonomy.tsv', \n",
        "                         reads=dataset_dir / 'replicates-toy' / 'reads.tsv', \n",
        "                         qpcr=dataset_dir / 'replicates-toy' / 'qpcr.tsv', \n",
        "                         metadata=dataset_dir / 'replicates-toy' / 'metadata.tsv')\n"
      ],
      "outputs": [
        {
          "output_type": "stream",
          "name": "stdout",
          "text": [
            "2021-12-15 21:32:36,937 [INFO] [base.py (1286)] - TaxaSet parsng new taxonomy table. Resetting\n",
            "2021-12-15 21:32:37,102 [INFO] [base.py (1286)] - TaxaSet parsng new taxonomy table. Resetting\n",
            "2021-12-15 21:32:37,301 [INFO] [base.py (1286)] - TaxaSet parsng new taxonomy table. Resetting\n"
          ]
        }
      ],
      "execution_count": 9,
      "metadata": {
        "id": "MeBLOYcogD8D",
        "outputId": "75719b78-8f8d-43d1-818d-270403d3faf6",
        "colab": {
          "base_uri": "https://localhost:8080/"
        }
      }
    },
    {
      "cell_type": "markdown",
      "source": [
        "Once you read these into the parser they are identical to the data stored in our pickles files (we only kept the top 15 most abundant taxa so that this tutorial could run in a reasonable amount of time). If you wanted to run a model on your own cohort you would simply replace the 5 files with your own."
      ],
      "metadata": {
        "id": "nnv3YEYrgD8E"
      }
    },
    {
      "cell_type": "markdown",
      "source": [
        "# Learning the Negative Binomial dispersion parameters\n",
        "\n",
        "Before running the main inference loop we learn the negative binomial parameters from our physical replicates"
      ],
      "metadata": {
        "id": "RSFyt578gD8E"
      }
    },
    {
      "cell_type": "code",
      "source": [
        "# set negative binomial model inference parameters\n",
        "params = md2.config.NegBinConfig(\n",
        "    seed=0, burnin=100, n_samples=200,\n",
        "    checkpoint=100, \n",
        "    basepath=str(output_dir / \"negbin\")\n",
        ")"
      ],
      "outputs": [],
      "execution_count": 10,
      "metadata": {
        "id": "XGeDg41SgD8E"
      }
    },
    {
      "cell_type": "markdown",
      "source": [
        "Build the compute graph for learning the model that is used to learn negative binomial parameters."
      ],
      "metadata": {
        "id": "R469V3aIgD8E"
      }
    },
    {
      "cell_type": "code",
      "source": [
        "mcmc_negbin = md2.negbin.build_graph(\n",
        "    params=params, \n",
        "    graph_name=rep_toy.name, \n",
        "    subjset=rep_toy\n",
        ")"
      ],
      "outputs": [
        {
          "output_type": "stream",
          "name": "stdout",
          "text": [
            "2021-12-15 21:32:38,835 [INFO] [inference.py (591)] - Setting Single Write, Multiple Read Mode\n",
            "2021-12-15 21:32:38,837 [INFO] [inference.py (596)] - Setting the trace of learned parameters\n",
            "2021-12-15 21:32:38,839 [INFO] [inference.py (597)] - #######################################\n",
            "2021-12-15 21:32:38,841 [INFO] [inference.py (599)] - Setting the trace of Negative binomial dispersion a0\n",
            "2021-12-15 21:32:38,851 [INFO] [inference.py (599)] - Setting the trace of Negative binomial dispersion a1\n",
            "2021-12-15 21:32:38,855 [INFO] [inference.py (599)] - Setting the trace of Filtering\n",
            "2021-12-15 21:32:38,865 [INFO] [inference.py (601)] - Setting the trace for diagnostic variables\n",
            "2021-12-15 21:32:38,868 [INFO] [inference.py (602)] - ##########################################\n"
          ]
        }
      ],
      "execution_count": 11,
      "metadata": {
        "id": "-e3MXUBwgD8F",
        "outputId": "6b9655b2-12b2-46d7-8f15-17d47524c5db",
        "colab": {
          "base_uri": "https://localhost:8080/"
        }
      }
    },
    {
      "cell_type": "markdown",
      "source": [
        "Run inference to learn the negative binomial parameters"
      ],
      "metadata": {
        "id": "rSwQXw12gD8F"
      }
    },
    {
      "cell_type": "code",
      "source": [
        "mcmc_negbin = md2.negbin.run_graph(\n",
        "    mcmc_negbin, \n",
        "    crash_if_error=True\n",
        ")"
      ],
      "outputs": [
        {
          "output_type": "stream",
          "name": "stdout",
          "text": [
            "100%|██████████| 200/200 [00:02<00:00, 96.78it/s] \n",
            "2021-12-15 21:32:42,257 [INFO] [inference.py (510)] - Inference total time: 0.010384842157363891/Gibb step\n",
            "2021-12-15 21:32:42,262 [INFO] [inference.py (514)] - remove local traces\n"
          ]
        }
      ],
      "execution_count": 12,
      "metadata": {
        "id": "0uXkWXP6gD8F",
        "outputId": "477613cf-1fa3-4086-a24e-e89415e41c3c",
        "colab": {
          "base_uri": "https://localhost:8080/"
        }
      }
    },
    {
      "cell_type": "code",
      "source": [
        "# visualize fit\n",
        "fig = md2.negbin.visualize_learned_negative_binomial_model(mcmc_negbin)\n",
        "fig.tight_layout()\n",
        "plt.show()"
      ],
      "outputs": [
        {
          "output_type": "stream",
          "name": "stderr",
          "text": [
            "*c* argument looks like a single numeric RGB or RGBA sequence, which should be avoided as value-mapping will have precedence in case its length matches with *x* & *y*.  Please use the *color* keyword-argument or provide a 2D array with a single row if you intend to specify the same RGB or RGBA value for all points.\n",
            "*c* argument looks like a single numeric RGB or RGBA sequence, which should be avoided as value-mapping will have precedence in case its length matches with *x* & *y*.  Please use the *color* keyword-argument or provide a 2D array with a single row if you intend to specify the same RGB or RGBA value for all points.\n",
            "*c* argument looks like a single numeric RGB or RGBA sequence, which should be avoided as value-mapping will have precedence in case its length matches with *x* & *y*.  Please use the *color* keyword-argument or provide a 2D array with a single row if you intend to specify the same RGB or RGBA value for all points.\n"
          ]
        },
        {
          "output_type": "display_data",
          "data": {
            "image/png": "[encoded data removed]",
            "text/plain": "<Figure size 432x288 with 1 Axes>"
          },
          "metadata": {
            "needs_background": "light"
          }
        }
      ],
      "execution_count": 113,
      "metadata": {
        "id": "90LPI38XgD8G",
        "outputId": "f4a21345-f45d-4255-e2f4-2e7b791a1ea4",
        "colab": {
          "base_uri": "https://localhost:8080/",
          "height": 369
        }
      }
    },
    {
      "cell_type": "markdown",
      "source": [
        "This is not representative of the real results because we only have the 15 of the most abundant taxa here."
      ],
      "metadata": {
        "id": "-Zu13OPA2Mxh"
      }
    },
    {
      "cell_type": "code",
      "source": [
        "# summary of a0 and a1 posterior\n",
        "print('a0', md2.summary(mcmc_negbin.graph[STRNAMES.NEGBIN_A0]))\n",
        "print('a1', md2.summary(mcmc_negbin.graph[STRNAMES.NEGBIN_A1]))"
      ],
      "outputs": [
        {
          "output_type": "stream",
          "name": "stdout",
          "text": [
            "a0 {'median': 2.0149169537426792e-10, 'mean': 1.9940356992343302e-10, '25th percentile': 1.7354531823501396e-10, '75th percentile': 2.2558396649358908e-10}\n",
            "a1 {'median': 0.06466732367084299, 'mean': 0.06562195000302486, '25th percentile': 0.05899503076607574, '75th percentile': 0.06842424704123246}\n"
          ]
        }
      ],
      "execution_count": 22,
      "metadata": {
        "colab": {
          "base_uri": "https://localhost:8080/"
        },
        "id": "XeqUG2ptAr1L",
        "outputId": "e4a6cc65-6bc1-448f-a31f-7c69a2eb1bff"
      }
    },
    {
      "cell_type": "markdown",
      "source": [
        "# Run inference on the full model (with seed=0)"
      ],
      "metadata": {
        "id": "eueVoktvgD8G"
      }
    },
    {
      "cell_type": "markdown",
      "source": [
        "### Initialize and set model hyperparameters"
      ],
      "metadata": {
        "id": "so6sv97IBQe5"
      }
    },
    {
      "cell_type": "code",
      "source": [
        "# Get a0 and a1 from negbin (get the mean of the posterior) and fixes them for inference\n",
        "from mdsine2.names import STRNAMES\n",
        "a0 = md2.summary(mcmc_negbin.graph[STRNAMES.NEGBIN_A0])['mean']\n",
        "a1 = md2.summary(mcmc_negbin.graph[STRNAMES.NEGBIN_A1])['mean']\n",
        "\n",
        "print('negbin a0', a0)\n",
        "print('negbin a1', a1)\n",
        "\n",
        "basepath = output_dir / \"mdsine2\" / \"uc0\"\n",
        "basepath.mkdir(exist_ok=True, parents=True)\n",
        "\n",
        "# Initialize parameters of the model (Seed = 0) burnin=50, total steps=100\n",
        "params = md2.config.MDSINE2ModelConfig(\n",
        "    basepath=str(basepath), \n",
        "    seed=0,\n",
        "    burnin=50, \n",
        "    n_samples=100, \n",
        "    negbin_a0=a0, negbin_a1=a1, \n",
        "    checkpoint=50\n",
        ")\n",
        "\n",
        "# The default number of modules is 30, which is larger than the number of taxa\n",
        "# that we have in this dataset, which would throw a flag.\n",
        "params.INITIALIZATION_KWARGS[STRNAMES.CLUSTERING]['value_option'] = 'no-clusters'"
      ],
      "outputs": [
        {
          "output_type": "stream",
          "name": "stdout",
          "text": [
            "negbin a0 1.9940356992343302e-10\n",
            "negbin a1 0.06562195000302486\n"
          ]
        }
      ],
      "execution_count": 23,
      "metadata": {
        "id": "A9MShh_7gD8G",
        "outputId": "92a5a52c-8afb-41b7-8645-adc5afa46740",
        "colab": {
          "base_uri": "https://localhost:8080/"
        }
      }
    },
    {
      "cell_type": "code",
      "source": [
        "# initilize the graph\n",
        "mcmc_uc0 = md2.initialize_graph(params=params, graph_name=uc_toy.name, subjset=uc_toy)\n"
      ],
      "outputs": [
        {
          "output_type": "stream",
          "name": "stdout",
          "text": [
            "2021-12-15 22:30:28,151 [INFO] [base.py (2777)] - max_value found: 1797837340792.1643, scaling_factor: 5.5622384590108656e-11\n",
            "2021-12-15 22:30:28,191 [INFO] [run.py (87)] - Normalizing abundances for a max value of 100. Normalization constant: 5.5622E-11\n",
            "2021-12-15 22:30:28,413 [INFO] [run.py (254)] - There are 372 qPCR measurements for 3 buckets. Each bucket is 124 measurements long\n",
            "2021-12-15 22:30:28,425 [INFO] [run.py (289)] - Initializing Filtering\n",
            "2021-12-15 22:30:28,426 [INFO] [posterior.py (2658)] - Setting up the essential timepoints\n",
            "2021-12-15 22:30:28,429 [INFO] [posterior.py (2671)] - Essential timepoints: [ 1.   1.5  2.   2.5  3.   3.5  4.   4.5  5.   6.   7.   8.   9.  10.\n",
            " 11.  14.  16.  18.  21.  21.5 22.  22.5 23.  23.5 24.  25.  28.  28.5\n",
            " 29.  29.5 30.  30.5 31.  31.5 32.  33.  35.  35.5 36.  36.5 37.  37.5\n",
            " 38.  39.  42.  42.5 43.  43.5 44.  44.5 45.  45.5 46.  47.  50.  50.5\n",
            " 51.  51.5 52.  52.5 53.  54.  57.  57.5 58.  58.5 59.  59.5 60.  60.5\n",
            " 61.  62.  63.  64.  64.5]\n",
            "2021-12-15 22:30:29,030 [INFO] [run.py (289)] - Initializing Zero inflation\n",
            "2021-12-15 22:30:29,032 [INFO] [design_matrices.py (851)] - Initializing LHS vector\n",
            "2021-12-15 22:30:29,254 [INFO] [design_matrices.py (1006)] - Initializing growth design matrix\n",
            "2021-12-15 22:30:29,259 [INFO] [design_matrices.py (932)] - Initializing self-interactions design matrix\n",
            "2021-12-15 22:30:29,261 [INFO] [run.py (289)] - Initializing Clustering concentration parameter\n",
            "2021-12-15 22:30:29,263 [INFO] [posterior.py (878)] - Cluster Concentration initialization results:\n",
            "\tprior shape: 1e-05\n",
            "\tprior scale: 100000.0\n",
            "\tvalue: 1.0\n",
            "2021-12-15 22:30:29,265 [INFO] [run.py (289)] - Initializing Clustering parameter\n",
            "2021-12-15 22:30:29,660 [INFO] [posterior.py (1235)] - Cluster Assingments initialization results:\n",
            "Clustering object (contains ability to change the cluster assignments), n_clusters: 15\n",
            "Cluster 100115\n",
            "\tmembers: ['OTU_1']\n",
            "\tsize: 1\n",
            "Cluster 100116\n",
            "\tmembers: ['OTU_2']\n",
            "\tsize: 1\n",
            "Cluster 100117\n",
            "\tmembers: ['OTU_3']\n",
            "\tsize: 1\n",
            "Cluster 100118\n",
            "\tmembers: ['OTU_4']\n",
            "\tsize: 1\n",
            "Cluster 100119\n",
            "\tmembers: ['OTU_5']\n",
            "\tsize: 1\n",
            "Cluster 100120\n",
            "\tmembers: ['OTU_6']\n",
            "\tsize: 1\n",
            "Cluster 100121\n",
            "\tmembers: ['OTU_7']\n",
            "\tsize: 1\n",
            "Cluster 100122\n",
            "\tmembers: ['OTU_8']\n",
            "\tsize: 1\n",
            "Cluster 100123\n",
            "\tmembers: ['OTU_9']\n",
            "\tsize: 1\n",
            "Cluster 100124\n",
            "\tmembers: ['OTU_10']\n",
            "\tsize: 1\n",
            "Cluster 100125\n",
            "\tmembers: ['OTU_12']\n",
            "\tsize: 1\n",
            "Cluster 100126\n",
            "\tmembers: ['OTU_13']\n",
            "\tsize: 1\n",
            "Cluster 100127\n",
            "\tmembers: ['OTU_16']\n",
            "\tsize: 1\n",
            "Cluster 100128\n",
            "\tmembers: ['OTU_17']\n",
            "\tsize: 1\n",
            "Cluster 100129\n",
            "\tmembers: ['OTU_18']\n",
            "\tsize: 1\n",
            "2021-12-15 22:30:29,667 [INFO] [run.py (289)] - Initializing Process Variance parameter\n",
            "2021-12-15 22:30:29,669 [INFO] [run.py (289)] - Initializing Mean parameter for the truncated normal prior of the growth parameter\n",
            "2021-12-15 22:30:29,691 [INFO] [run.py (289)] - Initializing Variance parameter for the truncated normal prior of the growth parameter\n",
            "2021-12-15 22:30:29,702 [INFO] [run.py (289)] - Initializing Growth parameter\n",
            "2021-12-15 22:30:29,711 [INFO] [posterior.py (6020)] - Growth value initialization: [0.10964791 0.56202435 0.93984141 0.3618403  0.75880289 0.44916415\n",
            " 0.30278078 0.72258538 0.64226612 0.34511696 0.23619727 0.72422836\n",
            " 1.74801305 0.93771595 0.24703424]\n",
            "2021-12-15 22:30:29,712 [INFO] [posterior.py (6021)] - Growth prior mean: 1\n",
            "2021-12-15 22:30:29,713 [INFO] [posterior.py (6022)] - Growth truncation settings: (0.0, inf)\n",
            "2021-12-15 22:30:29,715 [INFO] [run.py (289)] - Initializing Mean parameter for the truncated normal prior of the self-interaction parameter\n",
            "2021-12-15 22:30:29,731 [INFO] [run.py (289)] - Initializing Variance parameter for the truncated normal prior of the self-interaction parameter\n",
            "2021-12-15 22:30:29,742 [INFO] [run.py (289)] - Initializing Self interaction parameter\n",
            "2021-12-15 22:30:29,752 [INFO] [posterior.py (6423)] - Self-interactions value initialization: [7.20027987e-02 2.35208688e-01 2.62896147e-01 3.39807087e+00\n",
            " 1.09772700e+00 6.76419192e-01 7.78850955e-01 1.18684890e+00\n",
            " 1.30095169e+02 1.75951287e+02 9.11004716e-01 1.32674030e+02\n",
            " 7.33154010e+00 3.53664657e+00 1.88587399e+00]\n",
            "2021-12-15 22:30:29,753 [INFO] [posterior.py (6424)] - Self-interactions truncation settings: (0, inf)\n",
            "2021-12-15 22:30:29,758 [INFO] [run.py (289)] - Initializing Mean parameter for the normal prior of the interaction parameter\n",
            "2021-12-15 22:30:29,763 [INFO] [run.py (289)] - Initializing Variance parameter for the normal prior of the interaction parameter\n",
            "2021-12-15 22:30:29,768 [INFO] [posterior.py (3860)] - Prior Variance Interactions initialization results:\n",
            "\tprior dof: 2.01\n",
            "\tprior scale: 70.08011540898367\n",
            "\tvalue: 14086.103197206017\n",
            "2021-12-15 22:30:29,770 [INFO] [run.py (289)] - Initializing Cluster interaction value parameter\n",
            "2021-12-15 22:30:29,776 [INFO] [run.py (289)] - Initializing Cluster interaction indicator parameter\n",
            "2021-12-15 22:30:29,798 [INFO] [design_matrices.py (1455)] - Initializing interactions base design matrix\n",
            "2021-12-15 22:30:30,008 [INFO] [design_matrices.py (1584)] - Initialized interactions mixing design matrix\n",
            "2021-12-15 22:30:30,182 [INFO] [design_matrices.py (1925)] - Initializing interactions matrix\n",
            "2021-12-15 22:30:30,184 [INFO] [run.py (289)] - Initializing Cluster interaction probability\n",
            "2021-12-15 22:30:30,187 [INFO] [posterior.py (4128)] - Indicator Probability initialization results:\n",
            "\tprior a: 0.5\n",
            "\tprior b: 4.9146595004514415\n",
            "\tvalue: 0.09234190994988938\n",
            "2021-12-15 22:30:30,189 [INFO] [run.py (289)] - Initializing Mean parameter for the normal prior of the perturbation parameter\n",
            "2021-12-15 22:30:30,197 [INFO] [run.py (289)] - Initializing Variance parameter for the normal prior of the perturbation parameter\n",
            "2021-12-15 22:30:30,199 [INFO] [posterior.py (8293)] - Prior Variance Interactions initialization results:\n",
            "\tprior dof: 2.5\n",
            "\tprior scale: 2000.0\n",
            "\tvalue: 10000.0\n",
            "2021-12-15 22:30:30,204 [INFO] [posterior.py (8293)] - Prior Variance Interactions initialization results:\n",
            "\tprior dof: 2.5\n",
            "\tprior scale: 2000.0\n",
            "\tvalue: 10000.0\n",
            "2021-12-15 22:30:30,205 [INFO] [posterior.py (8293)] - Prior Variance Interactions initialization results:\n",
            "\tprior dof: 2.5\n",
            "\tprior scale: 2000.0\n",
            "\tvalue: 10000.0\n",
            "2021-12-15 22:30:30,207 [INFO] [run.py (289)] - Initializing Perturbation indicator parameter\n",
            "2021-12-15 22:30:30,209 [INFO] [posterior.py (7585)] - Perturbation indicator initialization results:\n",
            "\tPerturbation 0:\n",
            "\t\tindicator: [False False False False False False False False False False False False\n",
            " False False False]\n",
            "\tPerturbation 1:\n",
            "\t\tindicator: [False False False False False False False False False False False False\n",
            " False False False]\n",
            "\tPerturbation 2:\n",
            "\t\tindicator: [False False False False False False False False False False False False\n",
            " False False False]\n",
            "\n",
            "2021-12-15 22:30:31,050 [INFO] [run.py (289)] - Initializing Perturbation value parameter\n",
            "2021-12-15 22:30:31,052 [INFO] [posterior.py (7099)] - Perturbation magnitude initialization results:\n",
            "\tPerturbation High Fat Diet:\n",
            "\t\tvalue: [0. 0. 0. 0. 0. 0. 0. 0. 0. 0. 0. 0. 0. 0. 0.]\n",
            "\tPerturbation Vancomycin:\n",
            "\t\tvalue: [0. 0. 0. 0. 0. 0. 0. 0. 0. 0. 0. 0. 0. 0. 0.]\n",
            "\tPerturbation Gentamicin:\n",
            "\t\tvalue: [0. 0. 0. 0. 0. 0. 0. 0. 0. 0. 0. 0. 0. 0. 0.]\n",
            "\n",
            "2021-12-15 22:30:31,059 [INFO] [run.py (289)] - Initializing Probability parameter for the beta prior of the perturbation indicator parameter\n",
            "2021-12-15 22:30:31,061 [INFO] [posterior.py (7418)] - Perturbation indicator probability initialization results:\n",
            "\tPerturbation 0:\n",
            "\t\tprior a: 0.5\n",
            "\t\tprior b: 2.772588722239781\n",
            "\t\tvalue: 0.1527842458791451\n",
            "\tPerturbation 1:\n",
            "\t\tprior a: 0.5\n",
            "\t\tprior b: 2.772588722239781\n",
            "\t\tvalue: 0.1527842458791451\n",
            "\tPerturbation 2:\n",
            "\t\tprior a: 0.5\n",
            "\t\tprior b: 2.772588722239781\n",
            "\t\tvalue: 0.1527842458791451\n",
            "\n",
            "2021-12-15 22:30:31,064 [INFO] [run.py (289)] - Initializing Logistic growth parameters (growth, self-interactions, interactions/perturbations)\n",
            "2021-12-15 22:30:31,069 [INFO] [run.py (289)] - Initializing qPCR hyperprior scales\n",
            "2021-12-15 22:30:31,081 [INFO] [run.py (289)] - Initializing qPCR hyperprior degrees of freedom\n",
            "2021-12-15 22:30:31,093 [INFO] [run.py (289)] - Initializing qPCR variances\n",
            "2021-12-15 22:30:31,106 [INFO] [run.py (327)] - \n",
            "\n",
            "\n",
            "\n",
            "2021-12-15 22:30:31,108 [INFO] [run.py (328)] - Initialization Values:\n",
            "2021-12-15 22:30:31,113 [INFO] [run.py (329)] - Growth\n",
            "2021-12-15 22:30:31,116 [INFO] [run.py (330)] - \tprior.loc: 1\n",
            "2021-12-15 22:30:31,120 [INFO] [run.py (331)] - \tprior.scale2: 3158.7136638120637\n",
            "2021-12-15 22:30:31,126 [INFO] [run.py (332)] - \tvalue: [0.10964791 0.56202435 0.93984141 0.3618403  0.75880289 0.44916415\n",
            " 0.30278078 0.72258538 0.64226612 0.34511696 0.23619727 0.72422836\n",
            " 1.74801305 0.93771595 0.24703424]\n",
            "2021-12-15 22:30:31,128 [INFO] [run.py (334)] - Self-Interactions\n",
            "2021-12-15 22:30:31,130 [INFO] [run.py (335)] - \tprior.loc: 1.1868489034921847\n",
            "2021-12-15 22:30:31,133 [INFO] [run.py (336)] - \tprior.scale2: 14086.103197206015\n",
            "2021-12-15 22:30:31,135 [INFO] [run.py (337)] - \tvalue: [7.20027987e-02 2.35208688e-01 2.62896147e-01 3.39807087e+00\n",
            " 1.09772700e+00 6.76419192e-01 7.78850955e-01 1.18684890e+00\n",
            " 1.30095169e+02 1.75951287e+02 9.11004716e-01 1.32674030e+02\n",
            " 7.33154010e+00 3.53664657e+00 1.88587399e+00]\n",
            "2021-12-15 22:30:31,137 [INFO] [run.py (339)] - Prior Variance Growth\n",
            "2021-12-15 22:30:31,138 [INFO] [run.py (340)] - \tprior.dof: 2.5\n",
            "2021-12-15 22:30:31,140 [INFO] [run.py (341)] - \tprior.scale: 631.7427327624127\n",
            "2021-12-15 22:30:31,142 [INFO] [run.py (342)] - \tvalue: 3158.7136638120637\n",
            "2021-12-15 22:30:31,145 [INFO] [run.py (344)] - Prior Variance Self-Interactions\n",
            "2021-12-15 22:30:31,147 [INFO] [run.py (345)] - \tprior.dof: 2.5\n",
            "2021-12-15 22:30:31,151 [INFO] [run.py (346)] - \tprior.scale: 2817.2206394412033\n",
            "2021-12-15 22:30:31,153 [INFO] [run.py (347)] - \tvalue: 14086.103197206015\n",
            "2021-12-15 22:30:31,154 [INFO] [run.py (349)] - Prior Variance Interactions\n",
            "2021-12-15 22:30:31,155 [INFO] [run.py (350)] - \tprior.dof: 2.01\n",
            "2021-12-15 22:30:31,158 [INFO] [run.py (351)] - \tprior.scale: 70.08011540898367\n",
            "2021-12-15 22:30:31,160 [INFO] [run.py (352)] - \tvalue: 14086.103197206017\n",
            "2021-12-15 22:30:31,163 [INFO] [run.py (354)] - Process Variance\n",
            "2021-12-15 22:30:31,164 [INFO] [run.py (355)] - \tprior.dof: 2.5\n",
            "2021-12-15 22:30:31,166 [INFO] [run.py (356)] - \tprior.scale: 0.008000000000000002\n",
            "2021-12-15 22:30:31,170 [INFO] [run.py (357)] - \tprior mean: 0.04000000000000001\n",
            "2021-12-15 22:30:31,171 [INFO] [run.py (359)] - Concentration\n",
            "2021-12-15 22:30:31,172 [INFO] [run.py (360)] - \tprior.shape: 1e-05\n",
            "2021-12-15 22:30:31,173 [INFO] [run.py (361)] - \tprior.scale: 100000.0\n",
            "2021-12-15 22:30:31,176 [INFO] [run.py (362)] - \tvalue: 1.0\n",
            "2021-12-15 22:30:31,177 [INFO] [run.py (364)] - Indicator probability\n",
            "2021-12-15 22:30:31,179 [INFO] [run.py (365)] - \tprior.a: 0.5\n",
            "2021-12-15 22:30:31,181 [INFO] [run.py (366)] - \tprior.b: 4.9146595004514415\n",
            "2021-12-15 22:30:31,182 [INFO] [run.py (367)] - \tvalue: 0.09234190994988938\n",
            "2021-12-15 22:30:31,188 [INFO] [run.py (370)] - Perturbation values:\n",
            "2021-12-15 22:30:31,190 [INFO] [run.py (372)] - \tperturbation High Fat Diet\n",
            "2021-12-15 22:30:31,191 [INFO] [run.py (373)] - \t\tvalue: {100115: 0, 100116: 0, 100117: 0, 100118: 0, 100119: 0, 100120: 0, 100121: 0, 100122: 0, 100123: 0, 100124: 0, 100125: 0, 100126: 0, 100127: 0, 100128: 0, 100129: 0}\n",
            "2021-12-15 22:30:31,192 [INFO] [run.py (374)] - \t\tprior.loc: 0\n",
            "2021-12-15 22:30:31,194 [INFO] [run.py (372)] - \tperturbation Vancomycin\n",
            "2021-12-15 22:30:31,195 [INFO] [run.py (373)] - \t\tvalue: {100115: 0, 100116: 0, 100117: 0, 100118: 0, 100119: 0, 100120: 0, 100121: 0, 100122: 0, 100123: 0, 100124: 0, 100125: 0, 100126: 0, 100127: 0, 100128: 0, 100129: 0}\n",
            "2021-12-15 22:30:31,197 [INFO] [run.py (374)] - \t\tprior.loc: 0\n",
            "2021-12-15 22:30:31,199 [INFO] [run.py (372)] - \tperturbation Gentamicin\n",
            "2021-12-15 22:30:31,200 [INFO] [run.py (373)] - \t\tvalue: {100115: 0, 100116: 0, 100117: 0, 100118: 0, 100119: 0, 100120: 0, 100121: 0, 100122: 0, 100123: 0, 100124: 0, 100125: 0, 100126: 0, 100127: 0, 100128: 0, 100129: 0}\n",
            "2021-12-15 22:30:31,201 [INFO] [run.py (374)] - \t\tprior.loc: 0\n",
            "2021-12-15 22:30:31,203 [INFO] [run.py (375)] - Perturbation prior variances:\n",
            "2021-12-15 22:30:31,204 [INFO] [run.py (377)] - \t\tdof: 2.5\n",
            "2021-12-15 22:30:31,205 [INFO] [run.py (378)] - \t\tscale: 2000.0\n",
            "2021-12-15 22:30:31,206 [INFO] [run.py (379)] - \t\tvalue: 10000.0\n",
            "2021-12-15 22:30:31,207 [INFO] [run.py (377)] - \t\tdof: 2.5\n",
            "2021-12-15 22:30:31,208 [INFO] [run.py (378)] - \t\tscale: 2000.0\n",
            "2021-12-15 22:30:31,210 [INFO] [run.py (379)] - \t\tvalue: 10000.0\n",
            "2021-12-15 22:30:31,211 [INFO] [run.py (377)] - \t\tdof: 2.5\n",
            "2021-12-15 22:30:31,212 [INFO] [run.py (378)] - \t\tscale: 2000.0\n",
            "2021-12-15 22:30:31,214 [INFO] [run.py (379)] - \t\tvalue: 10000.0\n",
            "2021-12-15 22:30:31,215 [INFO] [run.py (380)] - Perturbation indicators:\n",
            "2021-12-15 22:30:31,216 [INFO] [run.py (383)] - \tperturbation High Fat Diet: [False False False False False False False False False False False False\n",
            " False False False]\n",
            "2021-12-15 22:30:31,217 [INFO] [run.py (383)] - \tperturbation Vancomycin: [False False False False False False False False False False False False\n",
            " False False False]\n",
            "2021-12-15 22:30:31,219 [INFO] [run.py (383)] - \tperturbation Gentamicin: [False False False False False False False False False False False False\n",
            " False False False]\n",
            "2021-12-15 22:30:31,220 [INFO] [run.py (384)] - Perturbation indicator probability:\n",
            "2021-12-15 22:30:31,221 [INFO] [run.py (386)] - \tperturbation High Fat Diet\n",
            "2021-12-15 22:30:31,222 [INFO] [run.py (387)] - \t\tvalue: 0.1527842458791451\n",
            "2021-12-15 22:30:31,225 [INFO] [run.py (388)] - \t\tprior.a: 0.5\n",
            "2021-12-15 22:30:31,226 [INFO] [run.py (389)] - \t\tprior.b: 2.772588722239781\n",
            "2021-12-15 22:30:31,227 [INFO] [run.py (386)] - \tperturbation Vancomycin\n",
            "2021-12-15 22:30:31,228 [INFO] [run.py (387)] - \t\tvalue: 0.1527842458791451\n",
            "2021-12-15 22:30:31,229 [INFO] [run.py (388)] - \t\tprior.a: 0.5\n",
            "2021-12-15 22:30:31,230 [INFO] [run.py (389)] - \t\tprior.b: 2.772588722239781\n",
            "2021-12-15 22:30:31,231 [INFO] [run.py (386)] - \tperturbation Gentamicin\n",
            "2021-12-15 22:30:31,233 [INFO] [run.py (387)] - \t\tvalue: 0.1527842458791451\n",
            "2021-12-15 22:30:31,234 [INFO] [run.py (388)] - \t\tprior.a: 0.5\n",
            "2021-12-15 22:30:31,237 [INFO] [run.py (389)] - \t\tprior.b: 2.772588722239781\n",
            "2021-12-15 22:30:31,245 [INFO] [inference.py (591)] - Setting Single Write, Multiple Read Mode\n",
            "2021-12-15 22:30:31,250 [INFO] [inference.py (596)] - Setting the trace of learned parameters\n",
            "2021-12-15 22:30:31,251 [INFO] [inference.py (597)] - #######################################\n",
            "2021-12-15 22:30:31,252 [INFO] [inference.py (599)] - Setting the trace of Cluster interaction indicator parameter\n",
            "2021-12-15 22:30:31,256 [INFO] [inference.py (599)] - Setting the trace of Cluster interaction probability\n",
            "2021-12-15 22:30:31,262 [INFO] [inference.py (599)] - Setting the trace of Perturbation indicator parameter\n",
            "2021-12-15 22:30:31,268 [INFO] [inference.py (599)] - Setting the trace of Probability parameter for the beta prior of the perturbation indicator parameter\n",
            "2021-12-15 22:30:31,274 [INFO] [inference.py (599)] - Setting the trace of Logistic growth parameters (growth, self-interactions, interactions/perturbations)\n",
            "2021-12-15 22:30:31,293 [INFO] [inference.py (599)] - Setting the trace of Mean parameter for the normal prior of the interaction parameter\n",
            "2021-12-15 22:30:31,302 [INFO] [inference.py (599)] - Setting the trace of Mean parameter for the normal prior of the perturbation parameter\n",
            "2021-12-15 22:30:31,308 [INFO] [inference.py (599)] - Setting the trace of Mean parameter for the truncated normal prior of the growth parameter\n",
            "2021-12-15 22:30:31,315 [INFO] [inference.py (599)] - Setting the trace of Mean parameter for the truncated normal prior of the self-interaction parameter\n",
            "2021-12-15 22:30:31,318 [INFO] [inference.py (599)] - Setting the trace of Variance parameter for the normal prior of the interaction parameter\n",
            "2021-12-15 22:30:31,321 [INFO] [inference.py (599)] - Setting the trace of Variance parameter for the normal prior of the perturbation parameter\n",
            "2021-12-15 22:30:31,327 [INFO] [inference.py (599)] - Setting the trace of Process Variance parameter\n",
            "2021-12-15 22:30:31,336 [INFO] [inference.py (599)] - Setting the trace of Filtering\n",
            "2021-12-15 22:30:31,357 [INFO] [inference.py (599)] - Setting the trace of Clustering parameter\n",
            "2021-12-15 22:30:31,367 [INFO] [inference.py (599)] - Setting the trace of Clustering concentration parameter\n",
            "2021-12-15 22:30:31,375 [INFO] [inference.py (601)] - Setting the trace for diagnostic variables\n",
            "2021-12-15 22:30:31,377 [INFO] [inference.py (602)] - ##########################################\n"
          ]
        }
      ],
      "execution_count": 28,
      "metadata": {
        "id": "JgiUlBZEgD8G",
        "outputId": "7c56249c-1148-49f3-afe7-1066f6cb5c3f",
        "colab": {
          "base_uri": "https://localhost:8080/"
        }
      }
    },
    {
      "cell_type": "markdown",
      "source": [
        "### Perform inference"
      ],
      "metadata": {
        "id": "hHqnWZiTBjzt"
      }
    },
    {
      "cell_type": "code",
      "source": [
        "mcmc_uc0 = md2.run_graph(mcmc_uc0, crash_if_error=True)"
      ],
      "outputs": [
        {
          "output_type": "stream",
          "name": "stdout",
          "text": [
            "100%|██████████| 100/100 [01:07<00:00,  1.48it/s]\n",
            "2021-12-15 22:31:41,408 [INFO] [inference.py (510)] - Inference total time: 0.6780181789398193/Gibb step\n",
            "2021-12-15 22:31:41,410 [INFO] [inference.py (514)] - remove local traces\n",
            "2021-12-15 22:31:41,459 [INFO] [run.py (545)] - Denormalizing the parameters\n"
          ]
        }
      ],
      "execution_count": 29,
      "metadata": {
        "id": "6fW3P6UigD8H",
        "outputId": "cdcd5f2a-67cd-4d0f-840a-7bc8a0a719c7",
        "colab": {
          "base_uri": "https://localhost:8080/"
        }
      }
    },
    {
      "cell_type": "markdown",
      "source": [
        "### Visualize posteriors"
      ],
      "metadata": {
        "id": "X3bkvf1r2e4N"
      }
    },
    {
      "cell_type": "markdown",
      "source": [
        "#### growth rates"
      ],
      "metadata": {
        "id": "3dEpAnNl2nnP"
      }
    },
    {
      "cell_type": "code",
      "source": [
        "growth = mcmc_uc0.graph[STRNAMES.GROWTH_VALUE]\n",
        "growth_rates_trace = growth.get_trace_from_disk(section='entire')\n",
        "\n",
        "growth_rates_mean = md2.summary(growth)['mean']\n",
        "print('Mean growth rates for taxa over posterior', growth_rates_mean)\n",
        "\n",
        "# visualize trace for the first taxa\n",
        "md2.visualization.render_trace(growth_rates_trace[:,0], n_burnin=50, **{'title': 'OTU_1 Growth rate'})\n",
        "plt.show()"
      ],
      "outputs": [
        {
          "output_type": "stream",
          "name": "stdout",
          "text": [
            "Mean growth rates for taxa over posterior [0.70182608 0.42527662 0.66947014 0.14852835 0.58609608 0.68488235\n",
            " 0.40004264 0.48001883 0.17211125 0.19082563 0.5226722  0.22349709\n",
            " 1.02113932 1.00788873 0.39988464]\n"
          ]
        },
        {
          "output_type": "display_data",
          "data": {
            "image/png": "[encoded data removed]",
            "text/plain": "<Figure size 432x288 with 2 Axes>"
          },
          "metadata": {
            "needs_background": "light"
          }
        }
      ],
      "execution_count": 112,
      "metadata": {
        "id": "D9ZOmo3vgD8H",
        "outputId": "a22a4bb8-75e1-45e2-ef7c-33205b607bc7",
        "colab": {
          "base_uri": "https://localhost:8080/",
          "height": 333
        }
      }
    },
    {
      "cell_type": "markdown",
      "source": [
        "#### Process variance"
      ],
      "metadata": {
        "id": "qzlreknB4Rex"
      }
    },
    {
      "cell_type": "code",
      "source": [
        "processvar = mcmc_uc0.graph[STRNAMES.PROCESSVAR]\n",
        "pv_rates_trace = processvar.get_trace_from_disk(section='entire')\n",
        "\n",
        "md2.visualization.render_trace(pv_rates_trace, n_burnin=50, **{'title': 'process variance'})\n",
        "plt.show()"
      ],
      "outputs": [
        {
          "output_type": "display_data",
          "data": {
            "image/png": "[encoded data removed]",
            "text/plain": "<Figure size 432x288 with 2 Axes>"
          },
          "metadata": {
            "needs_background": "light"
          }
        }
      ],
      "execution_count": 114,
      "metadata": {
        "colab": {
          "base_uri": "https://localhost:8080/",
          "height": 281
        },
        "id": "mDr1CbIw2YzS",
        "outputId": "18b12cbb-ac5b-48cc-9a3e-8e6e94056307"
      }
    },
    {
      "cell_type": "markdown",
      "source": [
        "#### taxa module assigments"
      ],
      "metadata": {
        "id": "DObkq-rF9sNk"
      }
    },
    {
      "cell_type": "code",
      "source": [
        "clustering = mcmc_uc0.graph[STRNAMES.CLUSTERING_OBJ]\n",
        "md2.generate_cluster_assignments_posthoc(clustering, set_as_value=True)\n",
        "taxa = mcmc_uc0.graph.data.taxa\n",
        "\n",
        "# Visualize co-cluster posterior probability\n",
        "coclusters = md2.summary(mcmc_uc0.graph[STRNAMES.CLUSTERING_OBJ].coclusters)['mean']\n",
        "md2.visualization.render_cocluster_probabilities(coclusters, taxa=uc_toy.taxa,\n",
        "    yticklabels='%(paperformat)s | %(index)s', order=order)\n",
        "\n",
        "# Visualize trace for number of modules\n",
        "md2.visualization.render_trace(clustering.n_clusters)\n",
        "plt.show()"
      ],
      "outputs": [
        {
          "output_type": "stream",
          "name": "stdout",
          "text": [
            "2021-12-16 02:00:45,092 [INFO] [util.py (173)] - Number of clusters: 2\n",
            "2021-12-16 02:00:45,100 [INFO] [util.py (179)] - Clusters assigned: [0 0 0 0 0 1 0 0 0 0 0 0 1 1 0]\n"
          ]
        },
        {
          "output_type": "display_data",
          "data": {
            "image/png": "[encoded data removed]",
            "text/plain": "<Figure size 720x720 with 2 Axes>"
          },
          "metadata": {
            "needs_background": "light"
          }
        },
        {
          "output_type": "display_data",
          "data": {
            "image/png": "[encoded data removed]",
            "text/plain": "<Figure size 432x288 with 2 Axes>"
          },
          "metadata": {
            "needs_background": "light"
          }
        }
      ],
      "execution_count": 110,
      "metadata": {
        "colab": {
          "base_uri": "https://localhost:8080/",
          "height": 883
        },
        "id": "eJEEWXlX2Yn0",
        "outputId": "92c2829e-6af1-4361-e82e-3da8a8ec4d75"
      }
    },
    {
      "cell_type": "markdown",
      "source": [
        "All model parameters have traces and can be visualized in a similar fashion. All `STRNAMES` can be found here https://github.com/gerberlab/MDSINE2/blob/master/mdsine2/names.py\n"
      ],
      "metadata": {
        "id": "a9uiKdGG-vt0"
      }
    },
    {
      "cell_type": "markdown",
      "source": [
        "# Run inference on the full model again, but with a different seed (seed=1)"
      ],
      "metadata": {
        "id": "haDYjCRXgD8H"
      }
    },
    {
      "cell_type": "code",
      "source": [
        "uc1_basepath = output_dir / 'mdsine2' / 'uc1'\n",
        "uc1_basepath.mkdir(exist_ok=True)\n",
        "\n",
        "params = md2.config.MDSINE2ModelConfig(\n",
        "    basepath=uc1_basepath, \n",
        "    seed=1, \n",
        "    burnin=50, \n",
        "    n_samples=100, \n",
        "    negbin_a0=a0, negbin_a1=a1, \n",
        "    checkpoint=50)\n",
        "params.INITIALIZATION_KWARGS[STRNAMES.CLUSTERING]['value_option'] = 'no-clusters'\n",
        "mcmc_uc1 = md2.initialize_graph(params=params, graph_name=uc_toy.name, subjset=uc_toy)\n",
        "mcmc_uc1 = md2.run_graph(mcmc_uc1, crash_if_error=True)\n"
      ],
      "outputs": [
        {
          "output_type": "stream",
          "name": "stdout",
          "text": [
            "2021-12-16 02:03:17,573 [INFO] [base.py (2777)] - max_value found: 1797837340792.1643, scaling_factor: 5.5622384590108656e-11\n",
            "2021-12-16 02:03:17,602 [INFO] [run.py (87)] - Normalizing abundances for a max value of 100. Normalization constant: 5.5622E-11\n",
            "2021-12-16 02:03:17,644 [INFO] [run.py (254)] - There are 372 qPCR measurements for 3 buckets. Each bucket is 124 measurements long\n",
            "2021-12-16 02:03:17,654 [INFO] [run.py (289)] - Initializing Filtering\n",
            "2021-12-16 02:03:17,657 [INFO] [posterior.py (2658)] - Setting up the essential timepoints\n",
            "2021-12-16 02:03:17,661 [INFO] [posterior.py (2671)] - Essential timepoints: [ 1.   1.5  2.   2.5  3.   3.5  4.   4.5  5.   6.   7.   8.   9.  10.\n",
            " 11.  14.  16.  18.  21.  21.5 22.  22.5 23.  23.5 24.  25.  28.  28.5\n",
            " 29.  29.5 30.  30.5 31.  31.5 32.  33.  35.  35.5 36.  36.5 37.  37.5\n",
            " 38.  39.  42.  42.5 43.  43.5 44.  44.5 45.  45.5 46.  47.  50.  50.5\n",
            " 51.  51.5 52.  52.5 53.  54.  57.  57.5 58.  58.5 59.  59.5 60.  60.5\n",
            " 61.  62.  63.  64.  64.5]\n",
            "2021-12-16 02:03:18,319 [INFO] [run.py (289)] - Initializing Zero inflation\n",
            "2021-12-16 02:03:18,322 [INFO] [design_matrices.py (851)] - Initializing LHS vector\n",
            "2021-12-16 02:03:18,327 [INFO] [design_matrices.py (1006)] - Initializing growth design matrix\n",
            "2021-12-16 02:03:18,331 [INFO] [design_matrices.py (932)] - Initializing self-interactions design matrix\n",
            "2021-12-16 02:03:18,335 [INFO] [run.py (289)] - Initializing Clustering concentration parameter\n",
            "2021-12-16 02:03:18,337 [INFO] [posterior.py (878)] - Cluster Concentration initialization results:\n",
            "\tprior shape: 1e-05\n",
            "\tprior scale: 100000.0\n",
            "\tvalue: 1.0\n",
            "2021-12-16 02:03:18,340 [INFO] [run.py (289)] - Initializing Clustering parameter\n",
            "2021-12-16 02:03:18,343 [INFO] [posterior.py (1235)] - Cluster Assingments initialization results:\n",
            "Clustering object (contains ability to change the cluster assignments), n_clusters: 15\n",
            "Cluster 100115\n",
            "\tmembers: ['OTU_1']\n",
            "\tsize: 1\n",
            "Cluster 100116\n",
            "\tmembers: ['OTU_2']\n",
            "\tsize: 1\n",
            "Cluster 100117\n",
            "\tmembers: ['OTU_3']\n",
            "\tsize: 1\n",
            "Cluster 100118\n",
            "\tmembers: ['OTU_4']\n",
            "\tsize: 1\n",
            "Cluster 100119\n",
            "\tmembers: ['OTU_5']\n",
            "\tsize: 1\n",
            "Cluster 100120\n",
            "\tmembers: ['OTU_6']\n",
            "\tsize: 1\n",
            "Cluster 100121\n",
            "\tmembers: ['OTU_7']\n",
            "\tsize: 1\n",
            "Cluster 100122\n",
            "\tmembers: ['OTU_8']\n",
            "\tsize: 1\n",
            "Cluster 100123\n",
            "\tmembers: ['OTU_9']\n",
            "\tsize: 1\n",
            "Cluster 100124\n",
            "\tmembers: ['OTU_10']\n",
            "\tsize: 1\n",
            "Cluster 100125\n",
            "\tmembers: ['OTU_12']\n",
            "\tsize: 1\n",
            "Cluster 100126\n",
            "\tmembers: ['OTU_13']\n",
            "\tsize: 1\n",
            "Cluster 100127\n",
            "\tmembers: ['OTU_16']\n",
            "\tsize: 1\n",
            "Cluster 100128\n",
            "\tmembers: ['OTU_17']\n",
            "\tsize: 1\n",
            "Cluster 100129\n",
            "\tmembers: ['OTU_18']\n",
            "\tsize: 1\n",
            "2021-12-16 02:03:18,346 [INFO] [run.py (289)] - Initializing Process Variance parameter\n",
            "2021-12-16 02:03:18,348 [INFO] [run.py (289)] - Initializing Mean parameter for the truncated normal prior of the growth parameter\n",
            "2021-12-16 02:03:18,357 [INFO] [run.py (289)] - Initializing Variance parameter for the truncated normal prior of the growth parameter\n",
            "2021-12-16 02:03:18,364 [INFO] [run.py (289)] - Initializing Growth parameter\n",
            "2021-12-16 02:03:18,370 [INFO] [posterior.py (6020)] - Growth value initialization: [0.10937296 0.53507287 0.87455003 0.38035116 0.79304176 0.50134921\n",
            " 0.31941868 0.79066979 0.57353259 0.49120609 0.23663541 0.66907265\n",
            " 1.78585994 0.94713669 0.26608305]\n",
            "2021-12-16 02:03:18,373 [INFO] [posterior.py (6021)] - Growth prior mean: 1\n",
            "2021-12-16 02:03:18,375 [INFO] [posterior.py (6022)] - Growth truncation settings: (0.0, inf)\n",
            "2021-12-16 02:03:18,377 [INFO] [run.py (289)] - Initializing Mean parameter for the truncated normal prior of the self-interaction parameter\n",
            "2021-12-16 02:03:18,393 [INFO] [run.py (289)] - Initializing Variance parameter for the truncated normal prior of the self-interaction parameter\n",
            "2021-12-16 02:03:18,403 [INFO] [run.py (289)] - Initializing Self interaction parameter\n",
            "2021-12-16 02:03:18,417 [INFO] [posterior.py (6423)] - Self-interactions value initialization: [7.19763225e-02 2.24413609e-01 2.47063151e-01 3.43886807e+00\n",
            " 1.13911335e+00 7.20603191e-01 8.19433851e-01 1.29620544e+00\n",
            " 1.20519455e+02 2.26534237e+02 9.11610446e-01 1.27672940e+02\n",
            " 7.48751601e+00 3.54982202e+00 2.00285159e+00]\n",
            "2021-12-16 02:03:18,423 [INFO] [posterior.py (6424)] - Self-interactions truncation settings: (0, inf)\n",
            "2021-12-16 02:03:18,429 [INFO] [run.py (289)] - Initializing Mean parameter for the normal prior of the interaction parameter\n",
            "2021-12-16 02:03:18,436 [INFO] [run.py (289)] - Initializing Variance parameter for the normal prior of the interaction parameter\n",
            "2021-12-16 02:03:18,437 [INFO] [posterior.py (3860)] - Prior Variance Interactions initialization results:\n",
            "\tprior dof: 2.01\n",
            "\tprior scale: 83.58947957232525\n",
            "\tvalue: 16801.485394037732\n",
            "2021-12-16 02:03:18,442 [INFO] [run.py (289)] - Initializing Cluster interaction value parameter\n",
            "2021-12-16 02:03:18,448 [INFO] [run.py (289)] - Initializing Cluster interaction indicator parameter\n",
            "2021-12-16 02:03:18,468 [INFO] [design_matrices.py (1455)] - Initializing interactions base design matrix\n",
            "2021-12-16 02:03:18,476 [INFO] [design_matrices.py (1584)] - Initialized interactions mixing design matrix\n",
            "2021-12-16 02:03:18,478 [INFO] [design_matrices.py (1925)] - Initializing interactions matrix\n",
            "2021-12-16 02:03:18,486 [INFO] [run.py (289)] - Initializing Cluster interaction probability\n",
            "2021-12-16 02:03:18,488 [INFO] [posterior.py (4128)] - Indicator Probability initialization results:\n",
            "\tprior a: 0.5\n",
            "\tprior b: 4.9146595004514415\n",
            "\tvalue: 0.09234190994988938\n",
            "2021-12-16 02:03:18,493 [INFO] [run.py (289)] - Initializing Mean parameter for the normal prior of the perturbation parameter\n",
            "2021-12-16 02:03:18,496 [INFO] [run.py (289)] - Initializing Variance parameter for the normal prior of the perturbation parameter\n",
            "2021-12-16 02:03:18,497 [INFO] [posterior.py (8293)] - Prior Variance Interactions initialization results:\n",
            "\tprior dof: 2.5\n",
            "\tprior scale: 2000.0\n",
            "\tvalue: 10000.0\n",
            "2021-12-16 02:03:18,502 [INFO] [posterior.py (8293)] - Prior Variance Interactions initialization results:\n",
            "\tprior dof: 2.5\n",
            "\tprior scale: 2000.0\n",
            "\tvalue: 10000.0\n",
            "2021-12-16 02:03:18,503 [INFO] [posterior.py (8293)] - Prior Variance Interactions initialization results:\n",
            "\tprior dof: 2.5\n",
            "\tprior scale: 2000.0\n",
            "\tvalue: 10000.0\n",
            "2021-12-16 02:03:18,506 [INFO] [run.py (289)] - Initializing Perturbation indicator parameter\n",
            "2021-12-16 02:03:18,508 [INFO] [posterior.py (7585)] - Perturbation indicator initialization results:\n",
            "\tPerturbation 0:\n",
            "\t\tindicator: [False False False False False False False False False False False False\n",
            " False False False]\n",
            "\tPerturbation 1:\n",
            "\t\tindicator: [False False False False False False False False False False False False\n",
            " False False False]\n",
            "\tPerturbation 2:\n",
            "\t\tindicator: [False False False False False False False False False False False False\n",
            " False False False]\n",
            "\n",
            "2021-12-16 02:03:18,511 [INFO] [run.py (289)] - Initializing Perturbation value parameter\n",
            "2021-12-16 02:03:18,515 [INFO] [posterior.py (7099)] - Perturbation magnitude initialization results:\n",
            "\tPerturbation High Fat Diet:\n",
            "\t\tvalue: [0. 0. 0. 0. 0. 0. 0. 0. 0. 0. 0. 0. 0. 0. 0.]\n",
            "\tPerturbation Vancomycin:\n",
            "\t\tvalue: [0. 0. 0. 0. 0. 0. 0. 0. 0. 0. 0. 0. 0. 0. 0.]\n",
            "\tPerturbation Gentamicin:\n",
            "\t\tvalue: [0. 0. 0. 0. 0. 0. 0. 0. 0. 0. 0. 0. 0. 0. 0.]\n",
            "\n",
            "2021-12-16 02:03:18,518 [INFO] [run.py (289)] - Initializing Probability parameter for the beta prior of the perturbation indicator parameter\n",
            "2021-12-16 02:03:18,520 [INFO] [posterior.py (7418)] - Perturbation indicator probability initialization results:\n",
            "\tPerturbation 0:\n",
            "\t\tprior a: 0.5\n",
            "\t\tprior b: 2.772588722239781\n",
            "\t\tvalue: 0.1527842458791451\n",
            "\tPerturbation 1:\n",
            "\t\tprior a: 0.5\n",
            "\t\tprior b: 2.772588722239781\n",
            "\t\tvalue: 0.1527842458791451\n",
            "\tPerturbation 2:\n",
            "\t\tprior a: 0.5\n",
            "\t\tprior b: 2.772588722239781\n",
            "\t\tvalue: 0.1527842458791451\n",
            "\n",
            "2021-12-16 02:03:18,521 [INFO] [run.py (289)] - Initializing Logistic growth parameters (growth, self-interactions, interactions/perturbations)\n",
            "2021-12-16 02:03:18,522 [INFO] [run.py (289)] - Initializing qPCR hyperprior scales\n",
            "2021-12-16 02:03:18,529 [INFO] [run.py (289)] - Initializing qPCR hyperprior degrees of freedom\n",
            "2021-12-16 02:03:18,547 [INFO] [run.py (289)] - Initializing qPCR variances\n",
            "2021-12-16 02:03:18,579 [INFO] [run.py (327)] - \n",
            "\n",
            "\n",
            "\n",
            "2021-12-16 02:03:18,581 [INFO] [run.py (328)] - Initialization Values:\n",
            "2021-12-16 02:03:18,582 [INFO] [run.py (329)] - Growth\n",
            "2021-12-16 02:03:18,583 [INFO] [run.py (330)] - \tprior.loc: 1\n",
            "2021-12-16 02:03:18,590 [INFO] [run.py (331)] - \tprior.scale2: 2863.0297206807327\n",
            "2021-12-16 02:03:18,592 [INFO] [run.py (332)] - \tvalue: [0.10937296 0.53507287 0.87455003 0.38035116 0.79304176 0.50134921\n",
            " 0.31941868 0.79066979 0.57353259 0.49120609 0.23663541 0.66907265\n",
            " 1.78585994 0.94713669 0.26608305]\n",
            "2021-12-16 02:03:18,593 [INFO] [run.py (334)] - Self-Interactions\n",
            "2021-12-16 02:03:18,595 [INFO] [run.py (335)] - \tprior.loc: 1.2962054387340656\n",
            "2021-12-16 02:03:18,596 [INFO] [run.py (336)] - \tprior.scale2: 16801.485394037732\n",
            "2021-12-16 02:03:18,598 [INFO] [run.py (337)] - \tvalue: [7.19763225e-02 2.24413609e-01 2.47063151e-01 3.43886807e+00\n",
            " 1.13911335e+00 7.20603191e-01 8.19433851e-01 1.29620544e+00\n",
            " 1.20519455e+02 2.26534237e+02 9.11610446e-01 1.27672940e+02\n",
            " 7.48751601e+00 3.54982202e+00 2.00285159e+00]\n",
            "2021-12-16 02:03:18,599 [INFO] [run.py (339)] - Prior Variance Growth\n",
            "2021-12-16 02:03:18,601 [INFO] [run.py (340)] - \tprior.dof: 2.5\n",
            "2021-12-16 02:03:18,602 [INFO] [run.py (341)] - \tprior.scale: 572.6059441361465\n",
            "2021-12-16 02:03:18,603 [INFO] [run.py (342)] - \tvalue: 2863.0297206807327\n",
            "2021-12-16 02:03:18,605 [INFO] [run.py (344)] - Prior Variance Self-Interactions\n",
            "2021-12-16 02:03:18,606 [INFO] [run.py (345)] - \tprior.dof: 2.5\n",
            "2021-12-16 02:03:18,607 [INFO] [run.py (346)] - \tprior.scale: 3360.2970788075463\n",
            "2021-12-16 02:03:18,608 [INFO] [run.py (347)] - \tvalue: 16801.485394037732\n",
            "2021-12-16 02:03:18,610 [INFO] [run.py (349)] - Prior Variance Interactions\n",
            "2021-12-16 02:03:18,611 [INFO] [run.py (350)] - \tprior.dof: 2.01\n",
            "2021-12-16 02:03:18,612 [INFO] [run.py (351)] - \tprior.scale: 83.58947957232525\n",
            "2021-12-16 02:03:18,613 [INFO] [run.py (352)] - \tvalue: 16801.485394037732\n",
            "2021-12-16 02:03:18,614 [INFO] [run.py (354)] - Process Variance\n",
            "2021-12-16 02:03:18,616 [INFO] [run.py (355)] - \tprior.dof: 2.5\n",
            "2021-12-16 02:03:18,617 [INFO] [run.py (356)] - \tprior.scale: 0.008000000000000002\n",
            "2021-12-16 02:03:18,618 [INFO] [run.py (357)] - \tprior mean: 0.04000000000000001\n",
            "2021-12-16 02:03:18,620 [INFO] [run.py (359)] - Concentration\n",
            "2021-12-16 02:03:18,621 [INFO] [run.py (360)] - \tprior.shape: 1e-05\n",
            "2021-12-16 02:03:18,622 [INFO] [run.py (361)] - \tprior.scale: 100000.0\n",
            "2021-12-16 02:03:18,623 [INFO] [run.py (362)] - \tvalue: 1.0\n",
            "2021-12-16 02:03:18,624 [INFO] [run.py (364)] - Indicator probability\n",
            "2021-12-16 02:03:18,626 [INFO] [run.py (365)] - \tprior.a: 0.5\n",
            "2021-12-16 02:03:18,627 [INFO] [run.py (366)] - \tprior.b: 4.9146595004514415\n",
            "2021-12-16 02:03:18,628 [INFO] [run.py (367)] - \tvalue: 0.09234190994988938\n",
            "2021-12-16 02:03:18,629 [INFO] [run.py (370)] - Perturbation values:\n",
            "2021-12-16 02:03:18,631 [INFO] [run.py (372)] - \tperturbation High Fat Diet\n",
            "2021-12-16 02:03:18,632 [INFO] [run.py (373)] - \t\tvalue: {100115: 0, 100116: 0, 100117: 0, 100118: 0, 100119: 0, 100120: 0, 100121: 0, 100122: 0, 100123: 0, 100124: 0, 100125: 0, 100126: 0, 100127: 0, 100128: 0, 100129: 0}\n",
            "2021-12-16 02:03:18,633 [INFO] [run.py (374)] - \t\tprior.loc: 0\n",
            "2021-12-16 02:03:18,634 [INFO] [run.py (372)] - \tperturbation Vancomycin\n",
            "2021-12-16 02:03:18,635 [INFO] [run.py (373)] - \t\tvalue: {100115: 0, 100116: 0, 100117: 0, 100118: 0, 100119: 0, 100120: 0, 100121: 0, 100122: 0, 100123: 0, 100124: 0, 100125: 0, 100126: 0, 100127: 0, 100128: 0, 100129: 0}\n",
            "2021-12-16 02:03:18,637 [INFO] [run.py (374)] - \t\tprior.loc: 0\n",
            "2021-12-16 02:03:18,638 [INFO] [run.py (372)] - \tperturbation Gentamicin\n",
            "2021-12-16 02:03:18,639 [INFO] [run.py (373)] - \t\tvalue: {100115: 0, 100116: 0, 100117: 0, 100118: 0, 100119: 0, 100120: 0, 100121: 0, 100122: 0, 100123: 0, 100124: 0, 100125: 0, 100126: 0, 100127: 0, 100128: 0, 100129: 0}\n",
            "2021-12-16 02:03:18,641 [INFO] [run.py (374)] - \t\tprior.loc: 0\n",
            "2021-12-16 02:03:18,642 [INFO] [run.py (375)] - Perturbation prior variances:\n",
            "2021-12-16 02:03:18,643 [INFO] [run.py (377)] - \t\tdof: 2.5\n",
            "2021-12-16 02:03:18,644 [INFO] [run.py (378)] - \t\tscale: 2000.0\n",
            "2021-12-16 02:03:18,646 [INFO] [run.py (379)] - \t\tvalue: 10000.0\n",
            "2021-12-16 02:03:18,647 [INFO] [run.py (377)] - \t\tdof: 2.5\n",
            "2021-12-16 02:03:18,648 [INFO] [run.py (378)] - \t\tscale: 2000.0\n",
            "2021-12-16 02:03:18,649 [INFO] [run.py (379)] - \t\tvalue: 10000.0\n",
            "2021-12-16 02:03:18,651 [INFO] [run.py (377)] - \t\tdof: 2.5\n",
            "2021-12-16 02:03:18,652 [INFO] [run.py (378)] - \t\tscale: 2000.0\n",
            "2021-12-16 02:03:18,653 [INFO] [run.py (379)] - \t\tvalue: 10000.0\n",
            "2021-12-16 02:03:18,654 [INFO] [run.py (380)] - Perturbation indicators:\n",
            "2021-12-16 02:03:18,656 [INFO] [run.py (383)] - \tperturbation High Fat Diet: [False False False False False False False False False False False False\n",
            " False False False]\n",
            "2021-12-16 02:03:18,657 [INFO] [run.py (383)] - \tperturbation Vancomycin: [False False False False False False False False False False False False\n",
            " False False False]\n",
            "2021-12-16 02:03:18,659 [INFO] [run.py (383)] - \tperturbation Gentamicin: [False False False False False False False False False False False False\n",
            " False False False]\n",
            "2021-12-16 02:03:18,660 [INFO] [run.py (384)] - Perturbation indicator probability:\n",
            "2021-12-16 02:03:18,661 [INFO] [run.py (386)] - \tperturbation High Fat Diet\n",
            "2021-12-16 02:03:18,662 [INFO] [run.py (387)] - \t\tvalue: 0.1527842458791451\n",
            "2021-12-16 02:03:18,663 [INFO] [run.py (388)] - \t\tprior.a: 0.5\n",
            "2021-12-16 02:03:18,665 [INFO] [run.py (389)] - \t\tprior.b: 2.772588722239781\n",
            "2021-12-16 02:03:18,666 [INFO] [run.py (386)] - \tperturbation Vancomycin\n",
            "2021-12-16 02:03:18,667 [INFO] [run.py (387)] - \t\tvalue: 0.1527842458791451\n",
            "2021-12-16 02:03:18,668 [INFO] [run.py (388)] - \t\tprior.a: 0.5\n",
            "2021-12-16 02:03:18,669 [INFO] [run.py (389)] - \t\tprior.b: 2.772588722239781\n",
            "2021-12-16 02:03:18,671 [INFO] [run.py (386)] - \tperturbation Gentamicin\n",
            "2021-12-16 02:03:18,672 [INFO] [run.py (387)] - \t\tvalue: 0.1527842458791451\n",
            "2021-12-16 02:03:18,673 [INFO] [run.py (388)] - \t\tprior.a: 0.5\n",
            "2021-12-16 02:03:18,674 [INFO] [run.py (389)] - \t\tprior.b: 2.772588722239781\n",
            "2021-12-16 02:03:18,682 [INFO] [inference.py (591)] - Setting Single Write, Multiple Read Mode\n",
            "2021-12-16 02:03:18,684 [INFO] [inference.py (596)] - Setting the trace of learned parameters\n",
            "2021-12-16 02:03:18,686 [INFO] [inference.py (597)] - #######################################\n",
            "2021-12-16 02:03:18,688 [INFO] [inference.py (599)] - Setting the trace of Cluster interaction indicator parameter\n",
            "2021-12-16 02:03:18,692 [INFO] [inference.py (599)] - Setting the trace of Cluster interaction probability\n",
            "2021-12-16 02:03:18,695 [INFO] [inference.py (599)] - Setting the trace of Perturbation indicator parameter\n",
            "2021-12-16 02:03:18,697 [INFO] [inference.py (599)] - Setting the trace of Probability parameter for the beta prior of the perturbation indicator parameter\n",
            "2021-12-16 02:03:18,710 [INFO] [inference.py (599)] - Setting the trace of Logistic growth parameters (growth, self-interactions, interactions/perturbations)\n",
            "2021-12-16 02:03:18,735 [INFO] [inference.py (599)] - Setting the trace of Mean parameter for the normal prior of the interaction parameter\n",
            "2021-12-16 02:03:18,744 [INFO] [inference.py (599)] - Setting the trace of Mean parameter for the normal prior of the perturbation parameter\n",
            "2021-12-16 02:03:18,751 [INFO] [inference.py (599)] - Setting the trace of Mean parameter for the truncated normal prior of the growth parameter\n",
            "2021-12-16 02:03:18,760 [INFO] [inference.py (599)] - Setting the trace of Mean parameter for the truncated normal prior of the self-interaction parameter\n",
            "2021-12-16 02:03:18,768 [INFO] [inference.py (599)] - Setting the trace of Variance parameter for the normal prior of the interaction parameter\n",
            "2021-12-16 02:03:18,776 [INFO] [inference.py (599)] - Setting the trace of Variance parameter for the normal prior of the perturbation parameter\n",
            "2021-12-16 02:03:18,789 [INFO] [inference.py (599)] - Setting the trace of Process Variance parameter\n",
            "2021-12-16 02:03:18,798 [INFO] [inference.py (599)] - Setting the trace of Filtering\n",
            "2021-12-16 02:03:18,829 [INFO] [inference.py (599)] - Setting the trace of Clustering parameter\n",
            "2021-12-16 02:03:18,837 [INFO] [inference.py (599)] - Setting the trace of Clustering concentration parameter\n",
            "2021-12-16 02:03:18,843 [INFO] [inference.py (601)] - Setting the trace for diagnostic variables\n",
            "2021-12-16 02:03:18,847 [INFO] [inference.py (602)] - ##########################################\n",
            "100%|██████████| 100/100 [01:09<00:00,  1.43it/s]\n",
            "2021-12-16 02:04:28,805 [INFO] [inference.py (510)] - Inference total time: 0.6995579433441163/Gibb step\n",
            "2021-12-16 02:04:28,809 [INFO] [inference.py (514)] - remove local traces\n",
            "2021-12-16 02:04:28,853 [INFO] [run.py (545)] - Denormalizing the parameters\n"
          ]
        }
      ],
      "execution_count": 116,
      "metadata": {
        "id": "FKm2qJx8gD8I",
        "outputId": "28802b19-f081-43ff-e405-56c0cca5786e",
        "colab": {
          "base_uri": "https://localhost:8080/"
        }
      }
    },
    {
      "cell_type": "code",
      "source": [
        "# growth rate\n",
        "growth = mcmc_uc1.graph[STRNAMES.GROWTH_VALUE]\n",
        "growth_rates_trace = growth.get_trace_from_disk(section='entire')\n",
        "\n",
        "growth_rates_mean = md2.summary(growth)['mean']\n",
        "print('Mean growth rates for taxa over posterior', growth_rates_mean)\n",
        "\n",
        "# visualize trace for the first taxa\n",
        "md2.visualization.render_trace(growth_rates_trace[:,0], n_burnin=50, **{'title': 'OTU_1 Growth rate'})\n",
        "\n",
        "#process var\n",
        "processvar = mcmc_uc1.graph[STRNAMES.PROCESSVAR]\n",
        "pv_rates_trace = processvar.get_trace_from_disk(section='entire')\n",
        "\n",
        "md2.visualization.render_trace(pv_rates_trace, n_burnin=50, **{'title': 'process variance'})\n",
        "\n",
        "# module assignments\n",
        "\n",
        "clustering = mcmc_uc1.graph[STRNAMES.CLUSTERING_OBJ]\n",
        "md2.generate_cluster_assignments_posthoc(clustering, set_as_value=True)\n",
        "taxa = mcmc_uc0.graph.data.taxa\n",
        "\n",
        "# Visualize co-cluster posterior probability\n",
        "coclusters = md2.summary(mcmc_uc1.graph[STRNAMES.CLUSTERING_OBJ].coclusters)['mean']\n",
        "md2.visualization.render_cocluster_probabilities(coclusters, taxa=uc_toy.taxa,\n",
        "    yticklabels='%(paperformat)s | %(index)s', order=order)\n",
        "\n",
        "# Visualize trace for number of modules\n",
        "md2.visualization.render_trace(clustering.n_clusters)\n",
        "\n",
        "plt.show()\n"
      ],
      "outputs": [
        {
          "output_type": "stream",
          "name": "stdout",
          "text": [
            "Mean growth rates for taxa over posterior [0.63223404 0.52088593 0.6489859  0.26341507 0.56218366 0.66907369\n",
            " 0.57298975 0.4731844  0.21922015 0.21572884 0.52540263 0.27600863\n",
            " 1.13457336 0.98020719 0.61079102]\n",
            "2021-12-16 02:04:29,398 [INFO] [util.py (173)] - Number of clusters: 3\n",
            "2021-12-16 02:04:29,403 [INFO] [util.py (179)] - Clusters assigned: [0 0 0 0 0 1 1 0 2 0 2 0 1 1 1]\n"
          ]
        },
        {
          "output_type": "display_data",
          "data": {
            "image/png": "[encoded data removed]",
            "text/plain": "<Figure size 432x288 with 2 Axes>"
          },
          "metadata": {
            "needs_background": "light"
          }
        },
        {
          "output_type": "display_data",
          "data": {
            "image/png": "[encoded data removed]",
            "text/plain": "<Figure size 432x288 with 2 Axes>"
          },
          "metadata": {
            "needs_background": "light"
          }
        },
        {
          "output_type": "display_data",
          "data": {
            "image/png": "[encoded data removed]",
            "text/plain": "<Figure size 720x720 with 2 Axes>"
          },
          "metadata": {
            "needs_background": "light"
          }
        },
        {
          "output_type": "display_data",
          "data": {
            "image/png": "[encoded data removed]",
            "text/plain": "<Figure size 432x288 with 2 Axes>"
          },
          "metadata": {
            "needs_background": "light"
          }
        }
      ],
      "execution_count": 117,
      "metadata": {
        "id": "hUWTHT0dgD8I",
        "outputId": "af23250e-5f67-4302-fdc4-50d51f5f91a0",
        "colab": {
          "base_uri": "https://localhost:8080/",
          "height": 1000
        }
      }
    },
    {
      "cell_type": "markdown",
      "source": [
        "# Compute $\\hat r$ statistic on model parameters to assess mixing"
      ],
      "metadata": {
        "id": "K53n8l-0ybjI"
      }
    },
    {
      "cell_type": "code",
      "source": [
        "chains = [mcmc_uc0, mcmc_uc1]\n",
        "start = 10\n",
        "end = 20\n",
        "vname = STRNAMES.GROWTH_VALUE\n",
        "\n",
        "rhat = md2.pylab.inference.r_hat(chains, start=start, end=end, vname=vname)\n",
        "print('Growth parameter r-hat:', rhat)\n",
        "\n",
        "vname = STRNAMES.CONCENTRATION\n",
        "rhat = md2.pylab.inference.r_hat(chains, start=start, end=end, vname=vname)\n",
        "print('Concentration parameter r-hat:', rhat)\n",
        "\n",
        "vname = STRNAMES.PROCESSVAR\n",
        "rhat = md2.pylab.inference.r_hat(chains, start=start, end=end, vname=vname)\n",
        "print('Process variance parameter r-hat:', rhat)\n"
      ],
      "outputs": [
        {
          "output_type": "stream",
          "name": "stdout",
          "text": [
            "Growth parameter r-hat: [2.03354699 2.27293867 1.6792325  1.71052518 1.64383609 1.76505317\n",
            " 1.65660989 1.64882678 1.65598663 1.66534829 2.28150285 1.66107476\n",
            " 1.72406894 1.73453694 1.72608957]\n",
            "Concentration parameter r-hat: [1.61910602]\n",
            "Process variance parameter r-hat: [4.32587727]\n"
          ]
        }
      ],
      "execution_count": null,
      "metadata": {
        "id": "Lq2wLJxLgD8I",
        "outputId": "e0184427-01a2-45ff-e319-1e04e691798a",
        "colab": {
          "base_uri": "https://localhost:8080/"
        }
      }
    },
    {
      "cell_type": "markdown",
      "source": [
        "These are not good $\\hat r$ values, but we only have 50 posterior samples. For the paper the posterior is 10,000 Gibbs steps"
      ],
      "metadata": {
        "id": "CHXqjY-xyiIn"
      }
    },
    {
      "cell_type": "markdown",
      "source": [
        "# Consensus clustering\n",
        "Run the model with module assignments fixed (to their most likely module assignment learned from the previous step)"
      ],
      "metadata": {
        "id": "9mc9ObLxgD8I"
      }
    },
    {
      "cell_type": "code",
      "source": [
        "basepath = output_dir / 'mdsine2-fixed-cluster'\n",
        "basepath.mkdir(exist_ok=True)\n",
        "\n",
        "# Use the clustering from a previous as the clustering assignment\n",
        "params = md2.config.MDSINE2ModelConfig(\n",
        "    basepath=basepath, seed=0, burnin=50, n_samples=100, \n",
        "    negbin_a0=a0, negbin_a1=a1, checkpoint=50)\n",
        "\n",
        "# Do not learn the clustering parameters\n",
        "params.LEARN[STRNAMES.CLUSTERING] = False\n",
        "params.LEARN[STRNAMES.CONCENTRATION] = False\n",
        "\n",
        "# Set the initialization option for clustering\n",
        "params.INITIALIZATION_KWARGS[STRNAMES.CLUSTERING]['value_option'] = 'fixed-clustering'\n",
        "params.INITIALIZATION_KWARGS[STRNAMES.CLUSTERING]['value'] = str(uc1_basepath / \"mcmc.pkl\")\n",
        "\n",
        "mcmc = md2.initialize_graph(params=params, graph_name=uc_toy.name, subjset=uc_toy)\n",
        "mcmc = md2.run_graph(mcmc, crash_if_error=True)"
      ],
      "outputs": [
        {
          "output_type": "stream",
          "name": "stdout",
          "text": [
            "2021-12-16 02:06:14,701 [INFO] [base.py (2777)] - max_value found: 1797837340792.1643, scaling_factor: 5.5622384590108656e-11\n",
            "2021-12-16 02:06:14,730 [INFO] [run.py (87)] - Normalizing abundances for a max value of 100. Normalization constant: 5.5622E-11\n",
            "2021-12-16 02:06:14,770 [INFO] [run.py (254)] - There are 372 qPCR measurements for 3 buckets. Each bucket is 124 measurements long\n",
            "2021-12-16 02:06:14,780 [INFO] [run.py (289)] - Initializing Filtering\n",
            "2021-12-16 02:06:14,782 [INFO] [posterior.py (2658)] - Setting up the essential timepoints\n",
            "2021-12-16 02:06:14,787 [INFO] [posterior.py (2671)] - Essential timepoints: [ 1.   1.5  2.   2.5  3.   3.5  4.   4.5  5.   6.   7.   8.   9.  10.\n",
            " 11.  14.  16.  18.  21.  21.5 22.  22.5 23.  23.5 24.  25.  28.  28.5\n",
            " 29.  29.5 30.  30.5 31.  31.5 32.  33.  35.  35.5 36.  36.5 37.  37.5\n",
            " 38.  39.  42.  42.5 43.  43.5 44.  44.5 45.  45.5 46.  47.  50.  50.5\n",
            " 51.  51.5 52.  52.5 53.  54.  57.  57.5 58.  58.5 59.  59.5 60.  60.5\n",
            " 61.  62.  63.  64.  64.5]\n",
            "2021-12-16 02:06:15,416 [INFO] [run.py (289)] - Initializing Zero inflation\n",
            "2021-12-16 02:06:15,418 [INFO] [design_matrices.py (851)] - Initializing LHS vector\n",
            "2021-12-16 02:06:15,422 [INFO] [design_matrices.py (1006)] - Initializing growth design matrix\n",
            "2021-12-16 02:06:15,426 [INFO] [design_matrices.py (932)] - Initializing self-interactions design matrix\n",
            "2021-12-16 02:06:15,430 [INFO] [run.py (289)] - Initializing Clustering concentration parameter\n",
            "2021-12-16 02:06:15,433 [INFO] [posterior.py (878)] - Cluster Concentration initialization results:\n",
            "\tprior shape: 1e-05\n",
            "\tprior scale: 100000.0\n",
            "\tvalue: 1.0\n",
            "2021-12-16 02:06:15,435 [INFO] [run.py (289)] - Initializing Clustering parameter\n",
            "2021-12-16 02:06:15,437 [INFO] [posterior.py (1104)] - Fixed topology initialization\n",
            "2021-12-16 02:06:15,524 [INFO] [util.py (173)] - Number of clusters: 3\n",
            "2021-12-16 02:06:15,527 [INFO] [util.py (179)] - Clusters assigned: [0 0 0 0 0 1 1 0 2 0 2 0 1 1 1]\n",
            "2021-12-16 02:06:15,531 [INFO] [posterior.py (1126)] - Clustering set to:\n",
            "Clustering object (contains ability to change the cluster assignments), n_clusters: 3\n",
            "Cluster 100490\n",
            "\tmembers: ['OTU_1', 'OTU_2', 'OTU_3', 'OTU_4', 'OTU_5', 'OTU_8', 'OTU_10', 'OTU_13']\n",
            "\tsize: 8\n",
            "Cluster 100491\n",
            "\tmembers: ['OTU_6', 'OTU_7', 'OTU_16', 'OTU_17', 'OTU_18']\n",
            "\tsize: 5\n",
            "Cluster 100492\n",
            "\tmembers: ['OTU_9', 'OTU_12']\n",
            "\tsize: 2\n",
            "2021-12-16 02:06:15,535 [INFO] [posterior.py (1235)] - Cluster Assingments initialization results:\n",
            "Clustering object (contains ability to change the cluster assignments), n_clusters: 3\n",
            "Cluster 100115\n",
            "\tmembers: ['OTU_1', 'OTU_2', 'OTU_3', 'OTU_4', 'OTU_5', 'OTU_8', 'OTU_10', 'OTU_13']\n",
            "\tsize: 8\n",
            "Cluster 100116\n",
            "\tmembers: ['OTU_6', 'OTU_7', 'OTU_16', 'OTU_17', 'OTU_18']\n",
            "\tsize: 5\n",
            "Cluster 100117\n",
            "\tmembers: ['OTU_9', 'OTU_12']\n",
            "\tsize: 2\n",
            "2021-12-16 02:06:15,537 [INFO] [run.py (289)] - Initializing Process Variance parameter\n",
            "2021-12-16 02:06:15,539 [INFO] [run.py (289)] - Initializing Mean parameter for the truncated normal prior of the growth parameter\n",
            "2021-12-16 02:06:15,556 [INFO] [run.py (289)] - Initializing Variance parameter for the truncated normal prior of the growth parameter\n",
            "2021-12-16 02:06:15,569 [INFO] [run.py (289)] - Initializing Growth parameter\n",
            "2021-12-16 02:06:15,579 [INFO] [posterior.py (6020)] - Growth value initialization: [0.10964791 0.56202435 0.93984141 0.3618403  0.75880289 0.44916415\n",
            " 0.30278078 0.72258538 0.64226612 0.34511696 0.23619727 0.72422836\n",
            " 1.74801305 0.93771595 0.24703424]\n",
            "2021-12-16 02:06:15,580 [INFO] [posterior.py (6021)] - Growth prior mean: 1\n",
            "2021-12-16 02:06:15,582 [INFO] [posterior.py (6022)] - Growth truncation settings: (0.0, inf)\n",
            "2021-12-16 02:06:15,584 [INFO] [run.py (289)] - Initializing Mean parameter for the truncated normal prior of the self-interaction parameter\n",
            "2021-12-16 02:06:15,604 [INFO] [run.py (289)] - Initializing Variance parameter for the truncated normal prior of the self-interaction parameter\n",
            "2021-12-16 02:06:15,614 [INFO] [run.py (289)] - Initializing Self interaction parameter\n",
            "2021-12-16 02:06:15,629 [INFO] [posterior.py (6423)] - Self-interactions value initialization: [7.20027987e-02 2.35208688e-01 2.62896147e-01 3.39807087e+00\n",
            " 1.09772700e+00 6.76419192e-01 7.78850955e-01 1.18684890e+00\n",
            " 1.30095169e+02 1.75951287e+02 9.11004716e-01 1.32674030e+02\n",
            " 7.33154010e+00 3.53664657e+00 1.88587399e+00]\n",
            "2021-12-16 02:06:15,637 [INFO] [posterior.py (6424)] - Self-interactions truncation settings: (0, inf)\n",
            "2021-12-16 02:06:15,643 [INFO] [run.py (289)] - Initializing Mean parameter for the normal prior of the interaction parameter\n",
            "2021-12-16 02:06:15,650 [INFO] [run.py (289)] - Initializing Variance parameter for the normal prior of the interaction parameter\n",
            "2021-12-16 02:06:15,656 [INFO] [posterior.py (3860)] - Prior Variance Interactions initialization results:\n",
            "\tprior dof: 2.01\n",
            "\tprior scale: 70.08011540898367\n",
            "\tvalue: 14086.103197206017\n",
            "2021-12-16 02:06:15,660 [INFO] [run.py (289)] - Initializing Cluster interaction value parameter\n",
            "2021-12-16 02:06:15,665 [INFO] [run.py (289)] - Initializing Cluster interaction indicator parameter\n",
            "2021-12-16 02:06:15,685 [INFO] [design_matrices.py (1455)] - Initializing interactions base design matrix\n",
            "2021-12-16 02:06:15,693 [INFO] [design_matrices.py (1584)] - Initialized interactions mixing design matrix\n",
            "2021-12-16 02:06:15,695 [INFO] [design_matrices.py (1925)] - Initializing interactions matrix\n",
            "2021-12-16 02:06:15,700 [INFO] [run.py (289)] - Initializing Cluster interaction probability\n",
            "2021-12-16 02:06:15,704 [INFO] [posterior.py (4128)] - Indicator Probability initialization results:\n",
            "\tprior a: 0.5\n",
            "\tprior b: 4.9146595004514415\n",
            "\tvalue: 0.09234190994988938\n",
            "2021-12-16 02:06:15,709 [INFO] [run.py (289)] - Initializing Mean parameter for the normal prior of the perturbation parameter\n",
            "2021-12-16 02:06:15,713 [INFO] [run.py (289)] - Initializing Variance parameter for the normal prior of the perturbation parameter\n",
            "2021-12-16 02:06:15,728 [INFO] [posterior.py (8293)] - Prior Variance Interactions initialization results:\n",
            "\tprior dof: 2.5\n",
            "\tprior scale: 2000.0\n",
            "\tvalue: 10000.0\n",
            "2021-12-16 02:06:15,730 [INFO] [posterior.py (8293)] - Prior Variance Interactions initialization results:\n",
            "\tprior dof: 2.5\n",
            "\tprior scale: 2000.0\n",
            "\tvalue: 10000.0\n",
            "2021-12-16 02:06:15,734 [INFO] [posterior.py (8293)] - Prior Variance Interactions initialization results:\n",
            "\tprior dof: 2.5\n",
            "\tprior scale: 2000.0\n",
            "\tvalue: 10000.0\n",
            "2021-12-16 02:06:15,736 [INFO] [run.py (289)] - Initializing Perturbation indicator parameter\n",
            "2021-12-16 02:06:15,744 [INFO] [posterior.py (7585)] - Perturbation indicator initialization results:\n",
            "\tPerturbation 0:\n",
            "\t\tindicator: [False False False]\n",
            "\tPerturbation 1:\n",
            "\t\tindicator: [False False False]\n",
            "\tPerturbation 2:\n",
            "\t\tindicator: [False False False]\n",
            "\n",
            "2021-12-16 02:06:15,747 [INFO] [run.py (289)] - Initializing Perturbation value parameter\n",
            "2021-12-16 02:06:15,752 [INFO] [posterior.py (7099)] - Perturbation magnitude initialization results:\n",
            "\tPerturbation High Fat Diet:\n",
            "\t\tvalue: [0. 0. 0.]\n",
            "\tPerturbation Vancomycin:\n",
            "\t\tvalue: [0. 0. 0.]\n",
            "\tPerturbation Gentamicin:\n",
            "\t\tvalue: [0. 0. 0.]\n",
            "\n",
            "2021-12-16 02:06:15,763 [INFO] [run.py (289)] - Initializing Probability parameter for the beta prior of the perturbation indicator parameter\n",
            "2021-12-16 02:06:15,764 [INFO] [posterior.py (7418)] - Perturbation indicator probability initialization results:\n",
            "\tPerturbation 0:\n",
            "\t\tprior a: 0.5\n",
            "\t\tprior b: 2.772588722239781\n",
            "\t\tvalue: 0.1527842458791451\n",
            "\tPerturbation 1:\n",
            "\t\tprior a: 0.5\n",
            "\t\tprior b: 2.772588722239781\n",
            "\t\tvalue: 0.1527842458791451\n",
            "\tPerturbation 2:\n",
            "\t\tprior a: 0.5\n",
            "\t\tprior b: 2.772588722239781\n",
            "\t\tvalue: 0.1527842458791451\n",
            "\n",
            "2021-12-16 02:06:15,766 [INFO] [run.py (289)] - Initializing Logistic growth parameters (growth, self-interactions, interactions/perturbations)\n",
            "2021-12-16 02:06:15,770 [INFO] [run.py (289)] - Initializing qPCR hyperprior scales\n",
            "2021-12-16 02:06:15,785 [INFO] [run.py (289)] - Initializing qPCR hyperprior degrees of freedom\n",
            "2021-12-16 02:06:15,793 [INFO] [run.py (289)] - Initializing qPCR variances\n",
            "2021-12-16 02:06:15,804 [INFO] [run.py (327)] - \n",
            "\n",
            "\n",
            "\n",
            "2021-12-16 02:06:15,806 [INFO] [run.py (328)] - Initialization Values:\n",
            "2021-12-16 02:06:15,808 [INFO] [run.py (329)] - Growth\n",
            "2021-12-16 02:06:15,809 [INFO] [run.py (330)] - \tprior.loc: 1\n",
            "2021-12-16 02:06:15,811 [INFO] [run.py (331)] - \tprior.scale2: 3158.7136638120637\n",
            "2021-12-16 02:06:15,813 [INFO] [run.py (332)] - \tvalue: [0.10964791 0.56202435 0.93984141 0.3618403  0.75880289 0.44916415\n",
            " 0.30278078 0.72258538 0.64226612 0.34511696 0.23619727 0.72422836\n",
            " 1.74801305 0.93771595 0.24703424]\n",
            "2021-12-16 02:06:15,815 [INFO] [run.py (334)] - Self-Interactions\n",
            "2021-12-16 02:06:15,816 [INFO] [run.py (335)] - \tprior.loc: 1.1868489034921847\n",
            "2021-12-16 02:06:15,818 [INFO] [run.py (336)] - \tprior.scale2: 14086.103197206015\n",
            "2021-12-16 02:06:15,820 [INFO] [run.py (337)] - \tvalue: [7.20027987e-02 2.35208688e-01 2.62896147e-01 3.39807087e+00\n",
            " 1.09772700e+00 6.76419192e-01 7.78850955e-01 1.18684890e+00\n",
            " 1.30095169e+02 1.75951287e+02 9.11004716e-01 1.32674030e+02\n",
            " 7.33154010e+00 3.53664657e+00 1.88587399e+00]\n",
            "2021-12-16 02:06:15,821 [INFO] [run.py (339)] - Prior Variance Growth\n",
            "2021-12-16 02:06:15,823 [INFO] [run.py (340)] - \tprior.dof: 2.5\n",
            "2021-12-16 02:06:15,826 [INFO] [run.py (341)] - \tprior.scale: 631.7427327624127\n",
            "2021-12-16 02:06:15,827 [INFO] [run.py (342)] - \tvalue: 3158.7136638120637\n",
            "2021-12-16 02:06:15,829 [INFO] [run.py (344)] - Prior Variance Self-Interactions\n",
            "2021-12-16 02:06:15,830 [INFO] [run.py (345)] - \tprior.dof: 2.5\n",
            "2021-12-16 02:06:15,831 [INFO] [run.py (346)] - \tprior.scale: 2817.2206394412033\n",
            "2021-12-16 02:06:15,834 [INFO] [run.py (347)] - \tvalue: 14086.103197206015\n",
            "2021-12-16 02:06:15,836 [INFO] [run.py (349)] - Prior Variance Interactions\n",
            "2021-12-16 02:06:15,837 [INFO] [run.py (350)] - \tprior.dof: 2.01\n",
            "2021-12-16 02:06:15,842 [INFO] [run.py (351)] - \tprior.scale: 70.08011540898367\n",
            "2021-12-16 02:06:15,844 [INFO] [run.py (352)] - \tvalue: 14086.103197206017\n",
            "2021-12-16 02:06:15,846 [INFO] [run.py (354)] - Process Variance\n",
            "2021-12-16 02:06:15,847 [INFO] [run.py (355)] - \tprior.dof: 2.5\n",
            "2021-12-16 02:06:15,850 [INFO] [run.py (356)] - \tprior.scale: 0.008000000000000002\n",
            "2021-12-16 02:06:15,856 [INFO] [run.py (357)] - \tprior mean: 0.04000000000000001\n",
            "2021-12-16 02:06:15,860 [INFO] [run.py (359)] - Concentration\n",
            "2021-12-16 02:06:15,862 [INFO] [run.py (360)] - \tprior.shape: 1e-05\n",
            "2021-12-16 02:06:15,863 [INFO] [run.py (361)] - \tprior.scale: 100000.0\n",
            "2021-12-16 02:06:15,865 [INFO] [run.py (362)] - \tvalue: 1.0\n",
            "2021-12-16 02:06:15,866 [INFO] [run.py (364)] - Indicator probability\n",
            "2021-12-16 02:06:15,868 [INFO] [run.py (365)] - \tprior.a: 0.5\n",
            "2021-12-16 02:06:15,869 [INFO] [run.py (366)] - \tprior.b: 4.9146595004514415\n",
            "2021-12-16 02:06:15,871 [INFO] [run.py (367)] - \tvalue: 0.09234190994988938\n",
            "2021-12-16 02:06:15,873 [INFO] [run.py (370)] - Perturbation values:\n",
            "2021-12-16 02:06:15,874 [INFO] [run.py (372)] - \tperturbation High Fat Diet\n",
            "2021-12-16 02:06:15,876 [INFO] [run.py (373)] - \t\tvalue: {100115: 0, 100116: 0, 100117: 0}\n",
            "2021-12-16 02:06:15,877 [INFO] [run.py (374)] - \t\tprior.loc: 0\n",
            "2021-12-16 02:06:15,879 [INFO] [run.py (372)] - \tperturbation Vancomycin\n",
            "2021-12-16 02:06:15,881 [INFO] [run.py (373)] - \t\tvalue: {100115: 0, 100116: 0, 100117: 0}\n",
            "2021-12-16 02:06:15,882 [INFO] [run.py (374)] - \t\tprior.loc: 0\n",
            "2021-12-16 02:06:15,884 [INFO] [run.py (372)] - \tperturbation Gentamicin\n",
            "2021-12-16 02:06:15,885 [INFO] [run.py (373)] - \t\tvalue: {100115: 0, 100116: 0, 100117: 0}\n",
            "2021-12-16 02:06:15,887 [INFO] [run.py (374)] - \t\tprior.loc: 0\n",
            "2021-12-16 02:06:15,888 [INFO] [run.py (375)] - Perturbation prior variances:\n",
            "2021-12-16 02:06:15,890 [INFO] [run.py (377)] - \t\tdof: 2.5\n",
            "2021-12-16 02:06:15,891 [INFO] [run.py (378)] - \t\tscale: 2000.0\n",
            "2021-12-16 02:06:15,892 [INFO] [run.py (379)] - \t\tvalue: 10000.0\n",
            "2021-12-16 02:06:15,894 [INFO] [run.py (377)] - \t\tdof: 2.5\n",
            "2021-12-16 02:06:15,895 [INFO] [run.py (378)] - \t\tscale: 2000.0\n",
            "2021-12-16 02:06:15,897 [INFO] [run.py (379)] - \t\tvalue: 10000.0\n",
            "2021-12-16 02:06:15,899 [INFO] [run.py (377)] - \t\tdof: 2.5\n",
            "2021-12-16 02:06:15,903 [INFO] [run.py (378)] - \t\tscale: 2000.0\n",
            "2021-12-16 02:06:15,905 [INFO] [run.py (379)] - \t\tvalue: 10000.0\n",
            "2021-12-16 02:06:15,907 [INFO] [run.py (380)] - Perturbation indicators:\n",
            "2021-12-16 02:06:15,912 [INFO] [run.py (383)] - \tperturbation High Fat Diet: [False False False]\n",
            "2021-12-16 02:06:15,914 [INFO] [run.py (383)] - \tperturbation Vancomycin: [False False False]\n",
            "2021-12-16 02:06:15,915 [INFO] [run.py (383)] - \tperturbation Gentamicin: [False False False]\n",
            "2021-12-16 02:06:15,917 [INFO] [run.py (384)] - Perturbation indicator probability:\n",
            "2021-12-16 02:06:15,918 [INFO] [run.py (386)] - \tperturbation High Fat Diet\n",
            "2021-12-16 02:06:15,923 [INFO] [run.py (387)] - \t\tvalue: 0.1527842458791451\n",
            "2021-12-16 02:06:15,924 [INFO] [run.py (388)] - \t\tprior.a: 0.5\n",
            "2021-12-16 02:06:15,926 [INFO] [run.py (389)] - \t\tprior.b: 2.772588722239781\n",
            "2021-12-16 02:06:15,927 [INFO] [run.py (386)] - \tperturbation Vancomycin\n",
            "2021-12-16 02:06:15,928 [INFO] [run.py (387)] - \t\tvalue: 0.1527842458791451\n",
            "2021-12-16 02:06:15,930 [INFO] [run.py (388)] - \t\tprior.a: 0.5\n",
            "2021-12-16 02:06:15,934 [INFO] [run.py (389)] - \t\tprior.b: 2.772588722239781\n",
            "2021-12-16 02:06:15,935 [INFO] [run.py (386)] - \tperturbation Gentamicin\n",
            "2021-12-16 02:06:15,937 [INFO] [run.py (387)] - \t\tvalue: 0.1527842458791451\n",
            "2021-12-16 02:06:15,939 [INFO] [run.py (388)] - \t\tprior.a: 0.5\n",
            "2021-12-16 02:06:15,941 [INFO] [run.py (389)] - \t\tprior.b: 2.772588722239781\n",
            "2021-12-16 02:06:15,946 [INFO] [inference.py (591)] - Setting Single Write, Multiple Read Mode\n",
            "2021-12-16 02:06:15,951 [INFO] [inference.py (596)] - Setting the trace of learned parameters\n",
            "2021-12-16 02:06:15,957 [INFO] [inference.py (597)] - #######################################\n",
            "2021-12-16 02:06:15,958 [INFO] [inference.py (599)] - Setting the trace of Cluster interaction indicator parameter\n",
            "2021-12-16 02:06:15,962 [INFO] [inference.py (599)] - Setting the trace of Cluster interaction probability\n",
            "2021-12-16 02:06:15,968 [INFO] [inference.py (599)] - Setting the trace of Perturbation indicator parameter\n",
            "2021-12-16 02:06:15,970 [INFO] [inference.py (599)] - Setting the trace of Probability parameter for the beta prior of the perturbation indicator parameter\n",
            "2021-12-16 02:06:15,978 [INFO] [inference.py (599)] - Setting the trace of Logistic growth parameters (growth, self-interactions, interactions/perturbations)\n",
            "2021-12-16 02:06:16,003 [INFO] [inference.py (599)] - Setting the trace of Mean parameter for the normal prior of the interaction parameter\n",
            "2021-12-16 02:06:16,008 [INFO] [inference.py (599)] - Setting the trace of Mean parameter for the normal prior of the perturbation parameter\n",
            "2021-12-16 02:06:16,029 [INFO] [inference.py (599)] - Setting the trace of Mean parameter for the truncated normal prior of the growth parameter\n",
            "2021-12-16 02:06:16,033 [INFO] [inference.py (599)] - Setting the trace of Mean parameter for the truncated normal prior of the self-interaction parameter\n",
            "2021-12-16 02:06:16,038 [INFO] [inference.py (599)] - Setting the trace of Variance parameter for the normal prior of the interaction parameter\n",
            "2021-12-16 02:06:16,052 [INFO] [inference.py (599)] - Setting the trace of Variance parameter for the normal prior of the perturbation parameter\n",
            "2021-12-16 02:06:16,070 [INFO] [inference.py (599)] - Setting the trace of Process Variance parameter\n",
            "2021-12-16 02:06:16,073 [INFO] [inference.py (599)] - Setting the trace of Filtering\n",
            "2021-12-16 02:06:16,110 [INFO] [inference.py (601)] - Setting the trace for diagnostic variables\n",
            "2021-12-16 02:06:16,112 [INFO] [inference.py (602)] - ##########################################\n",
            "100%|██████████| 100/100 [01:03<00:00,  1.59it/s]\n",
            "2021-12-16 02:07:19,160 [INFO] [inference.py (510)] - Inference total time: 0.6304580783843994/Gibb step\n",
            "2021-12-16 02:07:19,162 [INFO] [inference.py (514)] - remove local traces\n",
            "2021-12-16 02:07:19,206 [INFO] [run.py (545)] - Denormalizing the parameters\n"
          ]
        }
      ],
      "execution_count": 118,
      "metadata": {
        "id": "mU7NncNagD8J",
        "outputId": "825caa6a-188d-40de-a9aa-34a29f0a18ae",
        "colab": {
          "base_uri": "https://localhost:8080/"
        }
      }
    },
    {
      "cell_type": "code",
      "source": [
        "# Plot bayes factors for module-module interactions\n",
        "clustering = mcmc.graph[STRNAMES.CLUSTERING_OBJ]\n",
        "bf_taxa = md2.generate_interation_bayes_factors_posthoc(mcmc)\n",
        "bf_clustering = md2.condense_fixed_clustering_interaction_matrix(bf_taxa, clustering=clustering)\n",
        "\n",
        "labels = ['Cluster {} | {}'.format(i+1, i+1) for i in range(len(clustering))]\n",
        "md2.visualization.render_bayes_factors(bf_clustering, yticklabels=labels)\n",
        "plt.show()"
      ],
      "outputs": [
        {
          "output_type": "display_data",
          "data": {
            "image/png": "[encoded data removed]",
            "text/plain": "<Figure size 720x720 with 2 Axes>"
          },
          "metadata": {
            "needs_background": "light"
          }
        }
      ],
      "execution_count": 119,
      "metadata": {
        "id": "nmUB1-DrgD8J",
        "outputId": "eb283989-c614-4385-881d-487ddee4d2f8",
        "colab": {
          "base_uri": "https://localhost:8080/",
          "height": 574
        }
      }
    },
    {
      "cell_type": "markdown",
      "source": [
        "# Cross validation Example\n",
        "\n",
        "Take out a single subject, perform inference on the rest, and then forward simulate from initial condition of held out subject"
      ],
      "metadata": {
        "id": "L4DfsGADgD8J"
      }
    },
    {
      "cell_type": "code",
      "source": [
        "# Make the data and validation Study objects\n",
        "holdout_study = md2.dataset.parse(\n",
        "    name='uc-toy-dataset', \n",
        "    taxonomy=dataset_dir / 'uc-toy' / 'taxonomy.tsv', \n",
        "    reads=dataset_dir / 'uc-toy' / 'reads.tsv', \n",
        "    qpcr=dataset_dir / 'uc-toy' / 'qpcr.tsv', \n",
        "    perturbations=dataset_dir / 'uc-toy' / 'perturbations.tsv', \n",
        "    metadata=dataset_dir / 'uc-toy' / 'metadata.tsv'\n",
        ")\n",
        "\n",
        "#remove subject 8\n",
        "val = holdout_study.pop_subject('8')\n",
        "val.name += '-validate'\n",
        "\n",
        "print(holdout_study.name)\n",
        "for subj in holdout_study:\n",
        "    print(subj.name)\n",
        "for pert in holdout_study.perturbations:\n",
        "    print(pert)\n",
        "print()\n",
        "print(val.name)\n",
        "for subj in val:\n",
        "    print(subj.name)\n",
        "for pert in val.perturbations:\n",
        "    print(pert)\n"
      ],
      "outputs": [
        {
          "output_type": "stream",
          "name": "stdout",
          "text": [
            "2021-12-16 02:07:32,048 [INFO] [base.py (1286)] - TaxaSet parsng new taxonomy table. Resetting\n",
            "uc-toy-dataset\n",
            "10\n",
            "6\n",
            "7\n",
            "9\n",
            "Perturbation High Fat Diet:\n",
            "\tSubject 6: (21.5, 28.5)\n",
            "\tSubject 7: (21.5, 28.5)\n",
            "\tSubject 9: (21.5, 28.5)\n",
            "\tSubject 10: (21.5, 28.5)\n",
            "\n",
            "Perturbation Vancomycin:\n",
            "\tSubject 6: (35.5, 42.5)\n",
            "\tSubject 7: (35.5, 42.5)\n",
            "\tSubject 9: (35.5, 42.5)\n",
            "\tSubject 10: (35.5, 42.5)\n",
            "\n",
            "Perturbation Gentamicin:\n",
            "\tSubject 6: (50.5, 57.5)\n",
            "\tSubject 7: (50.5, 57.5)\n",
            "\tSubject 9: (50.5, 57.5)\n",
            "\tSubject 10: (50.5, 57.5)\n",
            "\n",
            "\n",
            "unnamed-study-validate\n",
            "8\n",
            "Perturbation High Fat Diet:\n",
            "\tSubject 8: (21.5, 28.5)\n",
            "\n",
            "Perturbation Vancomycin:\n",
            "\tSubject 8: (35.5, 42.5)\n",
            "\n",
            "Perturbation Gentamicin:\n",
            "\tSubject 8: (50.5, 57.5)\n",
            "\n"
          ]
        }
      ],
      "execution_count": 120,
      "metadata": {
        "id": "aJBo8sZzgD8J",
        "outputId": "dca43286-eb57-4fbd-eb03-a9d49159c111",
        "colab": {
          "base_uri": "https://localhost:8080/"
        }
      }
    },
    {
      "cell_type": "code",
      "source": [
        "cv_output_dir = output_dir / \"cv\"\n",
        "\n",
        "# Learn the model\n",
        "params = md2.config.MDSINE2ModelConfig(\n",
        "    basepath=cv_output_dir / holdout_study.name, \n",
        "    seed=0, \n",
        "    burnin=50, n_samples=100, \n",
        "    negbin_a0=a0, negbin_a1=a1, \n",
        "    checkpoint=50\n",
        ")\n",
        "params.INITIALIZATION_KWARGS[STRNAMES.CLUSTERING]['value_option'] = 'no-clusters'\n",
        "mcmc = md2.initialize_graph(params=params, graph_name=holdout_study.name, subjset=holdout_study)\n",
        "mcmc = md2.run_graph(mcmc, crash_if_error=True)"
      ],
      "outputs": [
        {
          "output_type": "stream",
          "name": "stdout",
          "text": [
            "2021-12-16 02:07:35,627 [INFO] [base.py (2777)] - max_value found: 1797837340792.1643, scaling_factor: 5.5622384590108656e-11\n",
            "2021-12-16 02:07:35,649 [INFO] [run.py (87)] - Normalizing abundances for a max value of 100. Normalization constant: 5.5622E-11\n",
            "2021-12-16 02:07:35,681 [INFO] [run.py (254)] - There are 297 qPCR measurements for 3 buckets. Each bucket is 99 measurements long\n",
            "2021-12-16 02:07:35,688 [INFO] [run.py (289)] - Initializing Filtering\n",
            "2021-12-16 02:07:35,690 [INFO] [posterior.py (2658)] - Setting up the essential timepoints\n",
            "2021-12-16 02:07:35,696 [INFO] [posterior.py (2671)] - Essential timepoints: [ 1.   1.5  2.   2.5  3.   3.5  4.   4.5  5.   6.   7.   8.   9.  10.\n",
            " 11.  14.  16.  18.  21.  21.5 22.  22.5 23.  23.5 24.  25.  28.  28.5\n",
            " 29.  29.5 30.  30.5 31.  31.5 32.  33.  35.  35.5 36.  36.5 37.  37.5\n",
            " 38.  39.  42.  42.5 43.  43.5 44.  44.5 45.  45.5 46.  47.  50.  50.5\n",
            " 51.  51.5 52.  52.5 53.  54.  57.  57.5 58.  58.5 59.  59.5 60.  60.5\n",
            " 61.  62.  63.  64.  64.5]\n",
            "2021-12-16 02:07:36,213 [INFO] [run.py (289)] - Initializing Zero inflation\n",
            "2021-12-16 02:07:36,217 [INFO] [design_matrices.py (851)] - Initializing LHS vector\n",
            "2021-12-16 02:07:36,221 [INFO] [design_matrices.py (1006)] - Initializing growth design matrix\n",
            "2021-12-16 02:07:36,226 [INFO] [design_matrices.py (932)] - Initializing self-interactions design matrix\n",
            "2021-12-16 02:07:36,229 [INFO] [run.py (289)] - Initializing Clustering concentration parameter\n",
            "2021-12-16 02:07:36,232 [INFO] [posterior.py (878)] - Cluster Concentration initialization results:\n",
            "\tprior shape: 1e-05\n",
            "\tprior scale: 100000.0\n",
            "\tvalue: 1.0\n",
            "2021-12-16 02:07:36,235 [INFO] [run.py (289)] - Initializing Clustering parameter\n",
            "2021-12-16 02:07:36,237 [INFO] [posterior.py (1235)] - Cluster Assingments initialization results:\n",
            "Clustering object (contains ability to change the cluster assignments), n_clusters: 15\n",
            "Cluster 100115\n",
            "\tmembers: ['OTU_1']\n",
            "\tsize: 1\n",
            "Cluster 100116\n",
            "\tmembers: ['OTU_2']\n",
            "\tsize: 1\n",
            "Cluster 100117\n",
            "\tmembers: ['OTU_3']\n",
            "\tsize: 1\n",
            "Cluster 100118\n",
            "\tmembers: ['OTU_4']\n",
            "\tsize: 1\n",
            "Cluster 100119\n",
            "\tmembers: ['OTU_5']\n",
            "\tsize: 1\n",
            "Cluster 100120\n",
            "\tmembers: ['OTU_6']\n",
            "\tsize: 1\n",
            "Cluster 100121\n",
            "\tmembers: ['OTU_7']\n",
            "\tsize: 1\n",
            "Cluster 100122\n",
            "\tmembers: ['OTU_8']\n",
            "\tsize: 1\n",
            "Cluster 100123\n",
            "\tmembers: ['OTU_9']\n",
            "\tsize: 1\n",
            "Cluster 100124\n",
            "\tmembers: ['OTU_10']\n",
            "\tsize: 1\n",
            "Cluster 100125\n",
            "\tmembers: ['OTU_12']\n",
            "\tsize: 1\n",
            "Cluster 100126\n",
            "\tmembers: ['OTU_13']\n",
            "\tsize: 1\n",
            "Cluster 100127\n",
            "\tmembers: ['OTU_16']\n",
            "\tsize: 1\n",
            "Cluster 100128\n",
            "\tmembers: ['OTU_17']\n",
            "\tsize: 1\n",
            "Cluster 100129\n",
            "\tmembers: ['OTU_18']\n",
            "\tsize: 1\n",
            "2021-12-16 02:07:36,241 [INFO] [run.py (289)] - Initializing Process Variance parameter\n",
            "2021-12-16 02:07:36,243 [INFO] [run.py (289)] - Initializing Mean parameter for the truncated normal prior of the growth parameter\n",
            "2021-12-16 02:07:36,257 [INFO] [run.py (289)] - Initializing Variance parameter for the truncated normal prior of the growth parameter\n",
            "2021-12-16 02:07:36,267 [INFO] [run.py (289)] - Initializing Growth parameter\n",
            "2021-12-16 02:07:36,277 [INFO] [posterior.py (6020)] - Growth value initialization: [0.14858644 0.54275655 0.87651013 0.42091904 0.671922   0.4360456\n",
            " 0.30698851 0.61620612 0.56042433 0.43937997 0.220384   0.76539027\n",
            " 1.82417245 1.05264282 0.33033393]\n",
            "2021-12-16 02:07:36,281 [INFO] [posterior.py (6021)] - Growth prior mean: 1\n",
            "2021-12-16 02:07:36,286 [INFO] [posterior.py (6022)] - Growth truncation settings: (0.0, inf)\n",
            "2021-12-16 02:07:36,289 [INFO] [run.py (289)] - Initializing Mean parameter for the truncated normal prior of the self-interaction parameter\n",
            "2021-12-16 02:07:36,301 [INFO] [run.py (289)] - Initializing Variance parameter for the truncated normal prior of the self-interaction parameter\n",
            "2021-12-16 02:07:36,309 [INFO] [run.py (289)] - Initializing Self interaction parameter\n",
            "2021-12-16 02:07:36,318 [INFO] [posterior.py (6423)] - Self-interactions value initialization: [8.22976511e-02 2.18111646e-01 2.41398615e-01 3.56181829e+00\n",
            " 9.22279460e-01 6.48683983e-01 7.62494038e-01 9.57457043e-01\n",
            " 1.11335902e+02 1.98778018e+02 8.44271670e-01 1.31432028e+02\n",
            " 7.23969532e+00 3.64444843e+00 2.33994196e+00]\n",
            "2021-12-16 02:07:36,320 [INFO] [posterior.py (6424)] - Self-interactions truncation settings: (0, inf)\n",
            "2021-12-16 02:07:36,323 [INFO] [run.py (289)] - Initializing Mean parameter for the normal prior of the interaction parameter\n",
            "2021-12-16 02:07:36,325 [INFO] [run.py (289)] - Initializing Variance parameter for the normal prior of the interaction parameter\n",
            "2021-12-16 02:07:36,331 [INFO] [posterior.py (3860)] - Prior Variance Interactions initialization results:\n",
            "\tprior dof: 2.01\n",
            "\tprior scale: 45.608158703784895\n",
            "\tvalue: 9167.23989946096\n",
            "2021-12-16 02:07:36,334 [INFO] [run.py (289)] - Initializing Cluster interaction value parameter\n",
            "2021-12-16 02:07:36,337 [INFO] [run.py (289)] - Initializing Cluster interaction indicator parameter\n",
            "2021-12-16 02:07:36,350 [INFO] [design_matrices.py (1455)] - Initializing interactions base design matrix\n",
            "2021-12-16 02:07:36,355 [INFO] [design_matrices.py (1584)] - Initialized interactions mixing design matrix\n",
            "2021-12-16 02:07:36,359 [INFO] [design_matrices.py (1925)] - Initializing interactions matrix\n",
            "2021-12-16 02:07:36,361 [INFO] [run.py (289)] - Initializing Cluster interaction probability\n",
            "2021-12-16 02:07:36,364 [INFO] [posterior.py (4128)] - Indicator Probability initialization results:\n",
            "\tprior a: 0.5\n",
            "\tprior b: 4.9146595004514415\n",
            "\tvalue: 0.09234190994988938\n",
            "2021-12-16 02:07:36,366 [INFO] [run.py (289)] - Initializing Mean parameter for the normal prior of the perturbation parameter\n",
            "2021-12-16 02:07:36,368 [INFO] [run.py (289)] - Initializing Variance parameter for the normal prior of the perturbation parameter\n",
            "2021-12-16 02:07:36,371 [INFO] [posterior.py (8293)] - Prior Variance Interactions initialization results:\n",
            "\tprior dof: 2.5\n",
            "\tprior scale: 2000.0\n",
            "\tvalue: 10000.0\n",
            "2021-12-16 02:07:36,372 [INFO] [posterior.py (8293)] - Prior Variance Interactions initialization results:\n",
            "\tprior dof: 2.5\n",
            "\tprior scale: 2000.0\n",
            "\tvalue: 10000.0\n",
            "2021-12-16 02:07:36,373 [INFO] [posterior.py (8293)] - Prior Variance Interactions initialization results:\n",
            "\tprior dof: 2.5\n",
            "\tprior scale: 2000.0\n",
            "\tvalue: 10000.0\n",
            "2021-12-16 02:07:36,375 [INFO] [run.py (289)] - Initializing Perturbation indicator parameter\n",
            "2021-12-16 02:07:36,378 [INFO] [posterior.py (7585)] - Perturbation indicator initialization results:\n",
            "\tPerturbation 0:\n",
            "\t\tindicator: [False False False False False False False False False False False False\n",
            " False False False]\n",
            "\tPerturbation 1:\n",
            "\t\tindicator: [False False False False False False False False False False False False\n",
            " False False False]\n",
            "\tPerturbation 2:\n",
            "\t\tindicator: [False False False False False False False False False False False False\n",
            " False False False]\n",
            "\n",
            "2021-12-16 02:07:36,382 [INFO] [run.py (289)] - Initializing Perturbation value parameter\n",
            "2021-12-16 02:07:36,385 [INFO] [posterior.py (7099)] - Perturbation magnitude initialization results:\n",
            "\tPerturbation High Fat Diet:\n",
            "\t\tvalue: [0. 0. 0. 0. 0. 0. 0. 0. 0. 0. 0. 0. 0. 0. 0.]\n",
            "\tPerturbation Vancomycin:\n",
            "\t\tvalue: [0. 0. 0. 0. 0. 0. 0. 0. 0. 0. 0. 0. 0. 0. 0.]\n",
            "\tPerturbation Gentamicin:\n",
            "\t\tvalue: [0. 0. 0. 0. 0. 0. 0. 0. 0. 0. 0. 0. 0. 0. 0.]\n",
            "\n",
            "2021-12-16 02:07:36,388 [INFO] [run.py (289)] - Initializing Probability parameter for the beta prior of the perturbation indicator parameter\n",
            "2021-12-16 02:07:36,389 [INFO] [posterior.py (7418)] - Perturbation indicator probability initialization results:\n",
            "\tPerturbation 0:\n",
            "\t\tprior a: 0.5\n",
            "\t\tprior b: 2.772588722239781\n",
            "\t\tvalue: 0.1527842458791451\n",
            "\tPerturbation 1:\n",
            "\t\tprior a: 0.5\n",
            "\t\tprior b: 2.772588722239781\n",
            "\t\tvalue: 0.1527842458791451\n",
            "\tPerturbation 2:\n",
            "\t\tprior a: 0.5\n",
            "\t\tprior b: 2.772588722239781\n",
            "\t\tvalue: 0.1527842458791451\n",
            "\n",
            "2021-12-16 02:07:36,391 [INFO] [run.py (289)] - Initializing Logistic growth parameters (growth, self-interactions, interactions/perturbations)\n",
            "2021-12-16 02:07:36,397 [INFO] [run.py (289)] - Initializing qPCR hyperprior scales\n",
            "2021-12-16 02:07:36,406 [INFO] [run.py (289)] - Initializing qPCR hyperprior degrees of freedom\n",
            "2021-12-16 02:07:36,422 [INFO] [run.py (289)] - Initializing qPCR variances\n",
            "2021-12-16 02:07:36,452 [INFO] [run.py (327)] - \n",
            "\n",
            "\n",
            "\n",
            "2021-12-16 02:07:36,455 [INFO] [run.py (328)] - Initialization Values:\n",
            "2021-12-16 02:07:36,457 [INFO] [run.py (329)] - Growth\n",
            "2021-12-16 02:07:36,460 [INFO] [run.py (330)] - \tprior.loc: 1\n",
            "2021-12-16 02:07:36,461 [INFO] [run.py (331)] - \tprior.scale2: 2945.846680988001\n",
            "2021-12-16 02:07:36,463 [INFO] [run.py (332)] - \tvalue: [0.14858644 0.54275655 0.87651013 0.42091904 0.671922   0.4360456\n",
            " 0.30698851 0.61620612 0.56042433 0.43937997 0.220384   0.76539027\n",
            " 1.82417245 1.05264282 0.33033393]\n",
            "2021-12-16 02:07:36,464 [INFO] [run.py (334)] - Self-Interactions\n",
            "2021-12-16 02:07:36,466 [INFO] [run.py (335)] - \tprior.loc: 0.9574570433946877\n",
            "2021-12-16 02:07:36,468 [INFO] [run.py (336)] - \tprior.scale2: 9167.23989946096\n",
            "2021-12-16 02:07:36,469 [INFO] [run.py (337)] - \tvalue: [8.22976511e-02 2.18111646e-01 2.41398615e-01 3.56181829e+00\n",
            " 9.22279460e-01 6.48683983e-01 7.62494038e-01 9.57457043e-01\n",
            " 1.11335902e+02 1.98778018e+02 8.44271670e-01 1.31432028e+02\n",
            " 7.23969532e+00 3.64444843e+00 2.33994196e+00]\n",
            "2021-12-16 02:07:36,471 [INFO] [run.py (339)] - Prior Variance Growth\n",
            "2021-12-16 02:07:36,472 [INFO] [run.py (340)] - \tprior.dof: 2.5\n",
            "2021-12-16 02:07:36,473 [INFO] [run.py (341)] - \tprior.scale: 589.1693361976002\n",
            "2021-12-16 02:07:36,475 [INFO] [run.py (342)] - \tvalue: 2945.846680988001\n",
            "2021-12-16 02:07:36,476 [INFO] [run.py (344)] - Prior Variance Self-Interactions\n",
            "2021-12-16 02:07:36,479 [INFO] [run.py (345)] - \tprior.dof: 2.5\n",
            "2021-12-16 02:07:36,480 [INFO] [run.py (346)] - \tprior.scale: 1833.4479798921918\n",
            "2021-12-16 02:07:36,482 [INFO] [run.py (347)] - \tvalue: 9167.23989946096\n",
            "2021-12-16 02:07:36,483 [INFO] [run.py (349)] - Prior Variance Interactions\n",
            "2021-12-16 02:07:36,485 [INFO] [run.py (350)] - \tprior.dof: 2.01\n",
            "2021-12-16 02:07:36,486 [INFO] [run.py (351)] - \tprior.scale: 45.608158703784895\n",
            "2021-12-16 02:07:36,487 [INFO] [run.py (352)] - \tvalue: 9167.23989946096\n",
            "2021-12-16 02:07:36,488 [INFO] [run.py (354)] - Process Variance\n",
            "2021-12-16 02:07:36,490 [INFO] [run.py (355)] - \tprior.dof: 2.5\n",
            "2021-12-16 02:07:36,491 [INFO] [run.py (356)] - \tprior.scale: 0.008000000000000002\n",
            "2021-12-16 02:07:36,492 [INFO] [run.py (357)] - \tprior mean: 0.04000000000000001\n",
            "2021-12-16 02:07:36,493 [INFO] [run.py (359)] - Concentration\n",
            "2021-12-16 02:07:36,495 [INFO] [run.py (360)] - \tprior.shape: 1e-05\n",
            "2021-12-16 02:07:36,496 [INFO] [run.py (361)] - \tprior.scale: 100000.0\n",
            "2021-12-16 02:07:36,497 [INFO] [run.py (362)] - \tvalue: 1.0\n",
            "2021-12-16 02:07:36,499 [INFO] [run.py (364)] - Indicator probability\n",
            "2021-12-16 02:07:36,500 [INFO] [run.py (365)] - \tprior.a: 0.5\n",
            "2021-12-16 02:07:36,501 [INFO] [run.py (366)] - \tprior.b: 4.9146595004514415\n",
            "2021-12-16 02:07:36,502 [INFO] [run.py (367)] - \tvalue: 0.09234190994988938\n",
            "2021-12-16 02:07:36,504 [INFO] [run.py (370)] - Perturbation values:\n",
            "2021-12-16 02:07:36,505 [INFO] [run.py (372)] - \tperturbation High Fat Diet\n",
            "2021-12-16 02:07:36,506 [INFO] [run.py (373)] - \t\tvalue: {100115: 0, 100116: 0, 100117: 0, 100118: 0, 100119: 0, 100120: 0, 100121: 0, 100122: 0, 100123: 0, 100124: 0, 100125: 0, 100126: 0, 100127: 0, 100128: 0, 100129: 0}\n",
            "2021-12-16 02:07:36,507 [INFO] [run.py (374)] - \t\tprior.loc: 0\n",
            "2021-12-16 02:07:36,508 [INFO] [run.py (372)] - \tperturbation Vancomycin\n",
            "2021-12-16 02:07:36,510 [INFO] [run.py (373)] - \t\tvalue: {100115: 0, 100116: 0, 100117: 0, 100118: 0, 100119: 0, 100120: 0, 100121: 0, 100122: 0, 100123: 0, 100124: 0, 100125: 0, 100126: 0, 100127: 0, 100128: 0, 100129: 0}\n",
            "2021-12-16 02:07:36,511 [INFO] [run.py (374)] - \t\tprior.loc: 0\n",
            "2021-12-16 02:07:36,512 [INFO] [run.py (372)] - \tperturbation Gentamicin\n",
            "2021-12-16 02:07:36,513 [INFO] [run.py (373)] - \t\tvalue: {100115: 0, 100116: 0, 100117: 0, 100118: 0, 100119: 0, 100120: 0, 100121: 0, 100122: 0, 100123: 0, 100124: 0, 100125: 0, 100126: 0, 100127: 0, 100128: 0, 100129: 0}\n",
            "2021-12-16 02:07:36,514 [INFO] [run.py (374)] - \t\tprior.loc: 0\n",
            "2021-12-16 02:07:36,516 [INFO] [run.py (375)] - Perturbation prior variances:\n",
            "2021-12-16 02:07:36,517 [INFO] [run.py (377)] - \t\tdof: 2.5\n",
            "2021-12-16 02:07:36,518 [INFO] [run.py (378)] - \t\tscale: 2000.0\n",
            "2021-12-16 02:07:36,520 [INFO] [run.py (379)] - \t\tvalue: 10000.0\n",
            "2021-12-16 02:07:36,522 [INFO] [run.py (377)] - \t\tdof: 2.5\n",
            "2021-12-16 02:07:36,523 [INFO] [run.py (378)] - \t\tscale: 2000.0\n",
            "2021-12-16 02:07:36,525 [INFO] [run.py (379)] - \t\tvalue: 10000.0\n",
            "2021-12-16 02:07:36,526 [INFO] [run.py (377)] - \t\tdof: 2.5\n",
            "2021-12-16 02:07:36,527 [INFO] [run.py (378)] - \t\tscale: 2000.0\n",
            "2021-12-16 02:07:36,528 [INFO] [run.py (379)] - \t\tvalue: 10000.0\n",
            "2021-12-16 02:07:36,530 [INFO] [run.py (380)] - Perturbation indicators:\n",
            "2021-12-16 02:07:36,531 [INFO] [run.py (383)] - \tperturbation High Fat Diet: [False False False False False False False False False False False False\n",
            " False False False]\n",
            "2021-12-16 02:07:36,533 [INFO] [run.py (383)] - \tperturbation Vancomycin: [False False False False False False False False False False False False\n",
            " False False False]\n",
            "2021-12-16 02:07:36,535 [INFO] [run.py (383)] - \tperturbation Gentamicin: [False False False False False False False False False False False False\n",
            " False False False]\n",
            "2021-12-16 02:07:36,536 [INFO] [run.py (384)] - Perturbation indicator probability:\n",
            "2021-12-16 02:07:36,538 [INFO] [run.py (386)] - \tperturbation High Fat Diet\n",
            "2021-12-16 02:07:36,539 [INFO] [run.py (387)] - \t\tvalue: 0.1527842458791451\n",
            "2021-12-16 02:07:36,540 [INFO] [run.py (388)] - \t\tprior.a: 0.5\n",
            "2021-12-16 02:07:36,541 [INFO] [run.py (389)] - \t\tprior.b: 2.772588722239781\n",
            "2021-12-16 02:07:36,542 [INFO] [run.py (386)] - \tperturbation Vancomycin\n",
            "2021-12-16 02:07:36,543 [INFO] [run.py (387)] - \t\tvalue: 0.1527842458791451\n",
            "2021-12-16 02:07:36,544 [INFO] [run.py (388)] - \t\tprior.a: 0.5\n",
            "2021-12-16 02:07:36,545 [INFO] [run.py (389)] - \t\tprior.b: 2.772588722239781\n",
            "2021-12-16 02:07:36,546 [INFO] [run.py (386)] - \tperturbation Gentamicin\n",
            "2021-12-16 02:07:36,547 [INFO] [run.py (387)] - \t\tvalue: 0.1527842458791451\n",
            "2021-12-16 02:07:36,548 [INFO] [run.py (388)] - \t\tprior.a: 0.5\n",
            "2021-12-16 02:07:36,550 [INFO] [run.py (389)] - \t\tprior.b: 2.772588722239781\n",
            "2021-12-16 02:07:36,554 [INFO] [inference.py (591)] - Setting Single Write, Multiple Read Mode\n",
            "2021-12-16 02:07:36,557 [INFO] [inference.py (596)] - Setting the trace of learned parameters\n",
            "2021-12-16 02:07:36,558 [INFO] [inference.py (597)] - #######################################\n",
            "2021-12-16 02:07:36,560 [INFO] [inference.py (599)] - Setting the trace of Cluster interaction indicator parameter\n",
            "2021-12-16 02:07:36,563 [INFO] [inference.py (599)] - Setting the trace of Cluster interaction probability\n",
            "2021-12-16 02:07:36,567 [INFO] [inference.py (599)] - Setting the trace of Perturbation indicator parameter\n",
            "2021-12-16 02:07:36,568 [INFO] [inference.py (599)] - Setting the trace of Probability parameter for the beta prior of the perturbation indicator parameter\n",
            "2021-12-16 02:07:36,574 [INFO] [inference.py (599)] - Setting the trace of Logistic growth parameters (growth, self-interactions, interactions/perturbations)\n",
            "2021-12-16 02:07:36,601 [INFO] [inference.py (599)] - Setting the trace of Mean parameter for the normal prior of the interaction parameter\n",
            "2021-12-16 02:07:36,605 [INFO] [inference.py (599)] - Setting the trace of Mean parameter for the normal prior of the perturbation parameter\n",
            "2021-12-16 02:07:36,616 [INFO] [inference.py (599)] - Setting the trace of Mean parameter for the truncated normal prior of the growth parameter\n",
            "2021-12-16 02:07:36,626 [INFO] [inference.py (599)] - Setting the trace of Mean parameter for the truncated normal prior of the self-interaction parameter\n",
            "2021-12-16 02:07:36,630 [INFO] [inference.py (599)] - Setting the trace of Variance parameter for the normal prior of the interaction parameter\n",
            "2021-12-16 02:07:36,634 [INFO] [inference.py (599)] - Setting the trace of Variance parameter for the normal prior of the perturbation parameter\n",
            "2021-12-16 02:07:36,644 [INFO] [inference.py (599)] - Setting the trace of Process Variance parameter\n",
            "2021-12-16 02:07:36,658 [INFO] [inference.py (599)] - Setting the trace of Filtering\n",
            "2021-12-16 02:07:36,671 [INFO] [inference.py (599)] - Setting the trace of Clustering parameter\n",
            "2021-12-16 02:07:36,678 [INFO] [inference.py (599)] - Setting the trace of Clustering concentration parameter\n",
            "2021-12-16 02:07:36,689 [INFO] [inference.py (601)] - Setting the trace for diagnostic variables\n",
            "2021-12-16 02:07:36,695 [INFO] [inference.py (602)] - ##########################################\n",
            "100%|██████████| 100/100 [01:02<00:00,  1.59it/s]\n",
            "2021-12-16 02:08:39,556 [INFO] [inference.py (510)] - Inference total time: 0.6285957050323486/Gibb step\n",
            "2021-12-16 02:08:39,558 [INFO] [inference.py (514)] - remove local traces\n",
            "2021-12-16 02:08:39,607 [INFO] [run.py (545)] - Denormalizing the parameters\n"
          ]
        }
      ],
      "execution_count": 121,
      "metadata": {
        "id": "fV1uJQnngD8J",
        "outputId": "4615a922-4aac-4fbb-d9db-20a6e85e844c",
        "colab": {
          "base_uri": "https://localhost:8080/"
        }
      }
    },
    {
      "cell_type": "code",
      "source": [
        "# Forward simulate\n",
        "\n",
        "# Get the initial conditions\n",
        "subj = val['8']\n",
        "M_truth = subj.matrix()['abs']\n",
        "initial_conditions = M_truth[:,0]\n",
        "initial_conditions[initial_conditions==0] = 1e5\n",
        "times = subj.times\n",
        "\n",
        "# Forward simulate for each gibb step\n",
        "M = md2.model.gLVDynamicsSingleClustering.forward_sim_from_chain(\n",
        "    mcmc, subj=subj, \n",
        "    initial_conditions=initial_conditions, \n",
        "    times=times, \n",
        "    simulation_dt=0.01\n",
        ")\n"
      ],
      "outputs": [
        {
          "output_type": "stream",
          "name": "stdout",
          "text": [
            "2021-12-16 02:09:16,912 [INFO] [model.py (215)] - 5/50 - 0.5103380680084229\n",
            "2021-12-16 02:09:17,449 [INFO] [model.py (215)] - 10/50 - 0.5357308387756348\n",
            "2021-12-16 02:09:17,967 [INFO] [model.py (215)] - 15/50 - 0.515347957611084\n",
            "2021-12-16 02:09:18,485 [INFO] [model.py (215)] - 20/50 - 0.5162489414215088\n",
            "2021-12-16 02:09:19,001 [INFO] [model.py (215)] - 25/50 - 0.5142722129821777\n",
            "2021-12-16 02:09:19,525 [INFO] [model.py (215)] - 30/50 - 0.5218789577484131\n",
            "2021-12-16 02:09:20,056 [INFO] [model.py (215)] - 35/50 - 0.528860330581665\n",
            "2021-12-16 02:09:20,596 [INFO] [model.py (215)] - 40/50 - 0.5376591682434082\n",
            "2021-12-16 02:09:21,135 [INFO] [model.py (215)] - 45/50 - 0.5367293357849121\n"
          ]
        }
      ],
      "execution_count": 124,
      "metadata": {
        "id": "noW8mM9_gD8K",
        "outputId": "ba696746-67cc-4a7e-86ee-700f46bfab95",
        "colab": {
          "base_uri": "https://localhost:8080/"
        }
      }
    },
    {
      "cell_type": "code",
      "source": [
        "# Plot the forward sims, 5th-95th percentile\n",
        "taxa = subj.taxa\n",
        "\n",
        "low = np.percentile(M, q=5, axis=0)\n",
        "high = np.percentile(M, q=95, axis=0)\n",
        "med = np.percentile(M, q=50, axis=0)\n",
        "\n",
        "oidx = 3 # OTU 4\n",
        "\n",
        "fig = plt.figure()\n",
        "ax = fig.add_subplot(111)\n",
        "ax.fill_between(times, y1=low[oidx, :], y2=high[oidx, :], alpha=0.2)\n",
        "ax.plot(times, med[oidx,:], label='Forward Sim')\n",
        "ax.plot(times, M_truth[oidx, :], label='Data', marker='x', color='black',\n",
        "       linestyle=':')\n",
        "ax.set_yscale('log')\n",
        "\n",
        "md2.visualization.shade_in_perturbations(ax, perturbations=subj.perturbations, subj=subj)\n",
        "ax.set_ylim(bottom=1e5, top=1e12)\n",
        "\n",
        "ax.legend()\n",
        "\n",
        "fig.suptitle(md2.taxaname_for_paper(taxa[oidx], taxa))\n",
        "plt.show()"
      ],
      "outputs": [
        {
          "output_type": "display_data",
          "data": {
            "image/png": "[encoded data removed]",
            "text/plain": "<Figure size 432x288 with 2 Axes>"
          },
          "metadata": {
            "needs_background": "light"
          }
        }
      ],
      "execution_count": 126,
      "metadata": {
        "id": "8bufC_NngD8K",
        "outputId": "5f7ebcee-91d1-46dd-ee29-79d7a3a057e3",
        "colab": {
          "base_uri": "https://localhost:8080/",
          "height": 294
        }
      }
    },
    {
      "cell_type": "code",
      "source": [],
      "outputs": [],
      "execution_count": null,
      "metadata": {
        "id": "_Kxr5fuYvvwa"
      }
    }
  ],
  "metadata": {
    "kernelspec": {
      "display_name": "Python 3",
      "language": "python",
      "name": "python3"
    },
    "language_info": {
      "codemirror_mode": {
        "name": "ipython",
        "version": 3
      },
      "file_extension": ".py",
      "mimetype": "text/x-python",
      "name": "python",
      "nbconvert_exporter": "python",
      "pygments_lexer": "ipython3",
      "version": "3.7.3"
    },
    "colab": {
      "name": "tutorial2_inference.ipynb",
      "provenance": [],
      "collapsed_sections": []
    },
    "nteract": {
      "version": "0.28.0"
    }
  },
  "nbformat": 4,
  "nbformat_minor": 0
}